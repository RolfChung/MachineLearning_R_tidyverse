{
 "cells": [
  {
   "cell_type": "markdown",
   "metadata": {},
   "source": [
    "#### Summary\n",
    "\n",
    "\n",
    "This project leverages the tools in the \"tidyverse\" to generate, explore, and evaluate machine learning models. Using a combination of tidyr and purrr packages allows to build complex model objects in a \"tidy\" way. Also it leverages the broom package to explore resulting models. Then tools in the test-train-validate workflow are employed, which will empower to evaluate the performance of both classification and regression models as well as provide the necessary information to optimize model performance via hyperparameter tuning. The gapminder data set is used for these purposes."
   ]
  },
  {
   "cell_type": "markdown",
   "metadata": {},
   "source": [
    "#### Install packages"
   ]
  },
  {
   "cell_type": "code",
   "execution_count": 1,
   "metadata": {},
   "outputs": [],
   "source": [
    "# An evolution of 'reshape2'. It's designed specifically for data\n",
    "# tidying (not general reshaping or aggregating) and works well with 'dplyr' data pipelines.\n",
    "# https://cran.r-project.org/web/packages/tidyr/tidyr.pdf\n",
    "# install.packages(\"tidyverse\", repos='http://cran.us.r-project.org')"
   ]
  },
  {
   "cell_type": "code",
   "execution_count": 2,
   "metadata": {},
   "outputs": [
    {
     "name": "stderr",
     "output_type": "stream",
     "text": [
      "Warning message:\n",
      "\"package 'tidyverse' was built under R version 3.5.2\"-- \u001b[1mAttaching packages\u001b[22m --------------------------------------- tidyverse 1.2.1 --\n",
      "\u001b[32mv\u001b[39m \u001b[34mggplot2\u001b[39m 3.1.0     \u001b[32mv\u001b[39m \u001b[34mpurrr  \u001b[39m 0.2.5\n",
      "\u001b[32mv\u001b[39m \u001b[34mtibble \u001b[39m 1.4.2     \u001b[32mv\u001b[39m \u001b[34mdplyr  \u001b[39m 0.7.8\n",
      "\u001b[32mv\u001b[39m \u001b[34mtidyr  \u001b[39m 0.8.2     \u001b[32mv\u001b[39m \u001b[34mstringr\u001b[39m 1.3.1\n",
      "\u001b[32mv\u001b[39m \u001b[34mreadr  \u001b[39m 1.3.1     \u001b[32mv\u001b[39m \u001b[34mforcats\u001b[39m 0.4.0\n",
      "Warning message:\n",
      "\"package 'readr' was built under R version 3.5.2\"Warning message:\n",
      "\"package 'forcats' was built under R version 3.5.2\"-- \u001b[1mConflicts\u001b[22m ------------------------------------------ tidyverse_conflicts() --\n",
      "\u001b[31mx\u001b[39m \u001b[34mdplyr\u001b[39m::\u001b[32mfilter()\u001b[39m masks \u001b[34mstats\u001b[39m::filter()\n",
      "\u001b[31mx\u001b[39m \u001b[34mdplyr\u001b[39m::\u001b[32mlag()\u001b[39m    masks \u001b[34mstats\u001b[39m::lag()\n"
     ]
    }
   ],
   "source": [
    "library(\"tidyverse\")"
   ]
  },
  {
   "cell_type": "code",
   "execution_count": 3,
   "metadata": {},
   "outputs": [],
   "source": [
    "# https://cran.r-project.org/web/packages/dslabs/dslabs.pdf\n",
    "# Package ‘dslabs’\n",
    "# Description Datasets and functions that can be used for data analysis practice, homework\n",
    "# and projects in data science courses and workshops\n",
    "# install.packages(\"dslabs\", repos='http://cran.us.r-project.org')\n"
   ]
  },
  {
   "cell_type": "code",
   "execution_count": 4,
   "metadata": {},
   "outputs": [
    {
     "name": "stderr",
     "output_type": "stream",
     "text": [
      "Warning message:\n",
      "\"package 'dslabs' was built under R version 3.5.2\""
     ]
    }
   ],
   "source": [
    "library(dslabs)"
   ]
  },
  {
   "cell_type": "code",
   "execution_count": 5,
   "metadata": {},
   "outputs": [
    {
     "data": {
      "text/html": [
       "<ol class=list-inline>\n",
       "\t<li>'broom'</li>\n",
       "\t<li>'cli'</li>\n",
       "\t<li>'crayon'</li>\n",
       "\t<li>'dplyr'</li>\n",
       "\t<li>'dbplyr'</li>\n",
       "\t<li>'forcats'</li>\n",
       "\t<li>'ggplot2'</li>\n",
       "\t<li>'haven'</li>\n",
       "\t<li>'hms'</li>\n",
       "\t<li>'httr'</li>\n",
       "\t<li>'jsonlite'</li>\n",
       "\t<li>'lubridate'</li>\n",
       "\t<li>'magrittr'</li>\n",
       "\t<li>'modelr'</li>\n",
       "\t<li>'purrr'</li>\n",
       "\t<li>'readr'</li>\n",
       "\t<li>'readxl\\n(&gt;='</li>\n",
       "\t<li>'reprex'</li>\n",
       "\t<li>'rlang'</li>\n",
       "\t<li>'rstudioapi'</li>\n",
       "\t<li>'rvest'</li>\n",
       "\t<li>'stringr'</li>\n",
       "\t<li>'tibble'</li>\n",
       "\t<li>'tidyr'</li>\n",
       "\t<li>'xml2'</li>\n",
       "\t<li>'tidyverse'</li>\n",
       "</ol>\n"
      ],
      "text/latex": [
       "\\begin{enumerate*}\n",
       "\\item 'broom'\n",
       "\\item 'cli'\n",
       "\\item 'crayon'\n",
       "\\item 'dplyr'\n",
       "\\item 'dbplyr'\n",
       "\\item 'forcats'\n",
       "\\item 'ggplot2'\n",
       "\\item 'haven'\n",
       "\\item 'hms'\n",
       "\\item 'httr'\n",
       "\\item 'jsonlite'\n",
       "\\item 'lubridate'\n",
       "\\item 'magrittr'\n",
       "\\item 'modelr'\n",
       "\\item 'purrr'\n",
       "\\item 'readr'\n",
       "\\item 'readxl\\textbackslash{}n(>='\n",
       "\\item 'reprex'\n",
       "\\item 'rlang'\n",
       "\\item 'rstudioapi'\n",
       "\\item 'rvest'\n",
       "\\item 'stringr'\n",
       "\\item 'tibble'\n",
       "\\item 'tidyr'\n",
       "\\item 'xml2'\n",
       "\\item 'tidyverse'\n",
       "\\end{enumerate*}\n"
      ],
      "text/markdown": [
       "1. 'broom'\n",
       "2. 'cli'\n",
       "3. 'crayon'\n",
       "4. 'dplyr'\n",
       "5. 'dbplyr'\n",
       "6. 'forcats'\n",
       "7. 'ggplot2'\n",
       "8. 'haven'\n",
       "9. 'hms'\n",
       "10. 'httr'\n",
       "11. 'jsonlite'\n",
       "12. 'lubridate'\n",
       "13. 'magrittr'\n",
       "14. 'modelr'\n",
       "15. 'purrr'\n",
       "16. 'readr'\n",
       "17. 'readxl\\n(&gt;='\n",
       "18. 'reprex'\n",
       "19. 'rlang'\n",
       "20. 'rstudioapi'\n",
       "21. 'rvest'\n",
       "22. 'stringr'\n",
       "23. 'tibble'\n",
       "24. 'tidyr'\n",
       "25. 'xml2'\n",
       "26. 'tidyverse'\n",
       "\n",
       "\n"
      ],
      "text/plain": [
       " [1] \"broom\"       \"cli\"         \"crayon\"      \"dplyr\"       \"dbplyr\"     \n",
       " [6] \"forcats\"     \"ggplot2\"     \"haven\"       \"hms\"         \"httr\"       \n",
       "[11] \"jsonlite\"    \"lubridate\"   \"magrittr\"    \"modelr\"      \"purrr\"      \n",
       "[16] \"readr\"       \"readxl\\n(>=\" \"reprex\"      \"rlang\"       \"rstudioapi\" \n",
       "[21] \"rvest\"       \"stringr\"     \"tibble\"      \"tidyr\"       \"xml2\"       \n",
       "[26] \"tidyverse\"  "
      ]
     },
     "metadata": {},
     "output_type": "display_data"
    }
   ],
   "source": [
    "tidyverse_packages()"
   ]
  },
  {
   "cell_type": "code",
   "execution_count": 6,
   "metadata": {},
   "outputs": [],
   "source": [
    "# install.packages(\"moments\", repos='http://cran.us.r-project.org')"
   ]
  },
  {
   "cell_type": "code",
   "execution_count": 7,
   "metadata": {},
   "outputs": [
    {
     "name": "stderr",
     "output_type": "stream",
     "text": [
      "Warning message:\n",
      "\"package 'rsample' was built under R version 3.5.2\"\n",
      "Attaching package: 'rsample'\n",
      "\n",
      "The following object is masked from 'package:tidyr':\n",
      "\n",
      "    fill\n",
      "\n"
     ]
    }
   ],
   "source": [
    "# install.packages(\"rsample\", repos='http://cran.us.r-project.org')\n",
    "library(rsample)"
   ]
  },
  {
   "cell_type": "code",
   "execution_count": 8,
   "metadata": {},
   "outputs": [
    {
     "name": "stderr",
     "output_type": "stream",
     "text": [
      "Warning message:\n",
      "\"package 'Metrics' was built under R version 3.5.2\""
     ]
    }
   ],
   "source": [
    "# install.packages(\"Metrics\", repos='http://cran.us.r-project.org')\n",
    "library(Metrics)"
   ]
  },
  {
   "cell_type": "code",
   "execution_count": 9,
   "metadata": {},
   "outputs": [],
   "source": [
    "# install.packages(\"nnet\", repos='http://cran.us.r-project.org')\n",
    "library(nnet)"
   ]
  },
  {
   "cell_type": "code",
   "execution_count": 10,
   "metadata": {},
   "outputs": [
    {
     "name": "stderr",
     "output_type": "stream",
     "text": [
      "Loading required package: lattice\n",
      "\n",
      "Attaching package: 'caret'\n",
      "\n",
      "The following objects are masked from 'package:Metrics':\n",
      "\n",
      "    precision, recall\n",
      "\n",
      "The following object is masked from 'package:purrr':\n",
      "\n",
      "    lift\n",
      "\n"
     ]
    }
   ],
   "source": [
    "# install.packages(\"caret\", repos='http://cran.us.r-project.org')\n",
    "library(caret)"
   ]
  },
  {
   "cell_type": "code",
   "execution_count": 11,
   "metadata": {},
   "outputs": [
    {
     "name": "stderr",
     "output_type": "stream",
     "text": [
      "Warning message:\n",
      "\"package 'e1071' was built under R version 3.5.2\""
     ]
    }
   ],
   "source": [
    "# install.packages(\"e1071\", repos='http://cran.us.r-project.org')\n",
    "library(e1071)"
   ]
  },
  {
   "cell_type": "code",
   "execution_count": 12,
   "metadata": {},
   "outputs": [
    {
     "name": "stderr",
     "output_type": "stream",
     "text": [
      "Warning message:\n",
      "\"package 'ranger' was built under R version 3.5.2\""
     ]
    }
   ],
   "source": [
    "# install.packages(\"ranger\", repos='http://cran.us.r-project.org')\n",
    "library(ranger)"
   ]
  },
  {
   "cell_type": "code",
   "execution_count": 13,
   "metadata": {},
   "outputs": [
    {
     "name": "stderr",
     "output_type": "stream",
     "text": [
      "Warning message:\n",
      "\"package 'pROC' was built under R version 3.5.2\"Type 'citation(\"pROC\")' for a citation.\n",
      "\n",
      "Attaching package: 'pROC'\n",
      "\n",
      "The following object is masked from 'package:Metrics':\n",
      "\n",
      "    auc\n",
      "\n",
      "The following objects are masked from 'package:stats':\n",
      "\n",
      "    cov, smooth, var\n",
      "\n"
     ]
    }
   ],
   "source": [
    "# install.packages(\"pROC\", repos='http://cran.us.r-project.org')\n",
    "library(pROC)\n",
    "\n"
   ]
  },
  {
   "cell_type": "markdown",
   "metadata": {},
   "source": [
    "#### Explorative Data Analysis - Look at the data"
   ]
  },
  {
   "cell_type": "code",
   "execution_count": 14,
   "metadata": {},
   "outputs": [],
   "source": [
    "# Load the gapminder data set\n",
    "# In 'dslabs' this data set is a subset of the full gapmider data set\n",
    "# Health and income outcomes for 184 countries from 1960 to 2016. Also includes two character\n",
    "# vectors, oecd and opec, with the names of OECD and OPEC countries from 2016.\n",
    "data(gapminder)"
   ]
  },
  {
   "cell_type": "code",
   "execution_count": 15,
   "metadata": {},
   "outputs": [
    {
     "name": "stdout",
     "output_type": "stream",
     "text": [
      "Observations: 10,545\n",
      "Variables: 9\n",
      "$ country          <fct> Albania, Algeria, Angola, Antigua and Barbuda, Arg...\n",
      "$ year             <int> 1960, 1960, 1960, 1960, 1960, 1960, 1960, 1960, 19...\n",
      "$ infant_mortality <dbl> 115.40, 148.20, 208.00, NA, 59.87, NA, NA, 20.30, ...\n",
      "$ life_expectancy  <dbl> 62.87, 47.50, 35.98, 62.97, 65.39, 66.86, 65.66, 7...\n",
      "$ fertility        <dbl> 6.19, 7.65, 7.32, 4.43, 3.11, 4.55, 4.82, 3.45, 2....\n",
      "$ population       <dbl> 1636054, 11124892, 5270844, 54681, 20619075, 18673...\n",
      "$ gdp              <dbl> NA, 13828152297, NA, NA, 108322326649, NA, NA, 966...\n",
      "$ continent        <fct> Europe, Africa, Africa, Americas, Americas, Asia, ...\n",
      "$ region           <fct> Southern Europe, Northern Africa, Middle Africa, C...\n"
     ]
    }
   ],
   "source": [
    "glimpse(gapminder )"
   ]
  },
  {
   "cell_type": "code",
   "execution_count": 16,
   "metadata": {},
   "outputs": [
    {
     "data": {
      "text/html": [
       "<ol class=list-inline>\n",
       "\t<li>'Africa'</li>\n",
       "\t<li>'Americas'</li>\n",
       "\t<li>'Asia'</li>\n",
       "\t<li>'Europe'</li>\n",
       "\t<li>'Oceania'</li>\n",
       "</ol>\n"
      ],
      "text/latex": [
       "\\begin{enumerate*}\n",
       "\\item 'Africa'\n",
       "\\item 'Americas'\n",
       "\\item 'Asia'\n",
       "\\item 'Europe'\n",
       "\\item 'Oceania'\n",
       "\\end{enumerate*}\n"
      ],
      "text/markdown": [
       "1. 'Africa'\n",
       "2. 'Americas'\n",
       "3. 'Asia'\n",
       "4. 'Europe'\n",
       "5. 'Oceania'\n",
       "\n",
       "\n"
      ],
      "text/plain": [
       "[1] \"Africa\"   \"Americas\" \"Asia\"     \"Europe\"   \"Oceania\" "
      ]
     },
     "metadata": {},
     "output_type": "display_data"
    },
    {
     "data": {
      "text/html": [
       "<ol class=list-inline>\n",
       "\t<li>'Australia and New Zealand'</li>\n",
       "\t<li>'Caribbean'</li>\n",
       "\t<li>'Central America'</li>\n",
       "\t<li>'Central Asia'</li>\n",
       "\t<li>'Eastern Africa'</li>\n",
       "\t<li>'Eastern Asia'</li>\n",
       "\t<li>'Eastern Europe'</li>\n",
       "\t<li>'Melanesia'</li>\n",
       "\t<li>'Micronesia'</li>\n",
       "\t<li>'Middle Africa'</li>\n",
       "\t<li>'Northern Africa'</li>\n",
       "\t<li>'Northern America'</li>\n",
       "\t<li>'Northern Europe'</li>\n",
       "\t<li>'Polynesia'</li>\n",
       "\t<li>'South America'</li>\n",
       "\t<li>'South-Eastern Asia'</li>\n",
       "\t<li>'Southern Africa'</li>\n",
       "\t<li>'Southern Asia'</li>\n",
       "\t<li>'Southern Europe'</li>\n",
       "\t<li>'Western Africa'</li>\n",
       "\t<li>'Western Asia'</li>\n",
       "\t<li>'Western Europe'</li>\n",
       "</ol>\n"
      ],
      "text/latex": [
       "\\begin{enumerate*}\n",
       "\\item 'Australia and New Zealand'\n",
       "\\item 'Caribbean'\n",
       "\\item 'Central America'\n",
       "\\item 'Central Asia'\n",
       "\\item 'Eastern Africa'\n",
       "\\item 'Eastern Asia'\n",
       "\\item 'Eastern Europe'\n",
       "\\item 'Melanesia'\n",
       "\\item 'Micronesia'\n",
       "\\item 'Middle Africa'\n",
       "\\item 'Northern Africa'\n",
       "\\item 'Northern America'\n",
       "\\item 'Northern Europe'\n",
       "\\item 'Polynesia'\n",
       "\\item 'South America'\n",
       "\\item 'South-Eastern Asia'\n",
       "\\item 'Southern Africa'\n",
       "\\item 'Southern Asia'\n",
       "\\item 'Southern Europe'\n",
       "\\item 'Western Africa'\n",
       "\\item 'Western Asia'\n",
       "\\item 'Western Europe'\n",
       "\\end{enumerate*}\n"
      ],
      "text/markdown": [
       "1. 'Australia and New Zealand'\n",
       "2. 'Caribbean'\n",
       "3. 'Central America'\n",
       "4. 'Central Asia'\n",
       "5. 'Eastern Africa'\n",
       "6. 'Eastern Asia'\n",
       "7. 'Eastern Europe'\n",
       "8. 'Melanesia'\n",
       "9. 'Micronesia'\n",
       "10. 'Middle Africa'\n",
       "11. 'Northern Africa'\n",
       "12. 'Northern America'\n",
       "13. 'Northern Europe'\n",
       "14. 'Polynesia'\n",
       "15. 'South America'\n",
       "16. 'South-Eastern Asia'\n",
       "17. 'Southern Africa'\n",
       "18. 'Southern Asia'\n",
       "19. 'Southern Europe'\n",
       "20. 'Western Africa'\n",
       "21. 'Western Asia'\n",
       "22. 'Western Europe'\n",
       "\n",
       "\n"
      ],
      "text/plain": [
       " [1] \"Australia and New Zealand\" \"Caribbean\"                \n",
       " [3] \"Central America\"           \"Central Asia\"             \n",
       " [5] \"Eastern Africa\"            \"Eastern Asia\"             \n",
       " [7] \"Eastern Europe\"            \"Melanesia\"                \n",
       " [9] \"Micronesia\"                \"Middle Africa\"            \n",
       "[11] \"Northern Africa\"           \"Northern America\"         \n",
       "[13] \"Northern Europe\"           \"Polynesia\"                \n",
       "[15] \"South America\"             \"South-Eastern Asia\"       \n",
       "[17] \"Southern Africa\"           \"Southern Asia\"            \n",
       "[19] \"Southern Europe\"           \"Western Africa\"           \n",
       "[21] \"Western Asia\"              \"Western Europe\"           "
      ]
     },
     "metadata": {},
     "output_type": "display_data"
    },
    {
     "data": {
      "text/html": [
       "<ol class=list-inline>\n",
       "\t<li>'Albania'</li>\n",
       "\t<li>'Algeria'</li>\n",
       "\t<li>'Angola'</li>\n",
       "\t<li>'Antigua and Barbuda'</li>\n",
       "\t<li>'Argentina'</li>\n",
       "\t<li>'Armenia'</li>\n",
       "\t<li>'Aruba'</li>\n",
       "\t<li>'Australia'</li>\n",
       "\t<li>'Austria'</li>\n",
       "\t<li>'Azerbaijan'</li>\n",
       "\t<li>'Bahamas'</li>\n",
       "\t<li>'Bahrain'</li>\n",
       "\t<li>'Bangladesh'</li>\n",
       "\t<li>'Barbados'</li>\n",
       "\t<li>'Belarus'</li>\n",
       "\t<li>'Belgium'</li>\n",
       "\t<li>'Belize'</li>\n",
       "\t<li>'Benin'</li>\n",
       "\t<li>'Bhutan'</li>\n",
       "\t<li>'Bolivia'</li>\n",
       "\t<li>'Bosnia and Herzegovina'</li>\n",
       "\t<li>'Botswana'</li>\n",
       "\t<li>'Brazil'</li>\n",
       "\t<li>'Brunei'</li>\n",
       "\t<li>'Bulgaria'</li>\n",
       "\t<li>'Burkina Faso'</li>\n",
       "\t<li>'Burundi'</li>\n",
       "\t<li>'Cambodia'</li>\n",
       "\t<li>'Cameroon'</li>\n",
       "\t<li>'Canada'</li>\n",
       "\t<li>'Cape Verde'</li>\n",
       "\t<li>'Central African Republic'</li>\n",
       "\t<li>'Chad'</li>\n",
       "\t<li>'Chile'</li>\n",
       "\t<li>'China'</li>\n",
       "\t<li>'Colombia'</li>\n",
       "\t<li>'Comoros'</li>\n",
       "\t<li>'Congo, Dem. Rep.'</li>\n",
       "\t<li>'Congo, Rep.'</li>\n",
       "\t<li>'Costa Rica'</li>\n",
       "\t<li>'Cote d\\'Ivoire'</li>\n",
       "\t<li>'Croatia'</li>\n",
       "\t<li>'Cuba'</li>\n",
       "\t<li>'Cyprus'</li>\n",
       "\t<li>'Czech Republic'</li>\n",
       "\t<li>'Denmark'</li>\n",
       "\t<li>'Djibouti'</li>\n",
       "\t<li>'Dominican Republic'</li>\n",
       "\t<li>'Ecuador'</li>\n",
       "\t<li>'Egypt'</li>\n",
       "\t<li>'El Salvador'</li>\n",
       "\t<li>'Equatorial Guinea'</li>\n",
       "\t<li>'Eritrea'</li>\n",
       "\t<li>'Estonia'</li>\n",
       "\t<li>'Ethiopia'</li>\n",
       "\t<li>'Fiji'</li>\n",
       "\t<li>'Finland'</li>\n",
       "\t<li>'France'</li>\n",
       "\t<li>'French Polynesia'</li>\n",
       "\t<li>'Gabon'</li>\n",
       "\t<li>'Gambia'</li>\n",
       "\t<li>'Georgia'</li>\n",
       "\t<li>'Germany'</li>\n",
       "\t<li>'Ghana'</li>\n",
       "\t<li>'Greece'</li>\n",
       "\t<li>'Greenland'</li>\n",
       "\t<li>'Grenada'</li>\n",
       "\t<li>'Guatemala'</li>\n",
       "\t<li>'Guinea'</li>\n",
       "\t<li>'Guinea-Bissau'</li>\n",
       "\t<li>'Guyana'</li>\n",
       "\t<li>'Haiti'</li>\n",
       "\t<li>'Honduras'</li>\n",
       "\t<li>'Hong Kong, China'</li>\n",
       "\t<li>'Hungary'</li>\n",
       "\t<li>'Iceland'</li>\n",
       "\t<li>'India'</li>\n",
       "\t<li>'Indonesia'</li>\n",
       "\t<li>'Iran'</li>\n",
       "\t<li>'Iraq'</li>\n",
       "\t<li>'Ireland'</li>\n",
       "\t<li>'Israel'</li>\n",
       "\t<li>'Italy'</li>\n",
       "\t<li>'Jamaica'</li>\n",
       "\t<li>'Japan'</li>\n",
       "\t<li>'Jordan'</li>\n",
       "\t<li>'Kazakhstan'</li>\n",
       "\t<li>'Kenya'</li>\n",
       "\t<li>'Kiribati'</li>\n",
       "\t<li>'Kuwait'</li>\n",
       "\t<li>'Kyrgyz Republic'</li>\n",
       "\t<li>'Lao'</li>\n",
       "\t<li>'Latvia'</li>\n",
       "\t<li>'Lebanon'</li>\n",
       "\t<li>'Lesotho'</li>\n",
       "\t<li>'Liberia'</li>\n",
       "\t<li>'Libya'</li>\n",
       "\t<li>'Lithuania'</li>\n",
       "\t<li>'Luxembourg'</li>\n",
       "\t<li>'Macao, China'</li>\n",
       "\t<li>'Macedonia, FYR'</li>\n",
       "\t<li>'Madagascar'</li>\n",
       "\t<li>'Malawi'</li>\n",
       "\t<li>'Malaysia'</li>\n",
       "\t<li>'Maldives'</li>\n",
       "\t<li>'Mali'</li>\n",
       "\t<li>'Malta'</li>\n",
       "\t<li>'Mauritania'</li>\n",
       "\t<li>'Mauritius'</li>\n",
       "\t<li>'Mexico'</li>\n",
       "\t<li>'Micronesia, Fed. Sts.'</li>\n",
       "\t<li>'Moldova'</li>\n",
       "\t<li>'Mongolia'</li>\n",
       "\t<li>'Montenegro'</li>\n",
       "\t<li>'Morocco'</li>\n",
       "\t<li>'Mozambique'</li>\n",
       "\t<li>'Namibia'</li>\n",
       "\t<li>'Nepal'</li>\n",
       "\t<li>'Netherlands'</li>\n",
       "\t<li>'New Caledonia'</li>\n",
       "\t<li>'New Zealand'</li>\n",
       "\t<li>'Nicaragua'</li>\n",
       "\t<li>'Niger'</li>\n",
       "\t<li>'Nigeria'</li>\n",
       "\t<li>'Norway'</li>\n",
       "\t<li>'Oman'</li>\n",
       "\t<li>'Pakistan'</li>\n",
       "\t<li>'Panama'</li>\n",
       "\t<li>'Papua New Guinea'</li>\n",
       "\t<li>'Paraguay'</li>\n",
       "\t<li>'Peru'</li>\n",
       "\t<li>'Philippines'</li>\n",
       "\t<li>'Poland'</li>\n",
       "\t<li>'Portugal'</li>\n",
       "\t<li>'Puerto Rico'</li>\n",
       "\t<li>'Qatar'</li>\n",
       "\t<li>'Romania'</li>\n",
       "\t<li>'Russia'</li>\n",
       "\t<li>'Rwanda'</li>\n",
       "\t<li>'Samoa'</li>\n",
       "\t<li>'Saudi Arabia'</li>\n",
       "\t<li>'Senegal'</li>\n",
       "\t<li>'Serbia'</li>\n",
       "\t<li>'Seychelles'</li>\n",
       "\t<li>'Sierra Leone'</li>\n",
       "\t<li>'Singapore'</li>\n",
       "\t<li>'Slovak Republic'</li>\n",
       "\t<li>'Slovenia'</li>\n",
       "\t<li>'Solomon Islands'</li>\n",
       "\t<li>'South Africa'</li>\n",
       "\t<li>'South Korea'</li>\n",
       "\t<li>'Spain'</li>\n",
       "\t<li>'Sri Lanka'</li>\n",
       "\t<li>'St. Lucia'</li>\n",
       "\t<li>'St. Vincent and the Grenadines'</li>\n",
       "\t<li>'Sudan'</li>\n",
       "\t<li>'Suriname'</li>\n",
       "\t<li>'Swaziland'</li>\n",
       "\t<li>'Sweden'</li>\n",
       "\t<li>'Switzerland'</li>\n",
       "\t<li>'Syria'</li>\n",
       "\t<li>'Tajikistan'</li>\n",
       "\t<li>'Tanzania'</li>\n",
       "\t<li>'Thailand'</li>\n",
       "\t<li>'Timor-Leste'</li>\n",
       "\t<li>'Togo'</li>\n",
       "\t<li>'Tonga'</li>\n",
       "\t<li>'Trinidad and Tobago'</li>\n",
       "\t<li>'Tunisia'</li>\n",
       "\t<li>'Turkey'</li>\n",
       "\t<li>'Turkmenistan'</li>\n",
       "\t<li>'Uganda'</li>\n",
       "\t<li>'Ukraine'</li>\n",
       "\t<li>'United Arab Emirates'</li>\n",
       "\t<li>'United Kingdom'</li>\n",
       "\t<li>'United States'</li>\n",
       "\t<li>'Uruguay'</li>\n",
       "\t<li>'Uzbekistan'</li>\n",
       "\t<li>'Vanuatu'</li>\n",
       "\t<li>'Venezuela'</li>\n",
       "\t<li>'Vietnam'</li>\n",
       "\t<li>'West Bank and Gaza'</li>\n",
       "\t<li>'Yemen'</li>\n",
       "\t<li>'Zambia'</li>\n",
       "\t<li>'Zimbabwe'</li>\n",
       "</ol>\n"
      ],
      "text/latex": [
       "\\begin{enumerate*}\n",
       "\\item 'Albania'\n",
       "\\item 'Algeria'\n",
       "\\item 'Angola'\n",
       "\\item 'Antigua and Barbuda'\n",
       "\\item 'Argentina'\n",
       "\\item 'Armenia'\n",
       "\\item 'Aruba'\n",
       "\\item 'Australia'\n",
       "\\item 'Austria'\n",
       "\\item 'Azerbaijan'\n",
       "\\item 'Bahamas'\n",
       "\\item 'Bahrain'\n",
       "\\item 'Bangladesh'\n",
       "\\item 'Barbados'\n",
       "\\item 'Belarus'\n",
       "\\item 'Belgium'\n",
       "\\item 'Belize'\n",
       "\\item 'Benin'\n",
       "\\item 'Bhutan'\n",
       "\\item 'Bolivia'\n",
       "\\item 'Bosnia and Herzegovina'\n",
       "\\item 'Botswana'\n",
       "\\item 'Brazil'\n",
       "\\item 'Brunei'\n",
       "\\item 'Bulgaria'\n",
       "\\item 'Burkina Faso'\n",
       "\\item 'Burundi'\n",
       "\\item 'Cambodia'\n",
       "\\item 'Cameroon'\n",
       "\\item 'Canada'\n",
       "\\item 'Cape Verde'\n",
       "\\item 'Central African Republic'\n",
       "\\item 'Chad'\n",
       "\\item 'Chile'\n",
       "\\item 'China'\n",
       "\\item 'Colombia'\n",
       "\\item 'Comoros'\n",
       "\\item 'Congo, Dem. Rep.'\n",
       "\\item 'Congo, Rep.'\n",
       "\\item 'Costa Rica'\n",
       "\\item 'Cote d\\textbackslash{}'Ivoire'\n",
       "\\item 'Croatia'\n",
       "\\item 'Cuba'\n",
       "\\item 'Cyprus'\n",
       "\\item 'Czech Republic'\n",
       "\\item 'Denmark'\n",
       "\\item 'Djibouti'\n",
       "\\item 'Dominican Republic'\n",
       "\\item 'Ecuador'\n",
       "\\item 'Egypt'\n",
       "\\item 'El Salvador'\n",
       "\\item 'Equatorial Guinea'\n",
       "\\item 'Eritrea'\n",
       "\\item 'Estonia'\n",
       "\\item 'Ethiopia'\n",
       "\\item 'Fiji'\n",
       "\\item 'Finland'\n",
       "\\item 'France'\n",
       "\\item 'French Polynesia'\n",
       "\\item 'Gabon'\n",
       "\\item 'Gambia'\n",
       "\\item 'Georgia'\n",
       "\\item 'Germany'\n",
       "\\item 'Ghana'\n",
       "\\item 'Greece'\n",
       "\\item 'Greenland'\n",
       "\\item 'Grenada'\n",
       "\\item 'Guatemala'\n",
       "\\item 'Guinea'\n",
       "\\item 'Guinea-Bissau'\n",
       "\\item 'Guyana'\n",
       "\\item 'Haiti'\n",
       "\\item 'Honduras'\n",
       "\\item 'Hong Kong, China'\n",
       "\\item 'Hungary'\n",
       "\\item 'Iceland'\n",
       "\\item 'India'\n",
       "\\item 'Indonesia'\n",
       "\\item 'Iran'\n",
       "\\item 'Iraq'\n",
       "\\item 'Ireland'\n",
       "\\item 'Israel'\n",
       "\\item 'Italy'\n",
       "\\item 'Jamaica'\n",
       "\\item 'Japan'\n",
       "\\item 'Jordan'\n",
       "\\item 'Kazakhstan'\n",
       "\\item 'Kenya'\n",
       "\\item 'Kiribati'\n",
       "\\item 'Kuwait'\n",
       "\\item 'Kyrgyz Republic'\n",
       "\\item 'Lao'\n",
       "\\item 'Latvia'\n",
       "\\item 'Lebanon'\n",
       "\\item 'Lesotho'\n",
       "\\item 'Liberia'\n",
       "\\item 'Libya'\n",
       "\\item 'Lithuania'\n",
       "\\item 'Luxembourg'\n",
       "\\item 'Macao, China'\n",
       "\\item 'Macedonia, FYR'\n",
       "\\item 'Madagascar'\n",
       "\\item 'Malawi'\n",
       "\\item 'Malaysia'\n",
       "\\item 'Maldives'\n",
       "\\item 'Mali'\n",
       "\\item 'Malta'\n",
       "\\item 'Mauritania'\n",
       "\\item 'Mauritius'\n",
       "\\item 'Mexico'\n",
       "\\item 'Micronesia, Fed. Sts.'\n",
       "\\item 'Moldova'\n",
       "\\item 'Mongolia'\n",
       "\\item 'Montenegro'\n",
       "\\item 'Morocco'\n",
       "\\item 'Mozambique'\n",
       "\\item 'Namibia'\n",
       "\\item 'Nepal'\n",
       "\\item 'Netherlands'\n",
       "\\item 'New Caledonia'\n",
       "\\item 'New Zealand'\n",
       "\\item 'Nicaragua'\n",
       "\\item 'Niger'\n",
       "\\item 'Nigeria'\n",
       "\\item 'Norway'\n",
       "\\item 'Oman'\n",
       "\\item 'Pakistan'\n",
       "\\item 'Panama'\n",
       "\\item 'Papua New Guinea'\n",
       "\\item 'Paraguay'\n",
       "\\item 'Peru'\n",
       "\\item 'Philippines'\n",
       "\\item 'Poland'\n",
       "\\item 'Portugal'\n",
       "\\item 'Puerto Rico'\n",
       "\\item 'Qatar'\n",
       "\\item 'Romania'\n",
       "\\item 'Russia'\n",
       "\\item 'Rwanda'\n",
       "\\item 'Samoa'\n",
       "\\item 'Saudi Arabia'\n",
       "\\item 'Senegal'\n",
       "\\item 'Serbia'\n",
       "\\item 'Seychelles'\n",
       "\\item 'Sierra Leone'\n",
       "\\item 'Singapore'\n",
       "\\item 'Slovak Republic'\n",
       "\\item 'Slovenia'\n",
       "\\item 'Solomon Islands'\n",
       "\\item 'South Africa'\n",
       "\\item 'South Korea'\n",
       "\\item 'Spain'\n",
       "\\item 'Sri Lanka'\n",
       "\\item 'St. Lucia'\n",
       "\\item 'St. Vincent and the Grenadines'\n",
       "\\item 'Sudan'\n",
       "\\item 'Suriname'\n",
       "\\item 'Swaziland'\n",
       "\\item 'Sweden'\n",
       "\\item 'Switzerland'\n",
       "\\item 'Syria'\n",
       "\\item 'Tajikistan'\n",
       "\\item 'Tanzania'\n",
       "\\item 'Thailand'\n",
       "\\item 'Timor-Leste'\n",
       "\\item 'Togo'\n",
       "\\item 'Tonga'\n",
       "\\item 'Trinidad and Tobago'\n",
       "\\item 'Tunisia'\n",
       "\\item 'Turkey'\n",
       "\\item 'Turkmenistan'\n",
       "\\item 'Uganda'\n",
       "\\item 'Ukraine'\n",
       "\\item 'United Arab Emirates'\n",
       "\\item 'United Kingdom'\n",
       "\\item 'United States'\n",
       "\\item 'Uruguay'\n",
       "\\item 'Uzbekistan'\n",
       "\\item 'Vanuatu'\n",
       "\\item 'Venezuela'\n",
       "\\item 'Vietnam'\n",
       "\\item 'West Bank and Gaza'\n",
       "\\item 'Yemen'\n",
       "\\item 'Zambia'\n",
       "\\item 'Zimbabwe'\n",
       "\\end{enumerate*}\n"
      ],
      "text/markdown": [
       "1. 'Albania'\n",
       "2. 'Algeria'\n",
       "3. 'Angola'\n",
       "4. 'Antigua and Barbuda'\n",
       "5. 'Argentina'\n",
       "6. 'Armenia'\n",
       "7. 'Aruba'\n",
       "8. 'Australia'\n",
       "9. 'Austria'\n",
       "10. 'Azerbaijan'\n",
       "11. 'Bahamas'\n",
       "12. 'Bahrain'\n",
       "13. 'Bangladesh'\n",
       "14. 'Barbados'\n",
       "15. 'Belarus'\n",
       "16. 'Belgium'\n",
       "17. 'Belize'\n",
       "18. 'Benin'\n",
       "19. 'Bhutan'\n",
       "20. 'Bolivia'\n",
       "21. 'Bosnia and Herzegovina'\n",
       "22. 'Botswana'\n",
       "23. 'Brazil'\n",
       "24. 'Brunei'\n",
       "25. 'Bulgaria'\n",
       "26. 'Burkina Faso'\n",
       "27. 'Burundi'\n",
       "28. 'Cambodia'\n",
       "29. 'Cameroon'\n",
       "30. 'Canada'\n",
       "31. 'Cape Verde'\n",
       "32. 'Central African Republic'\n",
       "33. 'Chad'\n",
       "34. 'Chile'\n",
       "35. 'China'\n",
       "36. 'Colombia'\n",
       "37. 'Comoros'\n",
       "38. 'Congo, Dem. Rep.'\n",
       "39. 'Congo, Rep.'\n",
       "40. 'Costa Rica'\n",
       "41. 'Cote d\\'Ivoire'\n",
       "42. 'Croatia'\n",
       "43. 'Cuba'\n",
       "44. 'Cyprus'\n",
       "45. 'Czech Republic'\n",
       "46. 'Denmark'\n",
       "47. 'Djibouti'\n",
       "48. 'Dominican Republic'\n",
       "49. 'Ecuador'\n",
       "50. 'Egypt'\n",
       "51. 'El Salvador'\n",
       "52. 'Equatorial Guinea'\n",
       "53. 'Eritrea'\n",
       "54. 'Estonia'\n",
       "55. 'Ethiopia'\n",
       "56. 'Fiji'\n",
       "57. 'Finland'\n",
       "58. 'France'\n",
       "59. 'French Polynesia'\n",
       "60. 'Gabon'\n",
       "61. 'Gambia'\n",
       "62. 'Georgia'\n",
       "63. 'Germany'\n",
       "64. 'Ghana'\n",
       "65. 'Greece'\n",
       "66. 'Greenland'\n",
       "67. 'Grenada'\n",
       "68. 'Guatemala'\n",
       "69. 'Guinea'\n",
       "70. 'Guinea-Bissau'\n",
       "71. 'Guyana'\n",
       "72. 'Haiti'\n",
       "73. 'Honduras'\n",
       "74. 'Hong Kong, China'\n",
       "75. 'Hungary'\n",
       "76. 'Iceland'\n",
       "77. 'India'\n",
       "78. 'Indonesia'\n",
       "79. 'Iran'\n",
       "80. 'Iraq'\n",
       "81. 'Ireland'\n",
       "82. 'Israel'\n",
       "83. 'Italy'\n",
       "84. 'Jamaica'\n",
       "85. 'Japan'\n",
       "86. 'Jordan'\n",
       "87. 'Kazakhstan'\n",
       "88. 'Kenya'\n",
       "89. 'Kiribati'\n",
       "90. 'Kuwait'\n",
       "91. 'Kyrgyz Republic'\n",
       "92. 'Lao'\n",
       "93. 'Latvia'\n",
       "94. 'Lebanon'\n",
       "95. 'Lesotho'\n",
       "96. 'Liberia'\n",
       "97. 'Libya'\n",
       "98. 'Lithuania'\n",
       "99. 'Luxembourg'\n",
       "100. 'Macao, China'\n",
       "101. 'Macedonia, FYR'\n",
       "102. 'Madagascar'\n",
       "103. 'Malawi'\n",
       "104. 'Malaysia'\n",
       "105. 'Maldives'\n",
       "106. 'Mali'\n",
       "107. 'Malta'\n",
       "108. 'Mauritania'\n",
       "109. 'Mauritius'\n",
       "110. 'Mexico'\n",
       "111. 'Micronesia, Fed. Sts.'\n",
       "112. 'Moldova'\n",
       "113. 'Mongolia'\n",
       "114. 'Montenegro'\n",
       "115. 'Morocco'\n",
       "116. 'Mozambique'\n",
       "117. 'Namibia'\n",
       "118. 'Nepal'\n",
       "119. 'Netherlands'\n",
       "120. 'New Caledonia'\n",
       "121. 'New Zealand'\n",
       "122. 'Nicaragua'\n",
       "123. 'Niger'\n",
       "124. 'Nigeria'\n",
       "125. 'Norway'\n",
       "126. 'Oman'\n",
       "127. 'Pakistan'\n",
       "128. 'Panama'\n",
       "129. 'Papua New Guinea'\n",
       "130. 'Paraguay'\n",
       "131. 'Peru'\n",
       "132. 'Philippines'\n",
       "133. 'Poland'\n",
       "134. 'Portugal'\n",
       "135. 'Puerto Rico'\n",
       "136. 'Qatar'\n",
       "137. 'Romania'\n",
       "138. 'Russia'\n",
       "139. 'Rwanda'\n",
       "140. 'Samoa'\n",
       "141. 'Saudi Arabia'\n",
       "142. 'Senegal'\n",
       "143. 'Serbia'\n",
       "144. 'Seychelles'\n",
       "145. 'Sierra Leone'\n",
       "146. 'Singapore'\n",
       "147. 'Slovak Republic'\n",
       "148. 'Slovenia'\n",
       "149. 'Solomon Islands'\n",
       "150. 'South Africa'\n",
       "151. 'South Korea'\n",
       "152. 'Spain'\n",
       "153. 'Sri Lanka'\n",
       "154. 'St. Lucia'\n",
       "155. 'St. Vincent and the Grenadines'\n",
       "156. 'Sudan'\n",
       "157. 'Suriname'\n",
       "158. 'Swaziland'\n",
       "159. 'Sweden'\n",
       "160. 'Switzerland'\n",
       "161. 'Syria'\n",
       "162. 'Tajikistan'\n",
       "163. 'Tanzania'\n",
       "164. 'Thailand'\n",
       "165. 'Timor-Leste'\n",
       "166. 'Togo'\n",
       "167. 'Tonga'\n",
       "168. 'Trinidad and Tobago'\n",
       "169. 'Tunisia'\n",
       "170. 'Turkey'\n",
       "171. 'Turkmenistan'\n",
       "172. 'Uganda'\n",
       "173. 'Ukraine'\n",
       "174. 'United Arab Emirates'\n",
       "175. 'United Kingdom'\n",
       "176. 'United States'\n",
       "177. 'Uruguay'\n",
       "178. 'Uzbekistan'\n",
       "179. 'Vanuatu'\n",
       "180. 'Venezuela'\n",
       "181. 'Vietnam'\n",
       "182. 'West Bank and Gaza'\n",
       "183. 'Yemen'\n",
       "184. 'Zambia'\n",
       "185. 'Zimbabwe'\n",
       "\n",
       "\n"
      ],
      "text/plain": [
       "  [1] \"Albania\"                        \"Algeria\"                       \n",
       "  [3] \"Angola\"                         \"Antigua and Barbuda\"           \n",
       "  [5] \"Argentina\"                      \"Armenia\"                       \n",
       "  [7] \"Aruba\"                          \"Australia\"                     \n",
       "  [9] \"Austria\"                        \"Azerbaijan\"                    \n",
       " [11] \"Bahamas\"                        \"Bahrain\"                       \n",
       " [13] \"Bangladesh\"                     \"Barbados\"                      \n",
       " [15] \"Belarus\"                        \"Belgium\"                       \n",
       " [17] \"Belize\"                         \"Benin\"                         \n",
       " [19] \"Bhutan\"                         \"Bolivia\"                       \n",
       " [21] \"Bosnia and Herzegovina\"         \"Botswana\"                      \n",
       " [23] \"Brazil\"                         \"Brunei\"                        \n",
       " [25] \"Bulgaria\"                       \"Burkina Faso\"                  \n",
       " [27] \"Burundi\"                        \"Cambodia\"                      \n",
       " [29] \"Cameroon\"                       \"Canada\"                        \n",
       " [31] \"Cape Verde\"                     \"Central African Republic\"      \n",
       " [33] \"Chad\"                           \"Chile\"                         \n",
       " [35] \"China\"                          \"Colombia\"                      \n",
       " [37] \"Comoros\"                        \"Congo, Dem. Rep.\"              \n",
       " [39] \"Congo, Rep.\"                    \"Costa Rica\"                    \n",
       " [41] \"Cote d'Ivoire\"                  \"Croatia\"                       \n",
       " [43] \"Cuba\"                           \"Cyprus\"                        \n",
       " [45] \"Czech Republic\"                 \"Denmark\"                       \n",
       " [47] \"Djibouti\"                       \"Dominican Republic\"            \n",
       " [49] \"Ecuador\"                        \"Egypt\"                         \n",
       " [51] \"El Salvador\"                    \"Equatorial Guinea\"             \n",
       " [53] \"Eritrea\"                        \"Estonia\"                       \n",
       " [55] \"Ethiopia\"                       \"Fiji\"                          \n",
       " [57] \"Finland\"                        \"France\"                        \n",
       " [59] \"French Polynesia\"               \"Gabon\"                         \n",
       " [61] \"Gambia\"                         \"Georgia\"                       \n",
       " [63] \"Germany\"                        \"Ghana\"                         \n",
       " [65] \"Greece\"                         \"Greenland\"                     \n",
       " [67] \"Grenada\"                        \"Guatemala\"                     \n",
       " [69] \"Guinea\"                         \"Guinea-Bissau\"                 \n",
       " [71] \"Guyana\"                         \"Haiti\"                         \n",
       " [73] \"Honduras\"                       \"Hong Kong, China\"              \n",
       " [75] \"Hungary\"                        \"Iceland\"                       \n",
       " [77] \"India\"                          \"Indonesia\"                     \n",
       " [79] \"Iran\"                           \"Iraq\"                          \n",
       " [81] \"Ireland\"                        \"Israel\"                        \n",
       " [83] \"Italy\"                          \"Jamaica\"                       \n",
       " [85] \"Japan\"                          \"Jordan\"                        \n",
       " [87] \"Kazakhstan\"                     \"Kenya\"                         \n",
       " [89] \"Kiribati\"                       \"Kuwait\"                        \n",
       " [91] \"Kyrgyz Republic\"                \"Lao\"                           \n",
       " [93] \"Latvia\"                         \"Lebanon\"                       \n",
       " [95] \"Lesotho\"                        \"Liberia\"                       \n",
       " [97] \"Libya\"                          \"Lithuania\"                     \n",
       " [99] \"Luxembourg\"                     \"Macao, China\"                  \n",
       "[101] \"Macedonia, FYR\"                 \"Madagascar\"                    \n",
       "[103] \"Malawi\"                         \"Malaysia\"                      \n",
       "[105] \"Maldives\"                       \"Mali\"                          \n",
       "[107] \"Malta\"                          \"Mauritania\"                    \n",
       "[109] \"Mauritius\"                      \"Mexico\"                        \n",
       "[111] \"Micronesia, Fed. Sts.\"          \"Moldova\"                       \n",
       "[113] \"Mongolia\"                       \"Montenegro\"                    \n",
       "[115] \"Morocco\"                        \"Mozambique\"                    \n",
       "[117] \"Namibia\"                        \"Nepal\"                         \n",
       "[119] \"Netherlands\"                    \"New Caledonia\"                 \n",
       "[121] \"New Zealand\"                    \"Nicaragua\"                     \n",
       "[123] \"Niger\"                          \"Nigeria\"                       \n",
       "[125] \"Norway\"                         \"Oman\"                          \n",
       "[127] \"Pakistan\"                       \"Panama\"                        \n",
       "[129] \"Papua New Guinea\"               \"Paraguay\"                      \n",
       "[131] \"Peru\"                           \"Philippines\"                   \n",
       "[133] \"Poland\"                         \"Portugal\"                      \n",
       "[135] \"Puerto Rico\"                    \"Qatar\"                         \n",
       "[137] \"Romania\"                        \"Russia\"                        \n",
       "[139] \"Rwanda\"                         \"Samoa\"                         \n",
       "[141] \"Saudi Arabia\"                   \"Senegal\"                       \n",
       "[143] \"Serbia\"                         \"Seychelles\"                    \n",
       "[145] \"Sierra Leone\"                   \"Singapore\"                     \n",
       "[147] \"Slovak Republic\"                \"Slovenia\"                      \n",
       "[149] \"Solomon Islands\"                \"South Africa\"                  \n",
       "[151] \"South Korea\"                    \"Spain\"                         \n",
       "[153] \"Sri Lanka\"                      \"St. Lucia\"                     \n",
       "[155] \"St. Vincent and the Grenadines\" \"Sudan\"                         \n",
       "[157] \"Suriname\"                       \"Swaziland\"                     \n",
       "[159] \"Sweden\"                         \"Switzerland\"                   \n",
       "[161] \"Syria\"                          \"Tajikistan\"                    \n",
       "[163] \"Tanzania\"                       \"Thailand\"                      \n",
       "[165] \"Timor-Leste\"                    \"Togo\"                          \n",
       "[167] \"Tonga\"                          \"Trinidad and Tobago\"           \n",
       "[169] \"Tunisia\"                        \"Turkey\"                        \n",
       "[171] \"Turkmenistan\"                   \"Uganda\"                        \n",
       "[173] \"Ukraine\"                        \"United Arab Emirates\"          \n",
       "[175] \"United Kingdom\"                 \"United States\"                 \n",
       "[177] \"Uruguay\"                        \"Uzbekistan\"                    \n",
       "[179] \"Vanuatu\"                        \"Venezuela\"                     \n",
       "[181] \"Vietnam\"                        \"West Bank and Gaza\"            \n",
       "[183] \"Yemen\"                          \"Zambia\"                        \n",
       "[185] \"Zimbabwe\"                      "
      ]
     },
     "metadata": {},
     "output_type": "display_data"
    },
    {
     "data": {
      "text/html": [
       "<ol class=list-inline>\n",
       "\t<li>1960</li>\n",
       "\t<li>1961</li>\n",
       "\t<li>1962</li>\n",
       "\t<li>1963</li>\n",
       "\t<li>1964</li>\n",
       "\t<li>1965</li>\n",
       "\t<li>1966</li>\n",
       "\t<li>1967</li>\n",
       "\t<li>1968</li>\n",
       "\t<li>1969</li>\n",
       "\t<li>1970</li>\n",
       "\t<li>1971</li>\n",
       "\t<li>1972</li>\n",
       "\t<li>1973</li>\n",
       "\t<li>1974</li>\n",
       "\t<li>1975</li>\n",
       "\t<li>1976</li>\n",
       "\t<li>1977</li>\n",
       "\t<li>1978</li>\n",
       "\t<li>1979</li>\n",
       "\t<li>1980</li>\n",
       "\t<li>1981</li>\n",
       "\t<li>1982</li>\n",
       "\t<li>1983</li>\n",
       "\t<li>1984</li>\n",
       "\t<li>1985</li>\n",
       "\t<li>1986</li>\n",
       "\t<li>1987</li>\n",
       "\t<li>1988</li>\n",
       "\t<li>1989</li>\n",
       "\t<li>1990</li>\n",
       "\t<li>1991</li>\n",
       "\t<li>1992</li>\n",
       "\t<li>1993</li>\n",
       "\t<li>1994</li>\n",
       "\t<li>1995</li>\n",
       "\t<li>1996</li>\n",
       "\t<li>1997</li>\n",
       "\t<li>1998</li>\n",
       "\t<li>1999</li>\n",
       "\t<li>2000</li>\n",
       "\t<li>2001</li>\n",
       "\t<li>2002</li>\n",
       "\t<li>2003</li>\n",
       "\t<li>2004</li>\n",
       "\t<li>2005</li>\n",
       "\t<li>2006</li>\n",
       "\t<li>2007</li>\n",
       "\t<li>2008</li>\n",
       "\t<li>2009</li>\n",
       "\t<li>2010</li>\n",
       "\t<li>2011</li>\n",
       "\t<li>2012</li>\n",
       "\t<li>2013</li>\n",
       "\t<li>2014</li>\n",
       "\t<li>2015</li>\n",
       "\t<li>2016</li>\n",
       "</ol>\n"
      ],
      "text/latex": [
       "\\begin{enumerate*}\n",
       "\\item 1960\n",
       "\\item 1961\n",
       "\\item 1962\n",
       "\\item 1963\n",
       "\\item 1964\n",
       "\\item 1965\n",
       "\\item 1966\n",
       "\\item 1967\n",
       "\\item 1968\n",
       "\\item 1969\n",
       "\\item 1970\n",
       "\\item 1971\n",
       "\\item 1972\n",
       "\\item 1973\n",
       "\\item 1974\n",
       "\\item 1975\n",
       "\\item 1976\n",
       "\\item 1977\n",
       "\\item 1978\n",
       "\\item 1979\n",
       "\\item 1980\n",
       "\\item 1981\n",
       "\\item 1982\n",
       "\\item 1983\n",
       "\\item 1984\n",
       "\\item 1985\n",
       "\\item 1986\n",
       "\\item 1987\n",
       "\\item 1988\n",
       "\\item 1989\n",
       "\\item 1990\n",
       "\\item 1991\n",
       "\\item 1992\n",
       "\\item 1993\n",
       "\\item 1994\n",
       "\\item 1995\n",
       "\\item 1996\n",
       "\\item 1997\n",
       "\\item 1998\n",
       "\\item 1999\n",
       "\\item 2000\n",
       "\\item 2001\n",
       "\\item 2002\n",
       "\\item 2003\n",
       "\\item 2004\n",
       "\\item 2005\n",
       "\\item 2006\n",
       "\\item 2007\n",
       "\\item 2008\n",
       "\\item 2009\n",
       "\\item 2010\n",
       "\\item 2011\n",
       "\\item 2012\n",
       "\\item 2013\n",
       "\\item 2014\n",
       "\\item 2015\n",
       "\\item 2016\n",
       "\\end{enumerate*}\n"
      ],
      "text/markdown": [
       "1. 1960\n",
       "2. 1961\n",
       "3. 1962\n",
       "4. 1963\n",
       "5. 1964\n",
       "6. 1965\n",
       "7. 1966\n",
       "8. 1967\n",
       "9. 1968\n",
       "10. 1969\n",
       "11. 1970\n",
       "12. 1971\n",
       "13. 1972\n",
       "14. 1973\n",
       "15. 1974\n",
       "16. 1975\n",
       "17. 1976\n",
       "18. 1977\n",
       "19. 1978\n",
       "20. 1979\n",
       "21. 1980\n",
       "22. 1981\n",
       "23. 1982\n",
       "24. 1983\n",
       "25. 1984\n",
       "26. 1985\n",
       "27. 1986\n",
       "28. 1987\n",
       "29. 1988\n",
       "30. 1989\n",
       "31. 1990\n",
       "32. 1991\n",
       "33. 1992\n",
       "34. 1993\n",
       "35. 1994\n",
       "36. 1995\n",
       "37. 1996\n",
       "38. 1997\n",
       "39. 1998\n",
       "40. 1999\n",
       "41. 2000\n",
       "42. 2001\n",
       "43. 2002\n",
       "44. 2003\n",
       "45. 2004\n",
       "46. 2005\n",
       "47. 2006\n",
       "48. 2007\n",
       "49. 2008\n",
       "50. 2009\n",
       "51. 2010\n",
       "52. 2011\n",
       "53. 2012\n",
       "54. 2013\n",
       "55. 2014\n",
       "56. 2015\n",
       "57. 2016\n",
       "\n",
       "\n"
      ],
      "text/plain": [
       " [1] 1960 1961 1962 1963 1964 1965 1966 1967 1968 1969 1970 1971 1972 1973 1974\n",
       "[16] 1975 1976 1977 1978 1979 1980 1981 1982 1983 1984 1985 1986 1987 1988 1989\n",
       "[31] 1990 1991 1992 1993 1994 1995 1996 1997 1998 1999 2000 2001 2002 2003 2004\n",
       "[46] 2005 2006 2007 2008 2009 2010 2011 2012 2013 2014 2015 2016"
      ]
     },
     "metadata": {},
     "output_type": "display_data"
    }
   ],
   "source": [
    "levels(gapminder$continent)\n",
    "levels(gapminder$region)\n",
    "levels(gapminder$country)\n",
    "unique(gapminder$year)"
   ]
  },
  {
   "cell_type": "code",
   "execution_count": 17,
   "metadata": {},
   "outputs": [
    {
     "data": {
      "text/html": [
       "<table>\n",
       "<thead><tr><th scope=col>country</th><th scope=col>year</th><th scope=col>infant_mortality</th><th scope=col>life_expectancy</th><th scope=col>fertility</th><th scope=col>population</th><th scope=col>gdp</th><th scope=col>continent</th><th scope=col>region</th></tr></thead>\n",
       "<tbody>\n",
       "\t<tr><td>Albania            </td><td>1960               </td><td>115.40             </td><td>62.87              </td><td>6.19               </td><td> 1636054           </td><td>          NA       </td><td>Europe             </td><td>Southern Europe    </td></tr>\n",
       "\t<tr><td>Algeria            </td><td>1960               </td><td>148.20             </td><td>47.50              </td><td>7.65               </td><td>11124892           </td><td> 13828152297       </td><td>Africa             </td><td>Northern Africa    </td></tr>\n",
       "\t<tr><td>Angola             </td><td>1960               </td><td>208.00             </td><td>35.98              </td><td>7.32               </td><td> 5270844           </td><td>          NA       </td><td>Africa             </td><td>Middle Africa      </td></tr>\n",
       "\t<tr><td>Antigua and Barbuda</td><td>1960               </td><td>    NA             </td><td>62.97              </td><td>4.43               </td><td>   54681           </td><td>          NA       </td><td>Americas           </td><td>Caribbean          </td></tr>\n",
       "\t<tr><td>Argentina          </td><td>1960               </td><td> 59.87             </td><td>65.39              </td><td>3.11               </td><td>20619075           </td><td>108322326649       </td><td>Americas           </td><td>South America      </td></tr>\n",
       "\t<tr><td>Armenia            </td><td>1960               </td><td>    NA             </td><td>66.86              </td><td>4.55               </td><td> 1867396           </td><td>          NA       </td><td>Asia               </td><td>Western Asia       </td></tr>\n",
       "</tbody>\n",
       "</table>\n"
      ],
      "text/latex": [
       "\\begin{tabular}{r|lllllllll}\n",
       " country & year & infant\\_mortality & life\\_expectancy & fertility & population & gdp & continent & region\\\\\n",
       "\\hline\n",
       "\t Albania             & 1960                & 115.40              & 62.87               & 6.19                &  1636054            &           NA        & Europe              & Southern Europe    \\\\\n",
       "\t Algeria             & 1960                & 148.20              & 47.50               & 7.65                & 11124892            &  13828152297        & Africa              & Northern Africa    \\\\\n",
       "\t Angola              & 1960                & 208.00              & 35.98               & 7.32                &  5270844            &           NA        & Africa              & Middle Africa      \\\\\n",
       "\t Antigua and Barbuda & 1960                &     NA              & 62.97               & 4.43                &    54681            &           NA        & Americas            & Caribbean          \\\\\n",
       "\t Argentina           & 1960                &  59.87              & 65.39               & 3.11                & 20619075            & 108322326649        & Americas            & South America      \\\\\n",
       "\t Armenia             & 1960                &     NA              & 66.86               & 4.55                &  1867396            &           NA        & Asia                & Western Asia       \\\\\n",
       "\\end{tabular}\n"
      ],
      "text/markdown": [
       "\n",
       "| country | year | infant_mortality | life_expectancy | fertility | population | gdp | continent | region |\n",
       "|---|---|---|---|---|---|---|---|---|\n",
       "| Albania             | 1960                | 115.40              | 62.87               | 6.19                |  1636054            |           NA        | Europe              | Southern Europe     |\n",
       "| Algeria             | 1960                | 148.20              | 47.50               | 7.65                | 11124892            |  13828152297        | Africa              | Northern Africa     |\n",
       "| Angola              | 1960                | 208.00              | 35.98               | 7.32                |  5270844            |           NA        | Africa              | Middle Africa       |\n",
       "| Antigua and Barbuda | 1960                |     NA              | 62.97               | 4.43                |    54681            |           NA        | Americas            | Caribbean           |\n",
       "| Argentina           | 1960                |  59.87              | 65.39               | 3.11                | 20619075            | 108322326649        | Americas            | South America       |\n",
       "| Armenia             | 1960                |     NA              | 66.86               | 4.55                |  1867396            |           NA        | Asia                | Western Asia        |\n",
       "\n"
      ],
      "text/plain": [
       "  country             year infant_mortality life_expectancy fertility\n",
       "1 Albania             1960 115.40           62.87           6.19     \n",
       "2 Algeria             1960 148.20           47.50           7.65     \n",
       "3 Angola              1960 208.00           35.98           7.32     \n",
       "4 Antigua and Barbuda 1960     NA           62.97           4.43     \n",
       "5 Argentina           1960  59.87           65.39           3.11     \n",
       "6 Armenia             1960     NA           66.86           4.55     \n",
       "  population gdp          continent region         \n",
       "1  1636054             NA Europe    Southern Europe\n",
       "2 11124892    13828152297 Africa    Northern Africa\n",
       "3  5270844             NA Africa    Middle Africa  \n",
       "4    54681             NA Americas  Caribbean      \n",
       "5 20619075   108322326649 Americas  South America  \n",
       "6  1867396             NA Asia      Western Asia   "
      ]
     },
     "metadata": {},
     "output_type": "display_data"
    }
   ],
   "source": [
    "head(gapminder)"
   ]
  },
  {
   "cell_type": "code",
   "execution_count": 18,
   "metadata": {},
   "outputs": [
    {
     "data": {
      "text/plain": [
       "                country           year      infant_mortality life_expectancy\n",
       " Albania            :   57   Min.   :1960   Min.   :  1.50   Min.   :13.20  \n",
       " Algeria            :   57   1st Qu.:1974   1st Qu.: 16.00   1st Qu.:57.50  \n",
       " Angola             :   57   Median :1988   Median : 41.50   Median :67.54  \n",
       " Antigua and Barbuda:   57   Mean   :1988   Mean   : 55.31   Mean   :64.81  \n",
       " Argentina          :   57   3rd Qu.:2002   3rd Qu.: 85.10   3rd Qu.:73.00  \n",
       " Armenia            :   57   Max.   :2016   Max.   :276.90   Max.   :83.90  \n",
       " (Other)            :10203                  NA's   :1453                    \n",
       "   fertility       population             gdp               continent   \n",
       " Min.   :0.840   Min.   :3.124e+04   Min.   :4.040e+07   Africa  :2907  \n",
       " 1st Qu.:2.200   1st Qu.:1.333e+06   1st Qu.:1.846e+09   Americas:2052  \n",
       " Median :3.750   Median :5.009e+06   Median :7.794e+09   Asia    :2679  \n",
       " Mean   :4.084   Mean   :2.701e+07   Mean   :1.480e+11   Europe  :2223  \n",
       " 3rd Qu.:6.000   3rd Qu.:1.523e+07   3rd Qu.:5.540e+10   Oceania : 684  \n",
       " Max.   :9.220   Max.   :1.376e+09   Max.   :1.174e+13                  \n",
       " NA's   :187     NA's   :185         NA's   :2972                       \n",
       "             region    \n",
       " Western Asia   :1026  \n",
       " Eastern Africa : 912  \n",
       " Western Africa : 912  \n",
       " Caribbean      : 741  \n",
       " South America  : 684  \n",
       " Southern Europe: 684  \n",
       " (Other)        :5586  "
      ]
     },
     "metadata": {},
     "output_type": "display_data"
    }
   ],
   "source": [
    "summary(gapminder)"
   ]
  },
  {
   "cell_type": "code",
   "execution_count": 19,
   "metadata": {},
   "outputs": [
    {
     "data": {
      "text/html": [
       "<ol class=list-inline>\n",
       "\t<li>10545</li>\n",
       "\t<li>9</li>\n",
       "</ol>\n"
      ],
      "text/latex": [
       "\\begin{enumerate*}\n",
       "\\item 10545\n",
       "\\item 9\n",
       "\\end{enumerate*}\n"
      ],
      "text/markdown": [
       "1. 10545\n",
       "2. 9\n",
       "\n",
       "\n"
      ],
      "text/plain": [
       "[1] 10545     9"
      ]
     },
     "metadata": {},
     "output_type": "display_data"
    }
   ],
   "source": [
    "dim(gapminder)"
   ]
  },
  {
   "cell_type": "code",
   "execution_count": 20,
   "metadata": {},
   "outputs": [
    {
     "data": {
      "text/html": [
       "<ol class=list-inline>\n",
       "\t<li>'country'</li>\n",
       "\t<li>'year'</li>\n",
       "\t<li>'infant_mortality'</li>\n",
       "\t<li>'life_expectancy'</li>\n",
       "\t<li>'fertility'</li>\n",
       "\t<li>'population'</li>\n",
       "\t<li>'gdp'</li>\n",
       "\t<li>'continent'</li>\n",
       "\t<li>'region'</li>\n",
       "</ol>\n"
      ],
      "text/latex": [
       "\\begin{enumerate*}\n",
       "\\item 'country'\n",
       "\\item 'year'\n",
       "\\item 'infant\\_mortality'\n",
       "\\item 'life\\_expectancy'\n",
       "\\item 'fertility'\n",
       "\\item 'population'\n",
       "\\item 'gdp'\n",
       "\\item 'continent'\n",
       "\\item 'region'\n",
       "\\end{enumerate*}\n"
      ],
      "text/markdown": [
       "1. 'country'\n",
       "2. 'year'\n",
       "3. 'infant_mortality'\n",
       "4. 'life_expectancy'\n",
       "5. 'fertility'\n",
       "6. 'population'\n",
       "7. 'gdp'\n",
       "8. 'continent'\n",
       "9. 'region'\n",
       "\n",
       "\n"
      ],
      "text/plain": [
       "[1] \"country\"          \"year\"             \"infant_mortality\" \"life_expectancy\" \n",
       "[5] \"fertility\"        \"population\"       \"gdp\"              \"continent\"       \n",
       "[9] \"region\"          "
      ]
     },
     "metadata": {},
     "output_type": "display_data"
    }
   ],
   "source": [
    "names(gapminder)"
   ]
  },
  {
   "cell_type": "code",
   "execution_count": 21,
   "metadata": {},
   "outputs": [
    {
     "data": {
      "text/html": [
       "4797"
      ],
      "text/latex": [
       "4797"
      ],
      "text/markdown": [
       "4797"
      ],
      "text/plain": [
       "[1] 4797"
      ]
     },
     "metadata": {},
     "output_type": "display_data"
    }
   ],
   "source": [
    "sum(is.na(gapminder))\n",
    "# a lot of na\n",
    "# Should these be discarded"
   ]
  },
  {
   "cell_type": "code",
   "execution_count": 22,
   "metadata": {},
   "outputs": [
    {
     "name": "stdout",
     "output_type": "stream",
     "text": [
      "Observations: 10,545\n",
      "Variables: 9\n",
      "$ country          <fct> Albania, Algeria, Angola, Antigua and Barbuda, Arg...\n",
      "$ year             <int> 1960, 1960, 1960, 1960, 1960, 1960, 1960, 1960, 19...\n",
      "$ infant_mortality <dbl> 115.40, 148.20, 208.00, NA, 59.87, NA, NA, 20.30, ...\n",
      "$ life_expectancy  <dbl> 62.87, 47.50, 35.98, 62.97, 65.39, 66.86, 65.66, 7...\n",
      "$ fertility        <dbl> 6.19, 7.65, 7.32, 4.43, 3.11, 4.55, 4.82, 3.45, 2....\n",
      "$ population       <dbl> 1636054, 11124892, 5270844, 54681, 20619075, 18673...\n",
      "$ gdp              <dbl> NA, 13828152297, NA, NA, 108322326649, NA, NA, 966...\n",
      "$ continent        <fct> Europe, Africa, Africa, Americas, Americas, Asia, ...\n",
      "$ region           <fct> Southern Europe, Northern Africa, Middle Africa, C...\n"
     ]
    }
   ],
   "source": [
    "gapminder$life_expectancy <- as.numeric(gapminder$life_expectancy)\n",
    "glimpse(gapminder)"
   ]
  },
  {
   "cell_type": "code",
   "execution_count": 23,
   "metadata": {},
   "outputs": [],
   "source": [
    "Freedman_Diaconis <- function (x) \n",
    "{\n",
    "    h <- stats::IQR(x)\n",
    "    if (h == 0) \n",
    "        h <- stats::mad(x, constant = 2)\n",
    "    if (h > 0) \n",
    "        ceiling(diff(range(x))/(2 * h * length(x)^(-1/3)))\n",
    "    else 1L\n",
    "}\n",
    "        "
   ]
  },
  {
   "cell_type": "code",
   "execution_count": 24,
   "metadata": {},
   "outputs": [
    {
     "data": {
      "text/html": [
       "51"
      ],
      "text/latex": [
       "51"
      ],
      "text/markdown": [
       "51"
      ],
      "text/plain": [
       "[1] 51"
      ]
     },
     "metadata": {},
     "output_type": "display_data"
    },
    {
     "data": {
      "image/png": "[encoded data removed]",
      "text/plain": [
       "plot without title"
      ]
     },
     "metadata": {},
     "output_type": "display_data"
    }
   ],
   "source": [
    "\n",
    "\n",
    "Freedman_Diaconis(as.numeric(gapminder$life_expectancy))\n",
    "\n",
    "gapminder %>% ggplot(aes(x=life_expectancy))+ \n",
    "geom_histogram(colour=\"#FF7F00\", fill=\"black\", bins=51, aes(y =..density..)) +\n",
    "labs(x=\"Teaching_Scores\", y=\"Count\")+\n",
    "stat_function(fun = dnorm, args = list(mean = mean(gapminder$life_expectancy), \n",
    "                                       sd = sd(gapminder$life_expectancy)), color=\"red\", size=1.5)+\n",
    "\n",
    "\n",
    "\n",
    "geom_vline(xintercept=64.81, size=1.5, color=\"green\")+\n",
    "geom_text(aes(x=64.81-3, y=0.055, label=\"Mean\"), color=\"green\")+\n",
    "geom_vline(xintercept=13.20, size=1.5, color=\"gold\" )+\n",
    "geom_text(aes(x=13.2+5, y=0.03, label=\"Minimum\"))+\n",
    "geom_vline(xintercept=83.90, size=1.5, color=\"gold\" )+\n",
    "geom_text(aes(x=83.90-2, y=0.03, label=\"Maximum\"))+\n",
    "geom_vline(xintercept=57.50, size=1.5, color=\"#8B008B\" )+\n",
    "geom_text(aes(x=57.50-5, y=0.025, label=\"1.Quartile\"), color=\"#8B008B\")+\n",
    "geom_vline(xintercept=73.00, size=1.5, color=\"#8B008B\"  )+\n",
    "geom_text(aes(x=83, y=0.025, label=\"3. Quartile\"), color=\"#8B008B\")+\n",
    "geom_vline(xintercept=67.54, size=1.5, color=\"red\")+\n",
    "geom_text(aes(x=67.54+4, y=0.055, label=\"Median\"), color=\"red\")+\n",
    "\n",
    "labs(title=\"Distribution of the life expectancy variable\", x=\"Life expectancy in years\",\n",
    "     y=\"Count\")+\n",
    "theme(plot.title=element_text(hjust=0.5))\n",
    "\n",
    "\n",
    "# Median greater than mean\n",
    "# Left skewed distribution\n",
    "# To reduce left skewness, take squares or cubes or higher powers.\n",
    "# http://fmwww.bc.edu/repec/bocode/t/transint.html"
   ]
  },
  {
   "cell_type": "code",
   "execution_count": 25,
   "metadata": {},
   "outputs": [
    {
     "data": {
      "image/png": "[encoded data removed]",
      "text/plain": [
       "plot without title"
      ]
     },
     "metadata": {},
     "output_type": "display_data"
    }
   ],
   "source": [
    "gapminder %>% ggplot(aes(x=life_expectancy))+ \n",
    "geom_density(colour=\"#FF7F00\", fill=\"black\")+\n",
    "\n",
    "geom_vline(xintercept=64.81, size=1.5, color=\"green\")+\n",
    "geom_text(aes(x=64.81-3, y=0.055, label=\"Mean\"), color=\"green\")+\n",
    "geom_vline(xintercept=13.20, size=1.5, color=\"gold\" )+\n",
    "geom_text(aes(x=13.2+5, y=0.03, label=\"Minimum\"))+\n",
    "geom_vline(xintercept=83.90, size=1.5, color=\"gold\" )+\n",
    "geom_text(aes(x=83.90-2, y=0.03, label=\"Maximum\"))+\n",
    "geom_vline(xintercept=57.50, size=1.5, color=\"#8B008B\" )+\n",
    "geom_text(aes(x=57.50-5, y=0.025, label=\"1.Quartile\"), color=\"#8B008B\")+\n",
    "geom_vline(xintercept=73.00, size=1.5, color=\"#8B008B\"  )+\n",
    "geom_text(aes(x=83, y=0.025, label=\"3. Quartile\"), color=\"#8B008B\")+\n",
    "geom_vline(xintercept=67.54, size=1.5, color=\"red\")+\n",
    "geom_text(aes(x=67.54+4, y=0.055, label=\"Median\"), color=\"red\")+\n",
    "\n",
    "labs(title=\"Density distribution of the life expectancy variable\", x=\"Life expectancy in years\",\n",
    "     y=\"Count\")+\n",
    "theme(plot.title=element_text(hjust=0.5))"
   ]
  },
  {
   "cell_type": "code",
   "execution_count": 26,
   "metadata": {},
   "outputs": [
    {
     "data": {
      "text/plain": [
       "   Min. 1st Qu.  Median    Mean 3rd Qu.    Max.    NA's \n",
       "   1.50   16.00   41.50   55.31   85.10  276.90    1453 "
      ]
     },
     "metadata": {},
     "output_type": "display_data"
    },
    {
     "name": "stderr",
     "output_type": "stream",
     "text": [
      "Warning message:\n",
      "\"Removed 1453 rows containing non-finite values (stat_density).\""
     ]
    },
    {
     "data": {
      "image/png": "[encoded data removed]",
      "text/plain": [
       "plot without title"
      ]
     },
     "metadata": {},
     "output_type": "display_data"
    }
   ],
   "source": [
    "summary(gapminder$infant_mortality)\n",
    "\n",
    "\n",
    "gapminder %>% ggplot(aes(x=infant_mortality))+ \n",
    "geom_density(colour=\"#FF7F00\", fill=\"black\")+\n",
    "\n",
    "\n",
    "geom_vline(xintercept=55.31, size=1.5, color=\"green\")+\n",
    "geom_text(aes(x=55.31+15, y=0.01, label=\"Mean\"), color=\"green\")+\n",
    "\n",
    "geom_vline(xintercept=16.00, size=1.5, color=\"#8B008B\" )+\n",
    "geom_text(aes(x=16.00-5, y=0.004, label=\"1.Quartile\"), color=\"#8B008B\")+\n",
    "\n",
    "geom_vline(xintercept=85.10, size=1.5, color=\"#8B008B\"  )+\n",
    "geom_text(aes(x=85.10+20, y=0.004, label=\"3. Quartile\"), color=\"#8B008B\")+\n",
    "\n",
    "geom_vline(xintercept=41.50 , size=1.5, color=\"red\")+\n",
    "geom_text(aes(x=41.50 - 15, y=0.013, label=\"Median\"), color=\"red\")+\n",
    "\n",
    "geom_vline(xintercept=1.50, size=1.5, color=\"gold\" )+\n",
    "geom_text(aes(x=1.50+5, y=0.006, label=\"Minimum\"), color=\"gold\")+\n",
    "\n",
    "geom_vline(xintercept=276.90, size=1.5, color=\"gold\" )+\n",
    "geom_text(aes(x=276.90-20, y=0.006, label=\"Maximum\"), colour=\"gold\")+\n",
    "\n",
    "\n",
    "labs(title=\"Density distribution of the infant mortality variable\", \n",
    "     x=\"Infant deaths per 1000\", y=\"Count\")+\n",
    "theme(plot.title=element_text(hjust=0.5))\n",
    "\n",
    "\n",
    "# Mean is greater than median\n",
    "# Right skewed distribution\n",
    "# To reduce right skewness, take roots or logarithms or reciprocals (roots\n",
    "# are weakest). This is the commonest problem in practice.\n",
    "# http://fmwww.bc.edu/repec/bocode/t/transint.html"
   ]
  },
  {
   "cell_type": "code",
   "execution_count": 27,
   "metadata": {},
   "outputs": [
    {
     "data": {
      "text/plain": [
       "   Min. 1st Qu.  Median    Mean 3rd Qu.    Max.    NA's \n",
       "  0.840   2.200   3.750   4.084   6.000   9.220     187 "
      ]
     },
     "metadata": {},
     "output_type": "display_data"
    },
    {
     "name": "stderr",
     "output_type": "stream",
     "text": [
      "Warning message:\n",
      "\"Removed 187 rows containing non-finite values (stat_density).\""
     ]
    },
    {
     "data": {
      "image/png": "[encoded data removed]",
      "text/plain": [
       "plot without title"
      ]
     },
     "metadata": {},
     "output_type": "display_data"
    }
   ],
   "source": [
    "summary(gapminder$fertility)\n",
    "\n",
    "\n",
    "gapminder %>% ggplot(aes(x=fertility))+ \n",
    "geom_density(colour=\"#FF7F00\", fill=\"#00BFFF\")+\n",
    "\n",
    "\n",
    "geom_vline(xintercept=4.084, size=1.5, color=\"green\")+\n",
    "geom_text(aes(x=4.5, y=0.1, label=\"Mean\"), color=\"green\")+\n",
    "\n",
    "geom_vline(xintercept=2.200, size=1.5, color=\"#8B008B\" )+\n",
    "geom_text(aes(x=2.7, y=0.25, label=\"1.Quartile\"), color=\"#8B008B\")+\n",
    "\n",
    "geom_vline(xintercept=6.000, size=1.5, color=\"#8B008B\"  )+\n",
    "geom_text(aes(x=6.000+1, y=0.25, label=\"3. Quartile\"), color=\"#8B008B\")+\n",
    "\n",
    "geom_vline(xintercept=3.750 , size=1.5, color=\"red\")+\n",
    "geom_text(aes(x=3.750 - 1, y=0.15, label=\"Median\"), color=\"red\")+\n",
    "\n",
    "geom_vline(xintercept=0.840, size=1.5, color=\"gold\" )+\n",
    "geom_text(aes(x=0.840+0.5, y=0.2, label=\"Minimum\"), color=\"gold\")+\n",
    "\n",
    "geom_vline(xintercept=9.220, size=1.5, color=\"gold\" )+\n",
    "geom_text(aes(x=9.220-1, y=0.2, label=\"Maximum\"), colour=\"gold\")+\n",
    "\n",
    "\n",
    "labs(title=\"Density distribution of the fertility variable\", \n",
    "     x=\"Average number of children per woman\", y=\"Count\")+\n",
    "theme(plot.title=element_text(hjust=0.5))\n",
    "\n",
    "\n",
    "\n",
    "# Multimodal distribution\n",
    "# Major mode: left\n",
    "# Anti-mode: right\n",
    "# https://en.wikipedia.org/wiki/Multimodal_distribution"
   ]
  },
  {
   "cell_type": "code",
   "execution_count": 28,
   "metadata": {},
   "outputs": [
    {
     "data": {
      "text/plain": [
       "     Min.   1st Qu.    Median      Mean   3rd Qu.      Max.      NA's \n",
       "4.040e+07 1.846e+09 7.794e+09 1.480e+11 5.540e+10 1.174e+13      2972 "
      ]
     },
     "metadata": {},
     "output_type": "display_data"
    },
    {
     "name": "stderr",
     "output_type": "stream",
     "text": [
      "Warning message:\n",
      "\"Removed 2972 rows containing non-finite values (stat_bin).\""
     ]
    },
    {
     "data": {
      "image/png": "[encoded data removed]",
      "text/plain": [
       "plot without title"
      ]
     },
     "metadata": {},
     "output_type": "display_data"
    }
   ],
   "source": [
    "summary(gapminder$gdp)\n",
    "\n",
    "\n",
    "gapminder %>% ggplot(aes(x=gdp))+ \n",
    "geom_histogram(colour=\"#FF7F00\", fill=\"#00BFFF\", bins=10)+\n",
    "\n",
    "geom_vline(xintercept=4.040e+07, size=1.5, color=\"gold\" )+\n",
    "geom_text(aes(x=4.040e+07, y=2000, label=\"Minimum\"), color=\"black\")+\n",
    "\n",
    "geom_vline(xintercept=1.174e+13 , size=1.5, color=\"gold\" )+\n",
    "geom_text(aes(x=1.174e+13 , y=2000, label=\"Maximum\"), colour=\"black\")+\n",
    "\n",
    "geom_vline(xintercept=1.480e+11, size=1.5, color=\"green\")+\n",
    "geom_text(aes(x=1.600e+11, y=4000, label=\"Mean\"), color=\"black\")+\n",
    "\n",
    "geom_vline(xintercept=37.794e+09 , size=1.5, color=\"red\")+\n",
    "geom_text(aes(x=7.794e+09, y=6000, label=\"Median\"), color=\"black\")\n",
    "\n",
    "\n",
    "# It seems there is a white range of gdp-values\n",
    "# Outliers?\n",
    "# Or data transformation?\n"
   ]
  },
  {
   "cell_type": "code",
   "execution_count": 29,
   "metadata": {},
   "outputs": [
    {
     "data": {
      "image/png": "[encoded data removed]",
      "text/plain": [
       "plot without title"
      ]
     },
     "metadata": {},
     "output_type": "display_data"
    }
   ],
   "source": [
    "# Exploring some relationships between categorical variables and numerical variables\n",
    "# Categorical variable: region\n",
    "\n",
    "gap_Eur <- \n",
    "gapminder %>% \n",
    "na.omit() %>%\n",
    "filter(continent==\"Europe\")\n",
    "\n",
    "gap_Eur %>% ggplot(aes(x=region, y=gdp)) +\n",
    "geom_boxplot(colour=\"#36648B\", fill=\"#9ACD32\")+\n",
    "labs(title=\"GDP by European Regions\", x=\"European region\", y=\"GDP according to World Bank\")+\n",
    "theme(plot.title=element_text(hjust=0.5, colour=\"blue\"))"
   ]
  },
  {
   "cell_type": "code",
   "execution_count": 30,
   "metadata": {},
   "outputs": [
    {
     "data": {
      "text/html": [
       "<table>\n",
       "<thead><tr><th scope=col>country</th><th scope=col>year</th><th scope=col>infant_mortality</th><th scope=col>life_expectancy</th><th scope=col>fertility</th><th scope=col>population</th><th scope=col>gdp</th><th scope=col>continent</th><th scope=col>region</th></tr></thead>\n",
       "<tbody>\n",
       "\t<tr><td>Germany        </td><td>2011           </td><td>3.4            </td><td>80.5           </td><td>1.40           </td><td> 80424665      </td><td>2.131457e+12   </td><td>Europe         </td><td>Western Europe </td></tr>\n",
       "\t<tr><td>United Kingdom </td><td>2011           </td><td>4.2            </td><td>80.5           </td><td>1.90           </td><td> 63164949      </td><td>1.756002e+12   </td><td>Europe         </td><td>Northern Europe</td></tr>\n",
       "\t<tr><td>France         </td><td>2011           </td><td>3.5            </td><td>81.6           </td><td>1.98           </td><td> 63268405      </td><td>1.506143e+12   </td><td>Europe         </td><td>Western Europe </td></tr>\n",
       "\t<tr><td>Italy          </td><td>2011           </td><td>3.3            </td><td>82.0           </td><td>1.45           </td><td> 59678993      </td><td>1.150683e+12   </td><td>Europe         </td><td>Southern Europe</td></tr>\n",
       "\t<tr><td>Spain          </td><td>2011           </td><td>3.8            </td><td>82.0           </td><td>1.47           </td><td> 46708366      </td><td>7.171940e+11   </td><td>Europe         </td><td>Southern Europe</td></tr>\n",
       "\t<tr><td>Netherlands    </td><td>2011           </td><td>3.6            </td><td>80.9           </td><td>1.76           </td><td> 16689863      </td><td>4.463622e+11   </td><td>Europe         </td><td>Western Europe </td></tr>\n",
       "\t<tr><td>Russia         </td><td>2011           </td><td>9.8            </td><td>69.8           </td><td>1.58           </td><td>143211476      </td><td>4.331921e+11   </td><td>Europe         </td><td>Eastern Europe </td></tr>\n",
       "\t<tr><td>Sweden         </td><td>2011           </td><td>2.4            </td><td>81.7           </td><td>1.90           </td><td>  9462352      </td><td>3.167986e+11   </td><td>Europe         </td><td>Northern Europe</td></tr>\n",
       "\t<tr><td>Switzerland    </td><td>2011           </td><td>3.8            </td><td>82.6           </td><td>1.51           </td><td>  7925813      </td><td>3.009384e+11   </td><td>Europe         </td><td>Western Europe </td></tr>\n",
       "\t<tr><td>Belgium        </td><td>2011           </td><td>3.5            </td><td>80.2           </td><td>1.85           </td><td> 11005175      </td><td>2.722711e+11   </td><td>Europe         </td><td>Western Europe </td></tr>\n",
       "\t<tr><td>Poland         </td><td>2011           </td><td>4.7            </td><td>76.5           </td><td>1.39           </td><td> 38594217      </td><td>2.619501e+11   </td><td>Europe         </td><td>Eastern Europe </td></tr>\n",
       "\t<tr><td>Austria        </td><td>2011           </td><td>3.4            </td><td>80.7           </td><td>1.44           </td><td>  8423559      </td><td>2.309133e+11   </td><td>Europe         </td><td>Western Europe </td></tr>\n",
       "\t<tr><td>Norway         </td><td>2011           </td><td>2.5            </td><td>81.1           </td><td>1.88           </td><td>  4953945      </td><td>1.982526e+11   </td><td>Europe         </td><td>Northern Europe</td></tr>\n",
       "\t<tr><td>Denmark        </td><td>2011           </td><td>3.2            </td><td>79.9           </td><td>1.76           </td><td>  5576577      </td><td>1.710519e+11   </td><td>Europe         </td><td>Northern Europe</td></tr>\n",
       "</tbody>\n",
       "</table>\n"
      ],
      "text/latex": [
       "\\begin{tabular}{r|lllllllll}\n",
       " country & year & infant\\_mortality & life\\_expectancy & fertility & population & gdp & continent & region\\\\\n",
       "\\hline\n",
       "\t Germany         & 2011            & 3.4             & 80.5            & 1.40            &  80424665       & 2.131457e+12    & Europe          & Western Europe \\\\\n",
       "\t United Kingdom  & 2011            & 4.2             & 80.5            & 1.90            &  63164949       & 1.756002e+12    & Europe          & Northern Europe\\\\\n",
       "\t France          & 2011            & 3.5             & 81.6            & 1.98            &  63268405       & 1.506143e+12    & Europe          & Western Europe \\\\\n",
       "\t Italy           & 2011            & 3.3             & 82.0            & 1.45            &  59678993       & 1.150683e+12    & Europe          & Southern Europe\\\\\n",
       "\t Spain           & 2011            & 3.8             & 82.0            & 1.47            &  46708366       & 7.171940e+11    & Europe          & Southern Europe\\\\\n",
       "\t Netherlands     & 2011            & 3.6             & 80.9            & 1.76            &  16689863       & 4.463622e+11    & Europe          & Western Europe \\\\\n",
       "\t Russia          & 2011            & 9.8             & 69.8            & 1.58            & 143211476       & 4.331921e+11    & Europe          & Eastern Europe \\\\\n",
       "\t Sweden          & 2011            & 2.4             & 81.7            & 1.90            &   9462352       & 3.167986e+11    & Europe          & Northern Europe\\\\\n",
       "\t Switzerland     & 2011            & 3.8             & 82.6            & 1.51            &   7925813       & 3.009384e+11    & Europe          & Western Europe \\\\\n",
       "\t Belgium         & 2011            & 3.5             & 80.2            & 1.85            &  11005175       & 2.722711e+11    & Europe          & Western Europe \\\\\n",
       "\t Poland          & 2011            & 4.7             & 76.5            & 1.39            &  38594217       & 2.619501e+11    & Europe          & Eastern Europe \\\\\n",
       "\t Austria         & 2011            & 3.4             & 80.7            & 1.44            &   8423559       & 2.309133e+11    & Europe          & Western Europe \\\\\n",
       "\t Norway          & 2011            & 2.5             & 81.1            & 1.88            &   4953945       & 1.982526e+11    & Europe          & Northern Europe\\\\\n",
       "\t Denmark         & 2011            & 3.2             & 79.9            & 1.76            &   5576577       & 1.710519e+11    & Europe          & Northern Europe\\\\\n",
       "\\end{tabular}\n"
      ],
      "text/markdown": [
       "\n",
       "| country | year | infant_mortality | life_expectancy | fertility | population | gdp | continent | region |\n",
       "|---|---|---|---|---|---|---|---|---|\n",
       "| Germany         | 2011            | 3.4             | 80.5            | 1.40            |  80424665       | 2.131457e+12    | Europe          | Western Europe  |\n",
       "| United Kingdom  | 2011            | 4.2             | 80.5            | 1.90            |  63164949       | 1.756002e+12    | Europe          | Northern Europe |\n",
       "| France          | 2011            | 3.5             | 81.6            | 1.98            |  63268405       | 1.506143e+12    | Europe          | Western Europe  |\n",
       "| Italy           | 2011            | 3.3             | 82.0            | 1.45            |  59678993       | 1.150683e+12    | Europe          | Southern Europe |\n",
       "| Spain           | 2011            | 3.8             | 82.0            | 1.47            |  46708366       | 7.171940e+11    | Europe          | Southern Europe |\n",
       "| Netherlands     | 2011            | 3.6             | 80.9            | 1.76            |  16689863       | 4.463622e+11    | Europe          | Western Europe  |\n",
       "| Russia          | 2011            | 9.8             | 69.8            | 1.58            | 143211476       | 4.331921e+11    | Europe          | Eastern Europe  |\n",
       "| Sweden          | 2011            | 2.4             | 81.7            | 1.90            |   9462352       | 3.167986e+11    | Europe          | Northern Europe |\n",
       "| Switzerland     | 2011            | 3.8             | 82.6            | 1.51            |   7925813       | 3.009384e+11    | Europe          | Western Europe  |\n",
       "| Belgium         | 2011            | 3.5             | 80.2            | 1.85            |  11005175       | 2.722711e+11    | Europe          | Western Europe  |\n",
       "| Poland          | 2011            | 4.7             | 76.5            | 1.39            |  38594217       | 2.619501e+11    | Europe          | Eastern Europe  |\n",
       "| Austria         | 2011            | 3.4             | 80.7            | 1.44            |   8423559       | 2.309133e+11    | Europe          | Western Europe  |\n",
       "| Norway          | 2011            | 2.5             | 81.1            | 1.88            |   4953945       | 1.982526e+11    | Europe          | Northern Europe |\n",
       "| Denmark         | 2011            | 3.2             | 79.9            | 1.76            |   5576577       | 1.710519e+11    | Europe          | Northern Europe |\n",
       "\n"
      ],
      "text/plain": [
       "   country        year infant_mortality life_expectancy fertility population\n",
       "1  Germany        2011 3.4              80.5            1.40       80424665 \n",
       "2  United Kingdom 2011 4.2              80.5            1.90       63164949 \n",
       "3  France         2011 3.5              81.6            1.98       63268405 \n",
       "4  Italy          2011 3.3              82.0            1.45       59678993 \n",
       "5  Spain          2011 3.8              82.0            1.47       46708366 \n",
       "6  Netherlands    2011 3.6              80.9            1.76       16689863 \n",
       "7  Russia         2011 9.8              69.8            1.58      143211476 \n",
       "8  Sweden         2011 2.4              81.7            1.90        9462352 \n",
       "9  Switzerland    2011 3.8              82.6            1.51        7925813 \n",
       "10 Belgium        2011 3.5              80.2            1.85       11005175 \n",
       "11 Poland         2011 4.7              76.5            1.39       38594217 \n",
       "12 Austria        2011 3.4              80.7            1.44        8423559 \n",
       "13 Norway         2011 2.5              81.1            1.88        4953945 \n",
       "14 Denmark        2011 3.2              79.9            1.76        5576577 \n",
       "   gdp          continent region         \n",
       "1  2.131457e+12 Europe    Western Europe \n",
       "2  1.756002e+12 Europe    Northern Europe\n",
       "3  1.506143e+12 Europe    Western Europe \n",
       "4  1.150683e+12 Europe    Southern Europe\n",
       "5  7.171940e+11 Europe    Southern Europe\n",
       "6  4.463622e+11 Europe    Western Europe \n",
       "7  4.331921e+11 Europe    Eastern Europe \n",
       "8  3.167986e+11 Europe    Northern Europe\n",
       "9  3.009384e+11 Europe    Western Europe \n",
       "10 2.722711e+11 Europe    Western Europe \n",
       "11 2.619501e+11 Europe    Eastern Europe \n",
       "12 2.309133e+11 Europe    Western Europe \n",
       "13 1.982526e+11 Europe    Northern Europe\n",
       "14 1.710519e+11 Europe    Northern Europe"
      ]
     },
     "metadata": {},
     "output_type": "display_data"
    },
    {
     "data": {
      "text/html": [
       "<ol class=list-inline>\n",
       "\t<li>14</li>\n",
       "\t<li>9</li>\n",
       "</ol>\n"
      ],
      "text/latex": [
       "\\begin{enumerate*}\n",
       "\\item 14\n",
       "\\item 9\n",
       "\\end{enumerate*}\n"
      ],
      "text/markdown": [
       "1. 14\n",
       "2. 9\n",
       "\n",
       "\n"
      ],
      "text/plain": [
       "[1] 14  9"
      ]
     },
     "metadata": {},
     "output_type": "display_data"
    },
    {
     "name": "stdout",
     "output_type": "stream",
     "text": [
      "Observations: 14\n",
      "Variables: 10\n",
      "$ country          <fct> Germany, United Kingdom, France, Italy, Spain, Net...\n",
      "$ year             <int> 2011, 2011, 2011, 2011, 2011, 2011, 2011, 2011, 20...\n",
      "$ infant_mortality <dbl> 3.4, 4.2, 3.5, 3.3, 3.8, 3.6, 9.8, 2.4, 3.8, 3.5, ...\n",
      "$ life_expectancy  <dbl> 80.5, 80.5, 81.6, 82.0, 82.0, 80.9, 69.8, 81.7, 82...\n",
      "$ fertility        <dbl> 1.40, 1.90, 1.98, 1.45, 1.47, 1.76, 1.58, 1.90, 1....\n",
      "$ population       <dbl> 80424665, 63164949, 63268405, 59678993, 46708366, ...\n",
      "$ gdp              <dbl> 2.131457e+12, 1.756002e+12, 1.506143e+12, 1.150683...\n",
      "$ continent        <fct> Europe, Europe, Europe, Europe, Europe, Europe, Eu...\n",
      "$ region           <fct> Western Europe, Northern Europe, Western Europe, S...\n",
      "$ GDP_per_capita   <dbl> 26502.525, 27800.261, 23805.613, 19281.209, 15354....\n"
     ]
    }
   ],
   "source": [
    "# filter(starwars, hair_color == \"none\" | eye_color == \"black\")\n",
    "gap_Eur_34534 <- \n",
    "gapminder %>% \n",
    "na.omit() %>%\n",
    "filter(year==2011 & continent==\"Europe\" & gdp > 150*10^9) %>%\n",
    "arrange(desc(gdp))\n",
    "\n",
    "gap_Eur_34534\n",
    "dim(gap_Eur_34534)\n",
    "\n",
    "gap_Eur_45632 <-\n",
    "gap_Eur_34534 %>% mutate(GDP_per_capita = gdp/population)\n",
    "\n",
    "glimpse(gap_Eur_45632)\n",
    "\n"
   ]
  },
  {
   "cell_type": "code",
   "execution_count": 31,
   "metadata": {},
   "outputs": [
    {
     "data": {
      "text/html": [
       "<table>\n",
       "<thead><tr><th scope=col>country</th><th scope=col>year</th><th scope=col>infant_mortality</th><th scope=col>life_expectancy</th><th scope=col>fertility</th><th scope=col>population</th><th scope=col>continent</th><th scope=col>region</th><th scope=col>key</th><th scope=col>value</th></tr></thead>\n",
       "<tbody>\n",
       "\t<tr><td>Germany        </td><td>2011           </td><td>3.4            </td><td>80.5           </td><td>1.40           </td><td> 80424665      </td><td>Europe         </td><td>Western Europe </td><td>gdp            </td><td>2.131457e+12   </td></tr>\n",
       "\t<tr><td>United Kingdom </td><td>2011           </td><td>4.2            </td><td>80.5           </td><td>1.90           </td><td> 63164949      </td><td>Europe         </td><td>Northern Europe</td><td>gdp            </td><td>1.756002e+12   </td></tr>\n",
       "\t<tr><td>France         </td><td>2011           </td><td>3.5            </td><td>81.6           </td><td>1.98           </td><td> 63268405      </td><td>Europe         </td><td>Western Europe </td><td>gdp            </td><td>1.506143e+12   </td></tr>\n",
       "\t<tr><td>Italy          </td><td>2011           </td><td>3.3            </td><td>82.0           </td><td>1.45           </td><td> 59678993      </td><td>Europe         </td><td>Southern Europe</td><td>gdp            </td><td>1.150683e+12   </td></tr>\n",
       "\t<tr><td>Spain          </td><td>2011           </td><td>3.8            </td><td>82.0           </td><td>1.47           </td><td> 46708366      </td><td>Europe         </td><td>Southern Europe</td><td>gdp            </td><td>7.171940e+11   </td></tr>\n",
       "\t<tr><td>Netherlands    </td><td>2011           </td><td>3.6            </td><td>80.9           </td><td>1.76           </td><td> 16689863      </td><td>Europe         </td><td>Western Europe </td><td>gdp            </td><td>4.463622e+11   </td></tr>\n",
       "\t<tr><td>Russia         </td><td>2011           </td><td>9.8            </td><td>69.8           </td><td>1.58           </td><td>143211476      </td><td>Europe         </td><td>Eastern Europe </td><td>gdp            </td><td>4.331921e+11   </td></tr>\n",
       "\t<tr><td>Sweden         </td><td>2011           </td><td>2.4            </td><td>81.7           </td><td>1.90           </td><td>  9462352      </td><td>Europe         </td><td>Northern Europe</td><td>gdp            </td><td>3.167986e+11   </td></tr>\n",
       "\t<tr><td>Switzerland    </td><td>2011           </td><td>3.8            </td><td>82.6           </td><td>1.51           </td><td>  7925813      </td><td>Europe         </td><td>Western Europe </td><td>gdp            </td><td>3.009384e+11   </td></tr>\n",
       "\t<tr><td>Belgium        </td><td>2011           </td><td>3.5            </td><td>80.2           </td><td>1.85           </td><td> 11005175      </td><td>Europe         </td><td>Western Europe </td><td>gdp            </td><td>2.722711e+11   </td></tr>\n",
       "\t<tr><td>Poland         </td><td>2011           </td><td>4.7            </td><td>76.5           </td><td>1.39           </td><td> 38594217      </td><td>Europe         </td><td>Eastern Europe </td><td>gdp            </td><td>2.619501e+11   </td></tr>\n",
       "\t<tr><td>Austria        </td><td>2011           </td><td>3.4            </td><td>80.7           </td><td>1.44           </td><td>  8423559      </td><td>Europe         </td><td>Western Europe </td><td>gdp            </td><td>2.309133e+11   </td></tr>\n",
       "\t<tr><td>Norway         </td><td>2011           </td><td>2.5            </td><td>81.1           </td><td>1.88           </td><td>  4953945      </td><td>Europe         </td><td>Northern Europe</td><td>gdp            </td><td>1.982526e+11   </td></tr>\n",
       "\t<tr><td>Denmark        </td><td>2011           </td><td>3.2            </td><td>79.9           </td><td>1.76           </td><td>  5576577      </td><td>Europe         </td><td>Northern Europe</td><td>gdp            </td><td>1.710519e+11   </td></tr>\n",
       "\t<tr><td>Germany        </td><td>2011           </td><td>3.4            </td><td>80.5           </td><td>1.40           </td><td> 80424665      </td><td>Europe         </td><td>Western Europe </td><td>GDP_per_capita </td><td>2.650252e+04   </td></tr>\n",
       "\t<tr><td>United Kingdom </td><td>2011           </td><td>4.2            </td><td>80.5           </td><td>1.90           </td><td> 63164949      </td><td>Europe         </td><td>Northern Europe</td><td>GDP_per_capita </td><td>2.780026e+04   </td></tr>\n",
       "\t<tr><td>France         </td><td>2011           </td><td>3.5            </td><td>81.6           </td><td>1.98           </td><td> 63268405      </td><td>Europe         </td><td>Western Europe </td><td>GDP_per_capita </td><td>2.380561e+04   </td></tr>\n",
       "\t<tr><td>Italy          </td><td>2011           </td><td>3.3            </td><td>82.0           </td><td>1.45           </td><td> 59678993      </td><td>Europe         </td><td>Southern Europe</td><td>GDP_per_capita </td><td>1.928121e+04   </td></tr>\n",
       "\t<tr><td>Spain          </td><td>2011           </td><td>3.8            </td><td>82.0           </td><td>1.47           </td><td> 46708366      </td><td>Europe         </td><td>Southern Europe</td><td>GDP_per_capita </td><td>1.535472e+04   </td></tr>\n",
       "\t<tr><td>Netherlands    </td><td>2011           </td><td>3.6            </td><td>80.9           </td><td>1.76           </td><td> 16689863      </td><td>Europe         </td><td>Western Europe </td><td>GDP_per_capita </td><td>2.674451e+04   </td></tr>\n",
       "\t<tr><td>Russia         </td><td>2011           </td><td>9.8            </td><td>69.8           </td><td>1.58           </td><td>143211476      </td><td>Europe         </td><td>Eastern Europe </td><td>GDP_per_capita </td><td>3.024842e+03   </td></tr>\n",
       "\t<tr><td>Sweden         </td><td>2011           </td><td>2.4            </td><td>81.7           </td><td>1.90           </td><td>  9462352      </td><td>Europe         </td><td>Northern Europe</td><td>GDP_per_capita </td><td>3.347990e+04   </td></tr>\n",
       "\t<tr><td>Switzerland    </td><td>2011           </td><td>3.8            </td><td>82.6           </td><td>1.51           </td><td>  7925813      </td><td>Europe         </td><td>Western Europe </td><td>GDP_per_capita </td><td>3.796941e+04   </td></tr>\n",
       "\t<tr><td>Belgium        </td><td>2011           </td><td>3.5            </td><td>80.2           </td><td>1.85           </td><td> 11005175      </td><td>Europe         </td><td>Western Europe </td><td>GDP_per_capita </td><td>2.474028e+04   </td></tr>\n",
       "\t<tr><td>Poland         </td><td>2011           </td><td>4.7            </td><td>76.5           </td><td>1.39           </td><td> 38594217      </td><td>Europe         </td><td>Eastern Europe </td><td>GDP_per_capita </td><td>6.787290e+03   </td></tr>\n",
       "\t<tr><td>Austria        </td><td>2011           </td><td>3.4            </td><td>80.7           </td><td>1.44           </td><td>  8423559      </td><td>Europe         </td><td>Western Europe </td><td>GDP_per_capita </td><td>2.741280e+04   </td></tr>\n",
       "\t<tr><td>Norway         </td><td>2011           </td><td>2.5            </td><td>81.1           </td><td>1.88           </td><td>  4953945      </td><td>Europe         </td><td>Northern Europe</td><td>GDP_per_capita </td><td>4.001913e+04   </td></tr>\n",
       "\t<tr><td>Denmark        </td><td>2011           </td><td>3.2            </td><td>79.9           </td><td>1.76           </td><td>  5576577      </td><td>Europe         </td><td>Northern Europe</td><td>GDP_per_capita </td><td>3.067327e+04   </td></tr>\n",
       "</tbody>\n",
       "</table>\n"
      ],
      "text/latex": [
       "\\begin{tabular}{r|llllllllll}\n",
       " country & year & infant\\_mortality & life\\_expectancy & fertility & population & continent & region & key & value\\\\\n",
       "\\hline\n",
       "\t Germany         & 2011            & 3.4             & 80.5            & 1.40            &  80424665       & Europe          & Western Europe  & gdp             & 2.131457e+12   \\\\\n",
       "\t United Kingdom  & 2011            & 4.2             & 80.5            & 1.90            &  63164949       & Europe          & Northern Europe & gdp             & 1.756002e+12   \\\\\n",
       "\t France          & 2011            & 3.5             & 81.6            & 1.98            &  63268405       & Europe          & Western Europe  & gdp             & 1.506143e+12   \\\\\n",
       "\t Italy           & 2011            & 3.3             & 82.0            & 1.45            &  59678993       & Europe          & Southern Europe & gdp             & 1.150683e+12   \\\\\n",
       "\t Spain           & 2011            & 3.8             & 82.0            & 1.47            &  46708366       & Europe          & Southern Europe & gdp             & 7.171940e+11   \\\\\n",
       "\t Netherlands     & 2011            & 3.6             & 80.9            & 1.76            &  16689863       & Europe          & Western Europe  & gdp             & 4.463622e+11   \\\\\n",
       "\t Russia          & 2011            & 9.8             & 69.8            & 1.58            & 143211476       & Europe          & Eastern Europe  & gdp             & 4.331921e+11   \\\\\n",
       "\t Sweden          & 2011            & 2.4             & 81.7            & 1.90            &   9462352       & Europe          & Northern Europe & gdp             & 3.167986e+11   \\\\\n",
       "\t Switzerland     & 2011            & 3.8             & 82.6            & 1.51            &   7925813       & Europe          & Western Europe  & gdp             & 3.009384e+11   \\\\\n",
       "\t Belgium         & 2011            & 3.5             & 80.2            & 1.85            &  11005175       & Europe          & Western Europe  & gdp             & 2.722711e+11   \\\\\n",
       "\t Poland          & 2011            & 4.7             & 76.5            & 1.39            &  38594217       & Europe          & Eastern Europe  & gdp             & 2.619501e+11   \\\\\n",
       "\t Austria         & 2011            & 3.4             & 80.7            & 1.44            &   8423559       & Europe          & Western Europe  & gdp             & 2.309133e+11   \\\\\n",
       "\t Norway          & 2011            & 2.5             & 81.1            & 1.88            &   4953945       & Europe          & Northern Europe & gdp             & 1.982526e+11   \\\\\n",
       "\t Denmark         & 2011            & 3.2             & 79.9            & 1.76            &   5576577       & Europe          & Northern Europe & gdp             & 1.710519e+11   \\\\\n",
       "\t Germany            & 2011               & 3.4                & 80.5               & 1.40               &  80424665          & Europe             & Western Europe     & GDP\\_per\\_capita & 2.650252e+04      \\\\\n",
       "\t United Kingdom     & 2011               & 4.2                & 80.5               & 1.90               &  63164949          & Europe             & Northern Europe    & GDP\\_per\\_capita & 2.780026e+04      \\\\\n",
       "\t France             & 2011               & 3.5                & 81.6               & 1.98               &  63268405          & Europe             & Western Europe     & GDP\\_per\\_capita & 2.380561e+04      \\\\\n",
       "\t Italy              & 2011               & 3.3                & 82.0               & 1.45               &  59678993          & Europe             & Southern Europe    & GDP\\_per\\_capita & 1.928121e+04      \\\\\n",
       "\t Spain              & 2011               & 3.8                & 82.0               & 1.47               &  46708366          & Europe             & Southern Europe    & GDP\\_per\\_capita & 1.535472e+04      \\\\\n",
       "\t Netherlands        & 2011               & 3.6                & 80.9               & 1.76               &  16689863          & Europe             & Western Europe     & GDP\\_per\\_capita & 2.674451e+04      \\\\\n",
       "\t Russia             & 2011               & 9.8                & 69.8               & 1.58               & 143211476          & Europe             & Eastern Europe     & GDP\\_per\\_capita & 3.024842e+03      \\\\\n",
       "\t Sweden             & 2011               & 2.4                & 81.7               & 1.90               &   9462352          & Europe             & Northern Europe    & GDP\\_per\\_capita & 3.347990e+04      \\\\\n",
       "\t Switzerland        & 2011               & 3.8                & 82.6               & 1.51               &   7925813          & Europe             & Western Europe     & GDP\\_per\\_capita & 3.796941e+04      \\\\\n",
       "\t Belgium            & 2011               & 3.5                & 80.2               & 1.85               &  11005175          & Europe             & Western Europe     & GDP\\_per\\_capita & 2.474028e+04      \\\\\n",
       "\t Poland             & 2011               & 4.7                & 76.5               & 1.39               &  38594217          & Europe             & Eastern Europe     & GDP\\_per\\_capita & 6.787290e+03      \\\\\n",
       "\t Austria            & 2011               & 3.4                & 80.7               & 1.44               &   8423559          & Europe             & Western Europe     & GDP\\_per\\_capita & 2.741280e+04      \\\\\n",
       "\t Norway             & 2011               & 2.5                & 81.1               & 1.88               &   4953945          & Europe             & Northern Europe    & GDP\\_per\\_capita & 4.001913e+04      \\\\\n",
       "\t Denmark            & 2011               & 3.2                & 79.9               & 1.76               &   5576577          & Europe             & Northern Europe    & GDP\\_per\\_capita & 3.067327e+04      \\\\\n",
       "\\end{tabular}\n"
      ],
      "text/markdown": [
       "\n",
       "| country | year | infant_mortality | life_expectancy | fertility | population | continent | region | key | value |\n",
       "|---|---|---|---|---|---|---|---|---|---|\n",
       "| Germany         | 2011            | 3.4             | 80.5            | 1.40            |  80424665       | Europe          | Western Europe  | gdp             | 2.131457e+12    |\n",
       "| United Kingdom  | 2011            | 4.2             | 80.5            | 1.90            |  63164949       | Europe          | Northern Europe | gdp             | 1.756002e+12    |\n",
       "| France          | 2011            | 3.5             | 81.6            | 1.98            |  63268405       | Europe          | Western Europe  | gdp             | 1.506143e+12    |\n",
       "| Italy           | 2011            | 3.3             | 82.0            | 1.45            |  59678993       | Europe          | Southern Europe | gdp             | 1.150683e+12    |\n",
       "| Spain           | 2011            | 3.8             | 82.0            | 1.47            |  46708366       | Europe          | Southern Europe | gdp             | 7.171940e+11    |\n",
       "| Netherlands     | 2011            | 3.6             | 80.9            | 1.76            |  16689863       | Europe          | Western Europe  | gdp             | 4.463622e+11    |\n",
       "| Russia          | 2011            | 9.8             | 69.8            | 1.58            | 143211476       | Europe          | Eastern Europe  | gdp             | 4.331921e+11    |\n",
       "| Sweden          | 2011            | 2.4             | 81.7            | 1.90            |   9462352       | Europe          | Northern Europe | gdp             | 3.167986e+11    |\n",
       "| Switzerland     | 2011            | 3.8             | 82.6            | 1.51            |   7925813       | Europe          | Western Europe  | gdp             | 3.009384e+11    |\n",
       "| Belgium         | 2011            | 3.5             | 80.2            | 1.85            |  11005175       | Europe          | Western Europe  | gdp             | 2.722711e+11    |\n",
       "| Poland          | 2011            | 4.7             | 76.5            | 1.39            |  38594217       | Europe          | Eastern Europe  | gdp             | 2.619501e+11    |\n",
       "| Austria         | 2011            | 3.4             | 80.7            | 1.44            |   8423559       | Europe          | Western Europe  | gdp             | 2.309133e+11    |\n",
       "| Norway          | 2011            | 2.5             | 81.1            | 1.88            |   4953945       | Europe          | Northern Europe | gdp             | 1.982526e+11    |\n",
       "| Denmark         | 2011            | 3.2             | 79.9            | 1.76            |   5576577       | Europe          | Northern Europe | gdp             | 1.710519e+11    |\n",
       "| Germany         | 2011            | 3.4             | 80.5            | 1.40            |  80424665       | Europe          | Western Europe  | GDP_per_capita  | 2.650252e+04    |\n",
       "| United Kingdom  | 2011            | 4.2             | 80.5            | 1.90            |  63164949       | Europe          | Northern Europe | GDP_per_capita  | 2.780026e+04    |\n",
       "| France          | 2011            | 3.5             | 81.6            | 1.98            |  63268405       | Europe          | Western Europe  | GDP_per_capita  | 2.380561e+04    |\n",
       "| Italy           | 2011            | 3.3             | 82.0            | 1.45            |  59678993       | Europe          | Southern Europe | GDP_per_capita  | 1.928121e+04    |\n",
       "| Spain           | 2011            | 3.8             | 82.0            | 1.47            |  46708366       | Europe          | Southern Europe | GDP_per_capita  | 1.535472e+04    |\n",
       "| Netherlands     | 2011            | 3.6             | 80.9            | 1.76            |  16689863       | Europe          | Western Europe  | GDP_per_capita  | 2.674451e+04    |\n",
       "| Russia          | 2011            | 9.8             | 69.8            | 1.58            | 143211476       | Europe          | Eastern Europe  | GDP_per_capita  | 3.024842e+03    |\n",
       "| Sweden          | 2011            | 2.4             | 81.7            | 1.90            |   9462352       | Europe          | Northern Europe | GDP_per_capita  | 3.347990e+04    |\n",
       "| Switzerland     | 2011            | 3.8             | 82.6            | 1.51            |   7925813       | Europe          | Western Europe  | GDP_per_capita  | 3.796941e+04    |\n",
       "| Belgium         | 2011            | 3.5             | 80.2            | 1.85            |  11005175       | Europe          | Western Europe  | GDP_per_capita  | 2.474028e+04    |\n",
       "| Poland          | 2011            | 4.7             | 76.5            | 1.39            |  38594217       | Europe          | Eastern Europe  | GDP_per_capita  | 6.787290e+03    |\n",
       "| Austria         | 2011            | 3.4             | 80.7            | 1.44            |   8423559       | Europe          | Western Europe  | GDP_per_capita  | 2.741280e+04    |\n",
       "| Norway          | 2011            | 2.5             | 81.1            | 1.88            |   4953945       | Europe          | Northern Europe | GDP_per_capita  | 4.001913e+04    |\n",
       "| Denmark         | 2011            | 3.2             | 79.9            | 1.76            |   5576577       | Europe          | Northern Europe | GDP_per_capita  | 3.067327e+04    |\n",
       "\n"
      ],
      "text/plain": [
       "   country        year infant_mortality life_expectancy fertility population\n",
       "1  Germany        2011 3.4              80.5            1.40       80424665 \n",
       "2  United Kingdom 2011 4.2              80.5            1.90       63164949 \n",
       "3  France         2011 3.5              81.6            1.98       63268405 \n",
       "4  Italy          2011 3.3              82.0            1.45       59678993 \n",
       "5  Spain          2011 3.8              82.0            1.47       46708366 \n",
       "6  Netherlands    2011 3.6              80.9            1.76       16689863 \n",
       "7  Russia         2011 9.8              69.8            1.58      143211476 \n",
       "8  Sweden         2011 2.4              81.7            1.90        9462352 \n",
       "9  Switzerland    2011 3.8              82.6            1.51        7925813 \n",
       "10 Belgium        2011 3.5              80.2            1.85       11005175 \n",
       "11 Poland         2011 4.7              76.5            1.39       38594217 \n",
       "12 Austria        2011 3.4              80.7            1.44        8423559 \n",
       "13 Norway         2011 2.5              81.1            1.88        4953945 \n",
       "14 Denmark        2011 3.2              79.9            1.76        5576577 \n",
       "15 Germany        2011 3.4              80.5            1.40       80424665 \n",
       "16 United Kingdom 2011 4.2              80.5            1.90       63164949 \n",
       "17 France         2011 3.5              81.6            1.98       63268405 \n",
       "18 Italy          2011 3.3              82.0            1.45       59678993 \n",
       "19 Spain          2011 3.8              82.0            1.47       46708366 \n",
       "20 Netherlands    2011 3.6              80.9            1.76       16689863 \n",
       "21 Russia         2011 9.8              69.8            1.58      143211476 \n",
       "22 Sweden         2011 2.4              81.7            1.90        9462352 \n",
       "23 Switzerland    2011 3.8              82.6            1.51        7925813 \n",
       "24 Belgium        2011 3.5              80.2            1.85       11005175 \n",
       "25 Poland         2011 4.7              76.5            1.39       38594217 \n",
       "26 Austria        2011 3.4              80.7            1.44        8423559 \n",
       "27 Norway         2011 2.5              81.1            1.88        4953945 \n",
       "28 Denmark        2011 3.2              79.9            1.76        5576577 \n",
       "   continent region          key            value       \n",
       "1  Europe    Western Europe  gdp            2.131457e+12\n",
       "2  Europe    Northern Europe gdp            1.756002e+12\n",
       "3  Europe    Western Europe  gdp            1.506143e+12\n",
       "4  Europe    Southern Europe gdp            1.150683e+12\n",
       "5  Europe    Southern Europe gdp            7.171940e+11\n",
       "6  Europe    Western Europe  gdp            4.463622e+11\n",
       "7  Europe    Eastern Europe  gdp            4.331921e+11\n",
       "8  Europe    Northern Europe gdp            3.167986e+11\n",
       "9  Europe    Western Europe  gdp            3.009384e+11\n",
       "10 Europe    Western Europe  gdp            2.722711e+11\n",
       "11 Europe    Eastern Europe  gdp            2.619501e+11\n",
       "12 Europe    Western Europe  gdp            2.309133e+11\n",
       "13 Europe    Northern Europe gdp            1.982526e+11\n",
       "14 Europe    Northern Europe gdp            1.710519e+11\n",
       "15 Europe    Western Europe  GDP_per_capita 2.650252e+04\n",
       "16 Europe    Northern Europe GDP_per_capita 2.780026e+04\n",
       "17 Europe    Western Europe  GDP_per_capita 2.380561e+04\n",
       "18 Europe    Southern Europe GDP_per_capita 1.928121e+04\n",
       "19 Europe    Southern Europe GDP_per_capita 1.535472e+04\n",
       "20 Europe    Western Europe  GDP_per_capita 2.674451e+04\n",
       "21 Europe    Eastern Europe  GDP_per_capita 3.024842e+03\n",
       "22 Europe    Northern Europe GDP_per_capita 3.347990e+04\n",
       "23 Europe    Western Europe  GDP_per_capita 3.796941e+04\n",
       "24 Europe    Western Europe  GDP_per_capita 2.474028e+04\n",
       "25 Europe    Eastern Europe  GDP_per_capita 6.787290e+03\n",
       "26 Europe    Western Europe  GDP_per_capita 2.741280e+04\n",
       "27 Europe    Northern Europe GDP_per_capita 4.001913e+04\n",
       "28 Europe    Northern Europe GDP_per_capita 3.067327e+04"
      ]
     },
     "metadata": {},
     "output_type": "display_data"
    }
   ],
   "source": [
    "gap_Eur_45632_gather <-\n",
    "gap_Eur_45632%>% gather(key, value, gdp, GDP_per_capita)\n",
    "\n",
    "gap_Eur_45632_gather"
   ]
  },
  {
   "cell_type": "code",
   "execution_count": 32,
   "metadata": {},
   "outputs": [
    {
     "data": {
      "image/png": "[encoded data removed]",
      "text/plain": [
       "plot without title"
      ]
     },
     "metadata": {},
     "output_type": "display_data"
    }
   ],
   "source": [
    "\n",
    "gap_Eur_45632_gather %>% ggplot(aes(x=reorder(country, -value), y=value, group=key)) +\n",
    "geom_col(fill=\"#7CCD7C\", colour=\"blue\", size=1)+\n",
    "theme(axis.text.x=element_text(angle = 90, hjust = 1), plot.title=element_text(hjust = 0.5))+\n",
    "labs(title=\"Gdp of European countries above $ 150.000.000.000\", x=\"Country\", y=\"GDP\")+\n",
    "facet_grid(key~., scales = \"free\") + theme(legend.position = \"none\")\n",
    "\n"
   ]
  },
  {
   "cell_type": "code",
   "execution_count": 33,
   "metadata": {},
   "outputs": [
    {
     "data": {
      "image/png": "[encoded data removed]",
      "text/plain": [
       "plot without title"
      ]
     },
     "metadata": {},
     "output_type": "display_data"
    }
   ],
   "source": [
    "\n",
    "gap_Eur_45632_gather %>% ggplot(aes(x=reorder(country, -value), y=log10(value), group=key)) +\n",
    "geom_col(aes(fill=key), position = \"dodge2\")+ #geom_bar(position = \"fill\")\n",
    "theme(axis.text.x=element_text(angle = 90, hjust = 1), plot.title=element_text(hjust = 0.5))+\n",
    "labs(title=\"Log10 Gdp and Gdp per capita \n",
    "of European countries above $ 150.000.000.000\", x=\"Country\", y=\"GDP\")"
   ]
  },
  {
   "cell_type": "code",
   "execution_count": 34,
   "metadata": {},
   "outputs": [
    {
     "data": {
      "text/html": [
       "<table>\n",
       "<thead><tr><th scope=col>continent</th><th scope=col>sum_pop</th></tr></thead>\n",
       "<tbody>\n",
       "\t<tr><td>Asia      </td><td>1634298905</td></tr>\n",
       "\t<tr><td>Europe    </td><td> 605336240</td></tr>\n",
       "\t<tr><td>Americas  </td><td> 424394790</td></tr>\n",
       "\t<tr><td>Africa    </td><td> 278714251</td></tr>\n",
       "\t<tr><td>Oceania   </td><td>  15618396</td></tr>\n",
       "</tbody>\n",
       "</table>\n"
      ],
      "text/latex": [
       "\\begin{tabular}{r|ll}\n",
       " continent & sum\\_pop\\\\\n",
       "\\hline\n",
       "\t Asia       & 1634298905\\\\\n",
       "\t Europe     &  605336240\\\\\n",
       "\t Americas   &  424394790\\\\\n",
       "\t Africa     &  278714251\\\\\n",
       "\t Oceania    &   15618396\\\\\n",
       "\\end{tabular}\n"
      ],
      "text/markdown": [
       "\n",
       "| continent | sum_pop |\n",
       "|---|---|\n",
       "| Asia       | 1634298905 |\n",
       "| Europe     |  605336240 |\n",
       "| Americas   |  424394790 |\n",
       "| Africa     |  278714251 |\n",
       "| Oceania    |   15618396 |\n",
       "\n"
      ],
      "text/plain": [
       "  continent sum_pop   \n",
       "1 Asia      1634298905\n",
       "2 Europe     605336240\n",
       "3 Americas   424394790\n",
       "4 Africa     278714251\n",
       "5 Oceania     15618396"
      ]
     },
     "metadata": {},
     "output_type": "display_data"
    },
    {
     "data": {
      "image/png": "[encoded data removed]",
      "text/plain": [
       "plot without title"
      ]
     },
     "metadata": {},
     "output_type": "display_data"
    }
   ],
   "source": [
    "# Exploring some relationships between date and numerical variables\n",
    "# Date variable: year\n",
    "\n",
    "gapminder_gb_cont_1960 <-\n",
    "gapminder %>% filter(year==1960) %>% \n",
    "group_by(continent) %>%\n",
    "summarize(sum_pop = sum(population)) %>%\n",
    "arrange(desc(sum_pop) ) \n",
    "gapminder_gb_cont_1960\n",
    "\n",
    "\n",
    "# Order bar plot according to y (population)\n",
    "gapminder_gb_cont_1960$continent<- factor(gapminder_gb_cont_1960$continent, \n",
    "                                          levels = \n",
    "                                          gapminder_gb_cont_1960$continent[order(gapminder_gb_cont_1960$sum_pop)])\n",
    "\n",
    "\n",
    "gapminder_gb_cont_1960 %>%\n",
    "ggplot(aes(x=continent, y=sum_pop, fill=sum_pop)) + \n",
    "geom_bar(stat = \"identity\")+ \n",
    "coord_flip()+\n",
    "scale_fill_gradient( low = \"red\", high = \"yellow\",  guide=FALSE)+\n",
    "labs(title=\"Population size of each continent in 1960\", x=\"Continents\", y=\"Population size\")+\n",
    "theme(plot.title = element_text(hjust=0.5))\n",
    "\n",
    "\n"
   ]
  },
  {
   "cell_type": "code",
   "execution_count": 35,
   "metadata": {},
   "outputs": [
    {
     "data": {
      "image/png": "[encoded data removed]",
      "text/plain": [
       "plot without title"
      ]
     },
     "metadata": {},
     "output_type": "display_data"
    }
   ],
   "source": [
    "# Stacked barplot by continent of selected years of population size \n",
    "\n",
    "gapminder_gb_cont_1960_1970_2010 <- gapminder %>% filter(year==1960 | year==1970 | year==2010) %>% \n",
    "group_by(continent, year) %>%\n",
    "summarize(sum_pop = sum(population)) %>%\n",
    "arrange(continent, desc(year)) \n",
    "\n",
    "\n",
    "\n",
    "gapminder_gb_cont_1960_1970_2010 %>%\n",
    "ggplot(aes(x=as.factor(year), y=sum_pop, fill=continent)) + \n",
    "geom_bar(stat = \"identity\")+ \n",
    "labs(title=\"Population size in 1960, 1970, 2010 stacked by continent\", x=\"Year\", y=\"Population size\")+\n",
    "theme(plot.title = element_text(hjust=0.5))\n"
   ]
  },
  {
   "cell_type": "code",
   "execution_count": 36,
   "metadata": {},
   "outputs": [
    {
     "name": "stdout",
     "output_type": "stream",
     "text": [
      "Observations: 10,545\n",
      "Variables: 9\n",
      "$ country          <fct> Albania, Algeria, Angola, Antigua and Barbuda, Arg...\n",
      "$ year             <int> 1960, 1960, 1960, 1960, 1960, 1960, 1960, 1960, 19...\n",
      "$ infant_mortality <dbl> 115.40, 148.20, 208.00, NA, 59.87, NA, NA, 20.30, ...\n",
      "$ life_expectancy  <dbl> 62.87, 47.50, 35.98, 62.97, 65.39, 66.86, 65.66, 7...\n",
      "$ fertility        <dbl> 6.19, 7.65, 7.32, 4.43, 3.11, 4.55, 4.82, 3.45, 2....\n",
      "$ population       <dbl> 1636054, 11124892, 5270844, 54681, 20619075, 18673...\n",
      "$ gdp              <dbl> NA, 13828152297, NA, NA, 108322326649, NA, NA, 966...\n",
      "$ continent        <fct> Europe, Africa, Africa, Americas, Americas, Asia, ...\n",
      "$ region           <fct> Southern Europe, Northern Africa, Middle Africa, C...\n",
      "Observations: 280\n",
      "Variables: 3\n",
      "$ continent <fct> Africa, Africa, Africa, Africa, Africa, Africa, Africa, A...\n",
      "$ year      <int> 1960, 1961, 1962, 1963, 1964, 1965, 1966, 1967, 1968, 196...\n",
      "$ pop_cont  <dbl> 278714251, 285503724, 292539738, 299822240, 307350161, 31...\n"
     ]
    },
    {
     "data": {
      "text/html": [
       "<table>\n",
       "<thead><tr><th scope=col>continent</th><th scope=col>year</th><th scope=col>pop_cont</th></tr></thead>\n",
       "<tbody>\n",
       "\t<tr><td>Africa   </td><td>1960     </td><td>278714251</td></tr>\n",
       "\t<tr><td>Africa   </td><td>1961     </td><td>285503724</td></tr>\n",
       "\t<tr><td>Africa   </td><td>1962     </td><td>292539738</td></tr>\n",
       "\t<tr><td>Africa   </td><td>1963     </td><td>299822240</td></tr>\n",
       "\t<tr><td>Africa   </td><td>1964     </td><td>307350161</td></tr>\n",
       "\t<tr><td>Africa   </td><td>1965     </td><td>315124229</td></tr>\n",
       "</tbody>\n",
       "</table>\n"
      ],
      "text/latex": [
       "\\begin{tabular}{r|lll}\n",
       " continent & year & pop\\_cont\\\\\n",
       "\\hline\n",
       "\t Africa    & 1960      & 278714251\\\\\n",
       "\t Africa    & 1961      & 285503724\\\\\n",
       "\t Africa    & 1962      & 292539738\\\\\n",
       "\t Africa    & 1963      & 299822240\\\\\n",
       "\t Africa    & 1964      & 307350161\\\\\n",
       "\t Africa    & 1965      & 315124229\\\\\n",
       "\\end{tabular}\n"
      ],
      "text/markdown": [
       "\n",
       "| continent | year | pop_cont |\n",
       "|---|---|---|\n",
       "| Africa    | 1960      | 278714251 |\n",
       "| Africa    | 1961      | 285503724 |\n",
       "| Africa    | 1962      | 292539738 |\n",
       "| Africa    | 1963      | 299822240 |\n",
       "| Africa    | 1964      | 307350161 |\n",
       "| Africa    | 1965      | 315124229 |\n",
       "\n"
      ],
      "text/plain": [
       "  continent year pop_cont \n",
       "1 Africa    1960 278714251\n",
       "2 Africa    1961 285503724\n",
       "3 Africa    1962 292539738\n",
       "4 Africa    1963 299822240\n",
       "5 Africa    1964 307350161\n",
       "6 Africa    1965 315124229"
      ]
     },
     "metadata": {},
     "output_type": "display_data"
    },
    {
     "data": {
      "text/html": [
       "<table>\n",
       "<thead><tr><th scope=col>continent</th><th scope=col>year</th><th scope=col>pop_cont</th></tr></thead>\n",
       "<tbody>\n",
       "\t<tr><td>Oceania </td><td>2010    </td><td>36012488</td></tr>\n",
       "\t<tr><td>Oceania </td><td>2011    </td><td>36615458</td></tr>\n",
       "\t<tr><td>Oceania </td><td>2012    </td><td>37203656</td></tr>\n",
       "\t<tr><td>Oceania </td><td>2013    </td><td>37779972</td></tr>\n",
       "\t<tr><td>Oceania </td><td>2014    </td><td>38350442</td></tr>\n",
       "\t<tr><td>Oceania </td><td>2015    </td><td>38919371</td></tr>\n",
       "</tbody>\n",
       "</table>\n"
      ],
      "text/latex": [
       "\\begin{tabular}{r|lll}\n",
       " continent & year & pop\\_cont\\\\\n",
       "\\hline\n",
       "\t Oceania  & 2010     & 36012488\\\\\n",
       "\t Oceania  & 2011     & 36615458\\\\\n",
       "\t Oceania  & 2012     & 37203656\\\\\n",
       "\t Oceania  & 2013     & 37779972\\\\\n",
       "\t Oceania  & 2014     & 38350442\\\\\n",
       "\t Oceania  & 2015     & 38919371\\\\\n",
       "\\end{tabular}\n"
      ],
      "text/markdown": [
       "\n",
       "| continent | year | pop_cont |\n",
       "|---|---|---|\n",
       "| Oceania  | 2010     | 36012488 |\n",
       "| Oceania  | 2011     | 36615458 |\n",
       "| Oceania  | 2012     | 37203656 |\n",
       "| Oceania  | 2013     | 37779972 |\n",
       "| Oceania  | 2014     | 38350442 |\n",
       "| Oceania  | 2015     | 38919371 |\n",
       "\n"
      ],
      "text/plain": [
       "  continent year pop_cont\n",
       "1 Oceania   2010 36012488\n",
       "2 Oceania   2011 36615458\n",
       "3 Oceania   2012 37203656\n",
       "4 Oceania   2013 37779972\n",
       "5 Oceania   2014 38350442\n",
       "6 Oceania   2015 38919371"
      ]
     },
     "metadata": {},
     "output_type": "display_data"
    }
   ],
   "source": [
    "glimpse(gapminder)\n",
    "\n",
    "gapminder_23423 <- \n",
    "gapminder %>%\n",
    "select(year, continent, population) %>% \n",
    "filter(year != 2016)%>%\n",
    "group_by(continent, year) %>%\n",
    "summarize(pop_cont=sum(population))\n",
    "\n",
    "\n",
    "glimpse(gapminder_23423)\n",
    "head(gapminder_23423)\n",
    "tail(gapminder_23423)\n"
   ]
  },
  {
   "cell_type": "code",
   "execution_count": 37,
   "metadata": {},
   "outputs": [
    {
     "data": {
      "image/png": "[encoded data removed]",
      "text/plain": [
       "plot without title"
      ]
     },
     "metadata": {},
     "output_type": "display_data"
    }
   ],
   "source": [
    "# Time series of population development\n",
    "# Asia has the greatest populations at any time\n",
    "\n",
    "gapminder_23423 %>%\n",
    "ggplot(aes(x= year, y=pop_cont, colour=continent)) +\n",
    "geom_line(size=1.5)+\n",
    "labs(title=\"Population development 1960 to 2015 over continents\", x=\"Years\",\n",
    "     y=\"Population development\")+theme(plot.title=element_text(hjust=0.5))+\n",
    "guides(colour = guide_legend(\"Continents\"))+\n",
    "scale_x_continuous(breaks = c(1960 , 1970, 1980, 1990, 2000, 2010))\n"
   ]
  },
  {
   "cell_type": "code",
   "execution_count": 38,
   "metadata": {},
   "outputs": [
    {
     "data": {
      "image/png": "[encoded data removed]",
      "text/plain": [
       "plot without title"
      ]
     },
     "metadata": {},
     "output_type": "display_data"
    }
   ],
   "source": [
    "# Time series of population development\n",
    "# Logarithmic scale makes differences in growth rates clearer\n",
    "# It seems Africa hast the greatest population growth rate\n",
    "\n",
    "gapminder_23423 %>%\n",
    "ggplot(aes(x= year, y=log10(pop_cont), colour=continent)) +\n",
    "geom_line(size=1.5)+\n",
    "labs(title=\"Population development 1960 to 2015 over continents\", x=\"Years\",\n",
    "     y=\"Population development in basis 10 logarithms\")+theme(plot.title=element_text(hjust=0.5))+\n",
    "guides(colour = guide_legend(\"Continents\"))+\n",
    "scale_x_continuous(breaks = c(1960 , 1970, 1980, 1990, 2000, 2010))\n"
   ]
  },
  {
   "cell_type": "code",
   "execution_count": 39,
   "metadata": {},
   "outputs": [
    {
     "data": {
      "text/html": [
       "<table>\n",
       "<thead><tr><th scope=col>year</th><th scope=col>Africa</th><th scope=col>Americas</th><th scope=col>Asia</th><th scope=col>Europe</th><th scope=col>Oceania</th></tr></thead>\n",
       "<tbody>\n",
       "\t<tr><td>1960      </td><td>278714251 </td><td>424394790 </td><td>1634298905</td><td>605336240 </td><td>15618396  </td></tr>\n",
       "\t<tr><td>1961      </td><td>285503724 </td><td>433877556 </td><td>1666963346</td><td>611395820 </td><td>15939360  </td></tr>\n",
       "\t<tr><td>1962      </td><td>292539738 </td><td>443435765 </td><td>1700988075</td><td>617526205 </td><td>16259778  </td></tr>\n",
       "\t<tr><td>1963      </td><td>299822240 </td><td>453015223 </td><td>1736816136</td><td>623587410 </td><td>16588712  </td></tr>\n",
       "\t<tr><td>1964      </td><td>307350161 </td><td>462552420 </td><td>1774992376</td><td>629393357 </td><td>16938503  </td></tr>\n",
       "\t<tr><td>1965      </td><td>315124229 </td><td>472004870 </td><td>1815851436</td><td>634814032 </td><td>17316896  </td></tr>\n",
       "</tbody>\n",
       "</table>\n"
      ],
      "text/latex": [
       "\\begin{tabular}{r|llllll}\n",
       " year & Africa & Americas & Asia & Europe & Oceania\\\\\n",
       "\\hline\n",
       "\t 1960       & 278714251  & 424394790  & 1634298905 & 605336240  & 15618396  \\\\\n",
       "\t 1961       & 285503724  & 433877556  & 1666963346 & 611395820  & 15939360  \\\\\n",
       "\t 1962       & 292539738  & 443435765  & 1700988075 & 617526205  & 16259778  \\\\\n",
       "\t 1963       & 299822240  & 453015223  & 1736816136 & 623587410  & 16588712  \\\\\n",
       "\t 1964       & 307350161  & 462552420  & 1774992376 & 629393357  & 16938503  \\\\\n",
       "\t 1965       & 315124229  & 472004870  & 1815851436 & 634814032  & 17316896  \\\\\n",
       "\\end{tabular}\n"
      ],
      "text/markdown": [
       "\n",
       "| year | Africa | Americas | Asia | Europe | Oceania |\n",
       "|---|---|---|---|---|---|\n",
       "| 1960       | 278714251  | 424394790  | 1634298905 | 605336240  | 15618396   |\n",
       "| 1961       | 285503724  | 433877556  | 1666963346 | 611395820  | 15939360   |\n",
       "| 1962       | 292539738  | 443435765  | 1700988075 | 617526205  | 16259778   |\n",
       "| 1963       | 299822240  | 453015223  | 1736816136 | 623587410  | 16588712   |\n",
       "| 1964       | 307350161  | 462552420  | 1774992376 | 629393357  | 16938503   |\n",
       "| 1965       | 315124229  | 472004870  | 1815851436 | 634814032  | 17316896   |\n",
       "\n"
      ],
      "text/plain": [
       "  year Africa    Americas  Asia       Europe    Oceania \n",
       "1 1960 278714251 424394790 1634298905 605336240 15618396\n",
       "2 1961 285503724 433877556 1666963346 611395820 15939360\n",
       "3 1962 292539738 443435765 1700988075 617526205 16259778\n",
       "4 1963 299822240 453015223 1736816136 623587410 16588712\n",
       "5 1964 307350161 462552420 1774992376 629393357 16938503\n",
       "6 1965 315124229 472004870 1815851436 634814032 17316896"
      ]
     },
     "metadata": {},
     "output_type": "display_data"
    },
    {
     "data": {
      "text/html": [
       "56"
      ],
      "text/latex": [
       "56"
      ],
      "text/markdown": [
       "56"
      ],
      "text/plain": [
       "[1] 56"
      ]
     },
     "metadata": {},
     "output_type": "display_data"
    }
   ],
   "source": [
    "# Isolate or spread one column continent into columns for each continent\n",
    "\n",
    "gapminder_spread <-\n",
    "gapminder %>% select(year, continent, population) %>% \n",
    "group_by(continent, year) %>% summarize(pop_cont=sum(population)) %>%\n",
    "spread(continent, pop_cont) %>% slice(1:56)\n",
    "\n",
    "head(gapminder_spread)\n",
    "\n",
    "\n",
    "nrow(gapminder_spread)\n",
    "\n"
   ]
  },
  {
   "cell_type": "code",
   "execution_count": 40,
   "metadata": {},
   "outputs": [
    {
     "data": {
      "text/html": [
       "<table>\n",
       "<thead><tr><th scope=col>country</th><th scope=col>year</th><th scope=col>pop_cont</th></tr></thead>\n",
       "<tbody>\n",
       "\t<tr><td>Albania</td><td>1960   </td><td>1636054</td></tr>\n",
       "\t<tr><td>Albania</td><td>1961   </td><td>1685901</td></tr>\n",
       "\t<tr><td>Albania</td><td>1962   </td><td>1737645</td></tr>\n",
       "\t<tr><td>Albania</td><td>1963   </td><td>1790533</td></tr>\n",
       "\t<tr><td>Albania</td><td>1964   </td><td>1843596</td></tr>\n",
       "\t<tr><td>Albania</td><td>1965   </td><td>1896125</td></tr>\n",
       "</tbody>\n",
       "</table>\n"
      ],
      "text/latex": [
       "\\begin{tabular}{r|lll}\n",
       " country & year & pop\\_cont\\\\\n",
       "\\hline\n",
       "\t Albania & 1960    & 1636054\\\\\n",
       "\t Albania & 1961    & 1685901\\\\\n",
       "\t Albania & 1962    & 1737645\\\\\n",
       "\t Albania & 1963    & 1790533\\\\\n",
       "\t Albania & 1964    & 1843596\\\\\n",
       "\t Albania & 1965    & 1896125\\\\\n",
       "\\end{tabular}\n"
      ],
      "text/markdown": [
       "\n",
       "| country | year | pop_cont |\n",
       "|---|---|---|\n",
       "| Albania | 1960    | 1636054 |\n",
       "| Albania | 1961    | 1685901 |\n",
       "| Albania | 1962    | 1737645 |\n",
       "| Albania | 1963    | 1790533 |\n",
       "| Albania | 1964    | 1843596 |\n",
       "| Albania | 1965    | 1896125 |\n",
       "\n"
      ],
      "text/plain": [
       "  country year pop_cont\n",
       "1 Albania 1960 1636054 \n",
       "2 Albania 1961 1685901 \n",
       "3 Albania 1962 1737645 \n",
       "4 Albania 1963 1790533 \n",
       "5 Albania 1964 1843596 \n",
       "6 Albania 1965 1896125 "
      ]
     },
     "metadata": {},
     "output_type": "display_data"
    },
    {
     "data": {
      "text/html": [
       "<table>\n",
       "<thead><tr><th scope=col>country</th><th scope=col>year</th><th scope=col>pop_cont</th></tr></thead>\n",
       "<tbody>\n",
       "\t<tr><td>United Kingdom</td><td>2010          </td><td>62716684      </td></tr>\n",
       "\t<tr><td>United Kingdom</td><td>2011          </td><td>63164949      </td></tr>\n",
       "\t<tr><td>United Kingdom</td><td>2012          </td><td>63573766      </td></tr>\n",
       "\t<tr><td>United Kingdom</td><td>2013          </td><td>63955654      </td></tr>\n",
       "\t<tr><td>United Kingdom</td><td>2014          </td><td>64331348      </td></tr>\n",
       "\t<tr><td>United Kingdom</td><td>2015          </td><td>64715810      </td></tr>\n",
       "</tbody>\n",
       "</table>\n"
      ],
      "text/latex": [
       "\\begin{tabular}{r|lll}\n",
       " country & year & pop\\_cont\\\\\n",
       "\\hline\n",
       "\t United Kingdom & 2010           & 62716684      \\\\\n",
       "\t United Kingdom & 2011           & 63164949      \\\\\n",
       "\t United Kingdom & 2012           & 63573766      \\\\\n",
       "\t United Kingdom & 2013           & 63955654      \\\\\n",
       "\t United Kingdom & 2014           & 64331348      \\\\\n",
       "\t United Kingdom & 2015           & 64715810      \\\\\n",
       "\\end{tabular}\n"
      ],
      "text/markdown": [
       "\n",
       "| country | year | pop_cont |\n",
       "|---|---|---|\n",
       "| United Kingdom | 2010           | 62716684       |\n",
       "| United Kingdom | 2011           | 63164949       |\n",
       "| United Kingdom | 2012           | 63573766       |\n",
       "| United Kingdom | 2013           | 63955654       |\n",
       "| United Kingdom | 2014           | 64331348       |\n",
       "| United Kingdom | 2015           | 64715810       |\n",
       "\n"
      ],
      "text/plain": [
       "  country        year pop_cont\n",
       "1 United Kingdom 2010 62716684\n",
       "2 United Kingdom 2011 63164949\n",
       "3 United Kingdom 2012 63573766\n",
       "4 United Kingdom 2013 63955654\n",
       "5 United Kingdom 2014 64331348\n",
       "6 United Kingdom 2015 64715810"
      ]
     },
     "metadata": {},
     "output_type": "display_data"
    }
   ],
   "source": [
    "gapminder_78978 <- \n",
    "gapminder %>%\n",
    "select(year, country, continent, population) %>% \n",
    "filter(continent==\"Europe\")%>%\n",
    "filter(year != 2016) %>%\n",
    "group_by(country, year) %>%\n",
    "summarize(pop_cont=population)\n",
    "\n",
    "head(gapminder_78978)\n",
    "tail(gapminder_78978)"
   ]
  },
  {
   "cell_type": "code",
   "execution_count": 41,
   "metadata": {},
   "outputs": [
    {
     "name": "stdout",
     "output_type": "stream",
     "text": [
      "Observations: 10,545\n",
      "Variables: 9\n",
      "$ country          <fct> Albania, Algeria, Angola, Antigua and Barbuda, Arg...\n",
      "$ year             <int> 1960, 1960, 1960, 1960, 1960, 1960, 1960, 1960, 19...\n",
      "$ infant_mortality <dbl> 115.40, 148.20, 208.00, NA, 59.87, NA, NA, 20.30, ...\n",
      "$ life_expectancy  <dbl> 62.87, 47.50, 35.98, 62.97, 65.39, 66.86, 65.66, 7...\n",
      "$ fertility        <dbl> 6.19, 7.65, 7.32, 4.43, 3.11, 4.55, 4.82, 3.45, 2....\n",
      "$ population       <dbl> 1636054, 11124892, 5270844, 54681, 20619075, 18673...\n",
      "$ gdp              <dbl> NA, 13828152297, NA, NA, 108322326649, NA, NA, 966...\n",
      "$ continent        <fct> Europe, Africa, Africa, Americas, Americas, Asia, ...\n",
      "$ region           <fct> Southern Europe, Northern Africa, Middle Africa, C...\n"
     ]
    },
    {
     "data": {
      "text/html": [
       "0"
      ],
      "text/latex": [
       "0"
      ],
      "text/markdown": [
       "0"
      ],
      "text/plain": [
       "[1] 0"
      ]
     },
     "metadata": {},
     "output_type": "display_data"
    },
    {
     "data": {
      "text/html": [
       "<table>\n",
       "<thead><tr><th scope=col>continent</th><th scope=col>year</th><th scope=col>gdp_cont</th></tr></thead>\n",
       "<tbody>\n",
       "\t<tr><td>Africa      </td><td>1960        </td><td>116871922456</td></tr>\n",
       "\t<tr><td>Africa      </td><td>1961        </td><td>120214511198</td></tr>\n",
       "\t<tr><td>Africa      </td><td>1962        </td><td>124778536835</td></tr>\n",
       "\t<tr><td>Africa      </td><td>1963        </td><td>135537136432</td></tr>\n",
       "\t<tr><td>Africa      </td><td>1964        </td><td>143308581668</td></tr>\n",
       "\t<tr><td>Africa      </td><td>1965        </td><td>152402001778</td></tr>\n",
       "</tbody>\n",
       "</table>\n"
      ],
      "text/latex": [
       "\\begin{tabular}{r|lll}\n",
       " continent & year & gdp\\_cont\\\\\n",
       "\\hline\n",
       "\t Africa       & 1960         & 116871922456\\\\\n",
       "\t Africa       & 1961         & 120214511198\\\\\n",
       "\t Africa       & 1962         & 124778536835\\\\\n",
       "\t Africa       & 1963         & 135537136432\\\\\n",
       "\t Africa       & 1964         & 143308581668\\\\\n",
       "\t Africa       & 1965         & 152402001778\\\\\n",
       "\\end{tabular}\n"
      ],
      "text/markdown": [
       "\n",
       "| continent | year | gdp_cont |\n",
       "|---|---|---|\n",
       "| Africa       | 1960         | 116871922456 |\n",
       "| Africa       | 1961         | 120214511198 |\n",
       "| Africa       | 1962         | 124778536835 |\n",
       "| Africa       | 1963         | 135537136432 |\n",
       "| Africa       | 1964         | 143308581668 |\n",
       "| Africa       | 1965         | 152402001778 |\n",
       "\n"
      ],
      "text/plain": [
       "  continent year gdp_cont    \n",
       "1 Africa    1960 116871922456\n",
       "2 Africa    1961 120214511198\n",
       "3 Africa    1962 124778536835\n",
       "4 Africa    1963 135537136432\n",
       "5 Africa    1964 143308581668\n",
       "6 Africa    1965 152402001778"
      ]
     },
     "metadata": {},
     "output_type": "display_data"
    },
    {
     "name": "stdout",
     "output_type": "stream",
     "text": [
      "Observations: 260\n",
      "Variables: 3\n",
      "$ continent <fct> Africa, Africa, Africa, Africa, Africa, Africa, Africa, A...\n",
      "$ year      <int> 1960, 1961, 1962, 1963, 1964, 1965, 1966, 1967, 1968, 196...\n",
      "$ gdp_cont  <dbl> 116871922456, 120214511198, 124778536835, 135537136432, 1...\n"
     ]
    },
    {
     "data": {
      "text/plain": [
       "     Min.   1st Qu.    Median      Mean   3rd Qu.      Max.      NA's \n",
       "4.040e+07 1.846e+09 7.794e+09 1.480e+11 5.540e+10 1.174e+13      2972 "
      ]
     },
     "metadata": {},
     "output_type": "display_data"
    }
   ],
   "source": [
    "glimpse(gapminder)\n",
    "\n",
    "gapminder_7893 <- \n",
    "gapminder %>%\n",
    "filter(!is.na(gdp)) %>%\n",
    "select(year, continent, gdp) %>% \n",
    "filter(year != 2016)%>%\n",
    "group_by(continent, year) %>%\n",
    "summarize(gdp_cont=sum(gdp))\n",
    "\n",
    "sum(is.na(gapminder_7893))\n",
    "head(gapminder_7893)\n",
    "glimpse(gapminder_7893)\n",
    "\n",
    "summary(gapminder$gdp)"
   ]
  },
  {
   "cell_type": "code",
   "execution_count": 42,
   "metadata": {},
   "outputs": [
    {
     "data": {
      "image/png": "[encoded data removed]",
      "text/plain": [
       "plot without title"
      ]
     },
     "metadata": {},
     "output_type": "display_data"
    }
   ],
   "source": [
    "gapminder_7893 %>%\n",
    "ggplot(aes(x= year, y=gdp_cont, colour=continent)) +\n",
    "geom_line(size=1.5)+\n",
    "labs(title=\"GDP development 1960 to 2015 over continents\", x=\"Years\",\n",
    "     y=\"GDP\")+theme(plot.title=element_text(hjust=0.5))+\n",
    "guides(colour = guide_legend(\"Continents\"))+\n",
    "scale_x_continuous(breaks = c(1960 , 1970, 1980, 1990, 2000, 2010))\n",
    "\n",
    "# GDP has a lot of NA values\n",
    "# Does it make sense using GDP in a data model?\n",
    "# Filter or omit NA-values?\n",
    "# Substitute GDP NA values?\n",
    "# Decision: Filter for NA-values"
   ]
  },
  {
   "cell_type": "code",
   "execution_count": 43,
   "metadata": {},
   "outputs": [
    {
     "data": {
      "image/png": "[encoded data removed]",
      "text/plain": [
       "plot without title"
      ]
     },
     "metadata": {},
     "output_type": "display_data"
    }
   ],
   "source": [
    "gapminder_7893 %>%\n",
    "ggplot(aes(x= year, y=log10(gdp_cont), colour=continent)) +\n",
    "geom_line(size=1.5)+\n",
    "labs(title=\"Log10 GDP development 1960 to 2015 over continents\", x=\"Years\",\n",
    "     y=\"Log GDP\")+theme(plot.title=element_text(hjust=0.5))+\n",
    "guides(colour = guide_legend(\"Continents\"))+\n",
    "scale_x_continuous(breaks = c(1960 , 1965, 1970, 1975, 1980, 1985, 1990, 1995, 2000, 2005, 2010, 2015))\n",
    "\n",
    "# It seems gdp growth of Asia is accelerating fast"
   ]
  },
  {
   "cell_type": "code",
   "execution_count": 44,
   "metadata": {},
   "outputs": [
    {
     "data": {
      "text/html": [
       "<table>\n",
       "<thead><tr><th scope=col>continent</th><th scope=col>year</th><th scope=col>Number_na</th></tr></thead>\n",
       "<tbody>\n",
       "\t<tr><td>Africa</td><td>1960  </td><td>19    </td></tr>\n",
       "\t<tr><td>Africa</td><td>1961  </td><td>18    </td></tr>\n",
       "\t<tr><td>Africa</td><td>1962  </td><td>18    </td></tr>\n",
       "\t<tr><td>Africa</td><td>1963  </td><td>18    </td></tr>\n",
       "\t<tr><td>Africa</td><td>1964  </td><td>18    </td></tr>\n",
       "\t<tr><td>Africa</td><td>1965  </td><td>18    </td></tr>\n",
       "</tbody>\n",
       "</table>\n"
      ],
      "text/latex": [
       "\\begin{tabular}{r|lll}\n",
       " continent & year & Number\\_na\\\\\n",
       "\\hline\n",
       "\t Africa & 1960   & 19    \\\\\n",
       "\t Africa & 1961   & 18    \\\\\n",
       "\t Africa & 1962   & 18    \\\\\n",
       "\t Africa & 1963   & 18    \\\\\n",
       "\t Africa & 1964   & 18    \\\\\n",
       "\t Africa & 1965   & 18    \\\\\n",
       "\\end{tabular}\n"
      ],
      "text/markdown": [
       "\n",
       "| continent | year | Number_na |\n",
       "|---|---|---|\n",
       "| Africa | 1960   | 19     |\n",
       "| Africa | 1961   | 18     |\n",
       "| Africa | 1962   | 18     |\n",
       "| Africa | 1963   | 18     |\n",
       "| Africa | 1964   | 18     |\n",
       "| Africa | 1965   | 18     |\n",
       "\n"
      ],
      "text/plain": [
       "  continent year Number_na\n",
       "1 Africa    1960 19       \n",
       "2 Africa    1961 18       \n",
       "3 Africa    1962 18       \n",
       "4 Africa    1963 18       \n",
       "5 Africa    1964 18       \n",
       "6 Africa    1965 18       "
      ]
     },
     "metadata": {},
     "output_type": "display_data"
    },
    {
     "name": "stdout",
     "output_type": "stream",
     "text": [
      "Observations: 227\n",
      "Variables: 3\n",
      "$ continent <fct> Africa, Africa, Africa, Africa, Africa, Africa, Africa, A...\n",
      "$ year      <int> 1960, 1961, 1962, 1963, 1964, 1965, 1966, 1967, 1968, 196...\n",
      "$ Number_na <int> 19, 18, 18, 18, 18, 18, 17, 16, 16, 16, 14, 14, 14, 14, 1...\n"
     ]
    }
   ],
   "source": [
    "# Get a clearer picture of na-values\n",
    "# Extract na-values by continent using a dplyr combination\n",
    "\n",
    "gapminder_0563 <- \n",
    "gapminder %>%\n",
    "select(year, continent, gdp) %>% \n",
    "filter(is.na(gdp))%>%\n",
    "filter(year != 2016)%>%\n",
    "group_by(continent, year) %>%\n",
    "summarize(Number_na = n())\n",
    "\n",
    "head(gapminder_0563 )\n",
    "glimpse(gapminder_0563 )\n",
    "\n"
   ]
  },
  {
   "cell_type": "code",
   "execution_count": 45,
   "metadata": {},
   "outputs": [
    {
     "data": {
      "image/png": "[encoded data removed]",
      "text/plain": [
       "plot without title"
      ]
     },
     "metadata": {},
     "output_type": "display_data"
    }
   ],
   "source": [
    "# Show na values with a bar plot \n",
    "\n",
    "gapminder_0563 %>%\n",
    "ggplot(aes(x=continent, y= Number_na)) +\n",
    "geom_col(color=c(\"#8B0A50\"), fill=c(\"#1E90FF\"))+\n",
    "labs(title=\"Number of na values by continent\", x=\"Continent\", y=\"Number of NA values\")+\n",
    "theme(plot.title=element_text(hjust=0.5))"
   ]
  },
  {
   "cell_type": "code",
   "execution_count": 46,
   "metadata": {},
   "outputs": [
    {
     "data": {
      "text/html": [
       "<table>\n",
       "<thead><tr><th scope=col>continent</th><th scope=col>year</th><th scope=col>Proportions_Number_na</th></tr></thead>\n",
       "<tbody>\n",
       "\t<tr><td>Africa     </td><td>1960       </td><td>0.006393001</td></tr>\n",
       "\t<tr><td>Africa     </td><td>1961       </td><td>0.006056528</td></tr>\n",
       "\t<tr><td>Africa     </td><td>1962       </td><td>0.006056528</td></tr>\n",
       "\t<tr><td>Africa     </td><td>1963       </td><td>0.006056528</td></tr>\n",
       "\t<tr><td>Africa     </td><td>1964       </td><td>0.006056528</td></tr>\n",
       "\t<tr><td>Africa     </td><td>1965       </td><td>0.006056528</td></tr>\n",
       "</tbody>\n",
       "</table>\n"
      ],
      "text/latex": [
       "\\begin{tabular}{r|lll}\n",
       " continent & year & Proportions\\_Number\\_na\\\\\n",
       "\\hline\n",
       "\t Africa      & 1960        & 0.006393001\\\\\n",
       "\t Africa      & 1961        & 0.006056528\\\\\n",
       "\t Africa      & 1962        & 0.006056528\\\\\n",
       "\t Africa      & 1963        & 0.006056528\\\\\n",
       "\t Africa      & 1964        & 0.006056528\\\\\n",
       "\t Africa      & 1965        & 0.006056528\\\\\n",
       "\\end{tabular}\n"
      ],
      "text/markdown": [
       "\n",
       "| continent | year | Proportions_Number_na |\n",
       "|---|---|---|\n",
       "| Africa      | 1960        | 0.006393001 |\n",
       "| Africa      | 1961        | 0.006056528 |\n",
       "| Africa      | 1962        | 0.006056528 |\n",
       "| Africa      | 1963        | 0.006056528 |\n",
       "| Africa      | 1964        | 0.006056528 |\n",
       "| Africa      | 1965        | 0.006056528 |\n",
       "\n"
      ],
      "text/plain": [
       "  continent year Proportions_Number_na\n",
       "1 Africa    1960 0.006393001          \n",
       "2 Africa    1961 0.006056528          \n",
       "3 Africa    1962 0.006056528          \n",
       "4 Africa    1963 0.006056528          \n",
       "5 Africa    1964 0.006056528          \n",
       "6 Africa    1965 0.006056528          "
      ]
     },
     "metadata": {},
     "output_type": "display_data"
    }
   ],
   "source": [
    "# Show and calculate proportions of na-values on total na-values\n",
    "\n",
    "Total_na <- sum(is.na(gapminder$gdp))\n",
    "\n",
    "gapminder_1289 <- \n",
    "gapminder %>%\n",
    "select(year, continent, gdp) %>% \n",
    "filter(is.na(gdp))%>%\n",
    "filter(year != 2016)%>%\n",
    "group_by(continent, year) %>%\n",
    "summarize(Proportions_Number_na = n()/Total_na)\n",
    "\n",
    "head(gapminder_1289 )"
   ]
  },
  {
   "cell_type": "code",
   "execution_count": 47,
   "metadata": {},
   "outputs": [
    {
     "data": {
      "image/png": "[encoded data removed]",
      "text/plain": [
       "plot without title"
      ]
     },
     "metadata": {},
     "output_type": "display_data"
    }
   ],
   "source": [
    "gapminder_1289  %>%\n",
    "ggplot(aes(x=continent, y= Proportions_Number_na)) +\n",
    "geom_col(color=c(\"#8B0A50\"), fill=c(\"#1E90FF\"))+\n",
    "labs(title=\"Number of na values by continent\", x=\"Continent\", y=\"Proportion of NA values on total na values\")+\n",
    "theme(plot.title=element_text(hjust=0.5))"
   ]
  },
  {
   "cell_type": "code",
   "execution_count": 48,
   "metadata": {},
   "outputs": [
    {
     "data": {
      "text/html": [
       "<table>\n",
       "<thead><tr><th scope=col>country</th><th scope=col>year</th><th scope=col>infant_mortality</th><th scope=col>life_expectancy</th><th scope=col>fertility</th><th scope=col>population</th><th scope=col>gdp</th><th scope=col>continent</th><th scope=col>region</th></tr></thead>\n",
       "<tbody>\n",
       "\t<tr><td>Brazil          </td><td>1960            </td><td>129.4           </td><td>55.27           </td><td>6.21            </td><td> 72493585       </td><td>105343379555    </td><td>Americas        </td><td>South America   </td></tr>\n",
       "\t<tr><td>Canada          </td><td>1960            </td><td> 27.8           </td><td>71.00           </td><td>3.91            </td><td> 17909232       </td><td>167894860728    </td><td>Americas        </td><td>Northern America</td></tr>\n",
       "\t<tr><td>China           </td><td>1960            </td><td>190.0           </td><td>30.53           </td><td>3.99            </td><td>644450173       </td><td> 70348527260    </td><td>Asia            </td><td>Eastern Asia    </td></tr>\n",
       "\t<tr><td>France          </td><td>1960            </td><td> 23.7           </td><td>70.49           </td><td>2.77            </td><td> 45865699       </td><td>349778187326    </td><td>Europe          </td><td>Western Europe  </td></tr>\n",
       "\t<tr><td>Germany         </td><td>1960            </td><td> 34.0           </td><td>69.26           </td><td>2.41            </td><td> 73179665       </td><td>          NA    </td><td>Europe          </td><td>Western Europe  </td></tr>\n",
       "\t<tr><td>India           </td><td>1960            </td><td>165.1           </td><td>41.26           </td><td>5.87            </td><td>449661874       </td><td> 81042654922    </td><td>Asia            </td><td>Southern Asia   </td></tr>\n",
       "</tbody>\n",
       "</table>\n"
      ],
      "text/latex": [
       "\\begin{tabular}{r|lllllllll}\n",
       " country & year & infant\\_mortality & life\\_expectancy & fertility & population & gdp & continent & region\\\\\n",
       "\\hline\n",
       "\t Brazil           & 1960             & 129.4            & 55.27            & 6.21             &  72493585        & 105343379555     & Americas         & South America   \\\\\n",
       "\t Canada           & 1960             &  27.8            & 71.00            & 3.91             &  17909232        & 167894860728     & Americas         & Northern America\\\\\n",
       "\t China            & 1960             & 190.0            & 30.53            & 3.99             & 644450173        &  70348527260     & Asia             & Eastern Asia    \\\\\n",
       "\t France           & 1960             &  23.7            & 70.49            & 2.77             &  45865699        & 349778187326     & Europe           & Western Europe  \\\\\n",
       "\t Germany          & 1960             &  34.0            & 69.26            & 2.41             &  73179665        &           NA     & Europe           & Western Europe  \\\\\n",
       "\t India            & 1960             & 165.1            & 41.26            & 5.87             & 449661874        &  81042654922     & Asia             & Southern Asia   \\\\\n",
       "\\end{tabular}\n"
      ],
      "text/markdown": [
       "\n",
       "| country | year | infant_mortality | life_expectancy | fertility | population | gdp | continent | region |\n",
       "|---|---|---|---|---|---|---|---|---|\n",
       "| Brazil           | 1960             | 129.4            | 55.27            | 6.21             |  72493585        | 105343379555     | Americas         | South America    |\n",
       "| Canada           | 1960             |  27.8            | 71.00            | 3.91             |  17909232        | 167894860728     | Americas         | Northern America |\n",
       "| China            | 1960             | 190.0            | 30.53            | 3.99             | 644450173        |  70348527260     | Asia             | Eastern Asia     |\n",
       "| France           | 1960             |  23.7            | 70.49            | 2.77             |  45865699        | 349778187326     | Europe           | Western Europe   |\n",
       "| Germany          | 1960             |  34.0            | 69.26            | 2.41             |  73179665        |           NA     | Europe           | Western Europe   |\n",
       "| India            | 1960             | 165.1            | 41.26            | 5.87             | 449661874        |  81042654922     | Asia             | Southern Asia    |\n",
       "\n"
      ],
      "text/plain": [
       "  country year infant_mortality life_expectancy fertility population\n",
       "1 Brazil  1960 129.4            55.27           6.21       72493585 \n",
       "2 Canada  1960  27.8            71.00           3.91       17909232 \n",
       "3 China   1960 190.0            30.53           3.99      644450173 \n",
       "4 France  1960  23.7            70.49           2.77       45865699 \n",
       "5 Germany 1960  34.0            69.26           2.41       73179665 \n",
       "6 India   1960 165.1            41.26           5.87      449661874 \n",
       "  gdp          continent region          \n",
       "1 105343379555 Americas  South America   \n",
       "2 167894860728 Americas  Northern America\n",
       "3  70348527260 Asia      Eastern Asia    \n",
       "4 349778187326 Europe    Western Europe  \n",
       "5           NA Europe    Western Europe  \n",
       "6  81042654922 Asia      Southern Asia   "
      ]
     },
     "metadata": {},
     "output_type": "display_data"
    },
    {
     "data": {
      "text/html": [
       "<table>\n",
       "<thead><tr><th scope=col>country</th><th scope=col>year</th><th scope=col>sum_fert</th></tr></thead>\n",
       "<tbody>\n",
       "\t<tr><td>Brazil</td><td>1960  </td><td>6.21  </td></tr>\n",
       "\t<tr><td>Brazil</td><td>1961  </td><td>6.19  </td></tr>\n",
       "\t<tr><td>Brazil</td><td>1962  </td><td>6.14  </td></tr>\n",
       "\t<tr><td>Brazil</td><td>1963  </td><td>6.06  </td></tr>\n",
       "\t<tr><td>Brazil</td><td>1964  </td><td>5.95  </td></tr>\n",
       "\t<tr><td>Brazil</td><td>1965  </td><td>5.82  </td></tr>\n",
       "</tbody>\n",
       "</table>\n"
      ],
      "text/latex": [
       "\\begin{tabular}{r|lll}\n",
       " country & year & sum\\_fert\\\\\n",
       "\\hline\n",
       "\t Brazil & 1960   & 6.21  \\\\\n",
       "\t Brazil & 1961   & 6.19  \\\\\n",
       "\t Brazil & 1962   & 6.14  \\\\\n",
       "\t Brazil & 1963   & 6.06  \\\\\n",
       "\t Brazil & 1964   & 5.95  \\\\\n",
       "\t Brazil & 1965   & 5.82  \\\\\n",
       "\\end{tabular}\n"
      ],
      "text/markdown": [
       "\n",
       "| country | year | sum_fert |\n",
       "|---|---|---|\n",
       "| Brazil | 1960   | 6.21   |\n",
       "| Brazil | 1961   | 6.19   |\n",
       "| Brazil | 1962   | 6.14   |\n",
       "| Brazil | 1963   | 6.06   |\n",
       "| Brazil | 1964   | 5.95   |\n",
       "| Brazil | 1965   | 5.82   |\n",
       "\n"
      ],
      "text/plain": [
       "  country year sum_fert\n",
       "1 Brazil  1960 6.21    \n",
       "2 Brazil  1961 6.19    \n",
       "3 Brazil  1962 6.14    \n",
       "4 Brazil  1963 6.06    \n",
       "5 Brazil  1964 5.95    \n",
       "6 Brazil  1965 5.82    "
      ]
     },
     "metadata": {},
     "output_type": "display_data"
    }
   ],
   "source": [
    "# Investigating selected countries Bric + G7\n",
    "\n",
    "# levels(gapminder$country)\n",
    "\n",
    "gapminder8754 <-\n",
    "gapminder %>% \n",
    "filter(country ==\"Brazil\" | country == \"China\" | country == \"United States\" | country == \"Germany\" | country == \"Japan\" |\n",
    "       country ==\"France\" | country == \"Russia\" | country == \"United Kingdom\" | country ==  \"India\" | \n",
    "       country == \"Italy\" | country == \"Canada\") \n",
    "\n",
    "head(gapminder8754)\n",
    " \n",
    "gapminder3439 <-\n",
    "gapminder8754 %>% group_by(country, year) %>% summarize(sum_fert = fertility)\n",
    "\n",
    "head(gapminder3439)"
   ]
  },
  {
   "cell_type": "code",
   "execution_count": 49,
   "metadata": {},
   "outputs": [
    {
     "data": {
      "image/png": "[encoded data removed]",
      "text/plain": [
       "plot without title"
      ]
     },
     "metadata": {},
     "output_type": "display_data"
    }
   ],
   "source": [
    "gapminder3439 %>% filter(!is.na(sum_fert)) %>%\n",
    "ggplot(aes(x=year, y=sum_fert, colour=country)) + geom_line(size=1.5)+\n",
    "labs(title=\"Fertility development 1960 to 2015 of selected countries\", x=\"Years\",\n",
    "     y=\"Fertility - Average number of children per woman\")+\n",
    "theme(plot.title=element_text(hjust=0.5))+\n",
    "guides(colour = guide_legend(\"Countries\"))+\n",
    "scale_x_continuous(breaks = c(1960 , 1965, 1970, 1975, 1980, 1985, 1990, 1995, 2000, 2005, 2010, 2015))"
   ]
  },
  {
   "cell_type": "markdown",
   "metadata": {},
   "source": [
    "Fertility decreases over in the selected countries in principal till 1995. By then for countries \n",
    "like Italy, UK, Russia and others a slight increase occurs."
   ]
  },
  {
   "cell_type": "code",
   "execution_count": 50,
   "metadata": {},
   "outputs": [
    {
     "data": {
      "text/html": [
       "<table>\n",
       "<thead><tr><th scope=col>country</th><th scope=col>year</th><th scope=col>sum_fert</th></tr></thead>\n",
       "<tbody>\n",
       "\t<tr><td>China</td><td>1960 </td><td>3.99 </td></tr>\n",
       "\t<tr><td>China</td><td>1961 </td><td>3.28 </td></tr>\n",
       "\t<tr><td>China</td><td>1962 </td><td>5.97 </td></tr>\n",
       "\t<tr><td>China</td><td>1963 </td><td>7.41 </td></tr>\n",
       "\t<tr><td>China</td><td>1964 </td><td>6.12 </td></tr>\n",
       "\t<tr><td>China</td><td>1965 </td><td>6.02 </td></tr>\n",
       "</tbody>\n",
       "</table>\n"
      ],
      "text/latex": [
       "\\begin{tabular}{r|lll}\n",
       " country & year & sum\\_fert\\\\\n",
       "\\hline\n",
       "\t China & 1960  & 3.99 \\\\\n",
       "\t China & 1961  & 3.28 \\\\\n",
       "\t China & 1962  & 5.97 \\\\\n",
       "\t China & 1963  & 7.41 \\\\\n",
       "\t China & 1964  & 6.12 \\\\\n",
       "\t China & 1965  & 6.02 \\\\\n",
       "\\end{tabular}\n"
      ],
      "text/markdown": [
       "\n",
       "| country | year | sum_fert |\n",
       "|---|---|---|\n",
       "| China | 1960  | 3.99  |\n",
       "| China | 1961  | 3.28  |\n",
       "| China | 1962  | 5.97  |\n",
       "| China | 1963  | 7.41  |\n",
       "| China | 1964  | 6.12  |\n",
       "| China | 1965  | 6.02  |\n",
       "\n"
      ],
      "text/plain": [
       "  country year sum_fert\n",
       "1 China   1960 3.99    \n",
       "2 China   1961 3.28    \n",
       "3 China   1962 5.97    \n",
       "4 China   1963 7.41    \n",
       "5 China   1964 6.12    \n",
       "6 China   1965 6.02    "
      ]
     },
     "metadata": {},
     "output_type": "display_data"
    }
   ],
   "source": [
    "gapminder_China <-\n",
    "gapminder %>% \n",
    "filter(country == \"China\") %>%\n",
    "group_by(country, year) %>% summarize(sum_fert = fertility)\n",
    "\n",
    "head(gapminder_China)\n",
    "\n",
    "\n"
   ]
  },
  {
   "cell_type": "code",
   "execution_count": 51,
   "metadata": {},
   "outputs": [
    {
     "data": {
      "image/png": "[encoded data removed]",
      "text/plain": [
       "plot without title"
      ]
     },
     "metadata": {},
     "output_type": "display_data"
    }
   ],
   "source": [
    "\n",
    "gapminder_China %>% filter(!is.na(sum_fert)) %>%\n",
    "ggplot(aes(x=year, y=sum_fert, colour=country)) + geom_line(size=1.5, colour=\"red\")+\n",
    "labs(title=\"Fertility development 1960 to 2015 of China with historic events\", x=\"Years\",\n",
    "     y=\"Fertility - Average number of children per woman\")+\n",
    "theme(plot.title=element_text(hjust=0.5))+\n",
    "guides(colour = guide_legend(\"Continents\"))+\n",
    "\n",
    "scale_x_continuous(breaks = seq(from=1960, to=2015, by=5))+\n",
    "\n",
    "scale_y_continuous(breaks = seq(from=0, to=8, by=0.5))+\n",
    "\n",
    "geom_text(aes(x=1967, y=3, label= \"Before 1960 chairman Mao \n",
    "encourages child births\"),\n",
    "          color=\"black\", size=3)+\n",
    "geom_text(aes(x=1972, y=7.5, label= \"1962-1965: Socialist Education Campaign\"),\n",
    "          color=\"black\", size=3)+\n",
    "\n",
    "geom_text(aes(x=1975, y=6, label=\"1970:\n",
    "Encouragement\n",
    "marry later &\n",
    "only 2 children\n",
    "(followed up)\"), color=\"black\", size=3)+\n",
    "\n",
    "geom_text(aes(x=1973, y=7, label=\"1966-1970: Cultural Revolution\"), color=\"black\", size=3)+\n",
    "\n",
    "\n",
    "geom_text(aes(x=1982, y=4, label=\"1978: Deng Xiaoping & \n",
    "Four Modernizations\"), color=\"black\", size=3)+\n",
    "\n",
    "geom_text(aes(x=1985, y=3, label=\"1980: One-child policy\"), color=\"black\", size=3)+\n",
    "\n",
    "geom_text(aes(x=1996, y=2.5, label=\"1986 ongoing: \n",
    "Open door &\n",
    "economic boom\"), color=\"black\", size=3)+\n",
    "\n",
    "geom_text(aes(x=2007, y=2, label=\"2015: One-child policy \n",
    "is fasing out\"), color=\"black\", size=3)\n"
   ]
  },
  {
   "cell_type": "code",
   "execution_count": 52,
   "metadata": {},
   "outputs": [
    {
     "data": {
      "text/html": [
       "1120458747030226"
      ],
      "text/latex": [
       "1120458747030226"
      ],
      "text/markdown": [
       "1120458747030226"
      ],
      "text/plain": [
       "[1] 1.120459e+15"
      ]
     },
     "metadata": {},
     "output_type": "display_data"
    },
    {
     "data": {
      "text/html": [
       "<table>\n",
       "<thead><tr><th scope=col>country</th><th scope=col>year</th><th scope=col>fertility</th><th scope=col>gdp</th></tr></thead>\n",
       "<tbody>\n",
       "\t<tr><td>China      </td><td>1960       </td><td>3.99       </td><td>70348527260</td></tr>\n",
       "\t<tr><td>China      </td><td>1961       </td><td>3.28       </td><td>51282752582</td></tr>\n",
       "\t<tr><td>China      </td><td>1962       </td><td>5.97       </td><td>48151766858</td></tr>\n",
       "\t<tr><td>China      </td><td>1963       </td><td>7.41       </td><td>53131628623</td></tr>\n",
       "\t<tr><td>China      </td><td>1964       </td><td>6.12       </td><td>61546062211</td></tr>\n",
       "\t<tr><td>China      </td><td>1965       </td><td>6.02       </td><td>71616855292</td></tr>\n",
       "</tbody>\n",
       "</table>\n"
      ],
      "text/latex": [
       "\\begin{tabular}{r|llll}\n",
       " country & year & fertility & gdp\\\\\n",
       "\\hline\n",
       "\t China       & 1960        & 3.99        & 70348527260\\\\\n",
       "\t China       & 1961        & 3.28        & 51282752582\\\\\n",
       "\t China       & 1962        & 5.97        & 48151766858\\\\\n",
       "\t China       & 1963        & 7.41        & 53131628623\\\\\n",
       "\t China       & 1964        & 6.12        & 61546062211\\\\\n",
       "\t China       & 1965        & 6.02        & 71616855292\\\\\n",
       "\\end{tabular}\n"
      ],
      "text/markdown": [
       "\n",
       "| country | year | fertility | gdp |\n",
       "|---|---|---|---|\n",
       "| China       | 1960        | 3.99        | 70348527260 |\n",
       "| China       | 1961        | 3.28        | 51282752582 |\n",
       "| China       | 1962        | 5.97        | 48151766858 |\n",
       "| China       | 1963        | 7.41        | 53131628623 |\n",
       "| China       | 1964        | 6.12        | 61546062211 |\n",
       "| China       | 1965        | 6.02        | 71616855292 |\n",
       "\n"
      ],
      "text/plain": [
       "  country year fertility gdp        \n",
       "1 China   1960 3.99      70348527260\n",
       "2 China   1961 3.28      51282752582\n",
       "3 China   1962 5.97      48151766858\n",
       "4 China   1963 7.41      53131628623\n",
       "5 China   1964 6.12      61546062211\n",
       "6 China   1965 6.02      71616855292"
      ]
     },
     "metadata": {},
     "output_type": "display_data"
    },
    {
     "data": {
      "text/html": [
       "<table>\n",
       "<thead><tr><th scope=col>country</th><th scope=col>year</th><th scope=col>fertility</th><th scope=col>gdp</th><th scope=col>prop_gdp</th></tr></thead>\n",
       "<tbody>\n",
       "\t<tr><td>China       </td><td>1960        </td><td>3.99        </td><td>70348527260 </td><td>6.278547e-05</td></tr>\n",
       "\t<tr><td>China       </td><td>1961        </td><td>3.28        </td><td>51282752582 </td><td>4.576942e-05</td></tr>\n",
       "\t<tr><td>China       </td><td>1962        </td><td>5.97        </td><td>48151766858 </td><td>4.297505e-05</td></tr>\n",
       "\t<tr><td>China       </td><td>1963        </td><td>7.41        </td><td>53131628623 </td><td>4.741953e-05</td></tr>\n",
       "\t<tr><td>China       </td><td>1964        </td><td>6.12        </td><td>61546062211 </td><td>5.492934e-05</td></tr>\n",
       "\t<tr><td>China       </td><td>1965        </td><td>6.02        </td><td>71616855292 </td><td>6.391744e-05</td></tr>\n",
       "</tbody>\n",
       "</table>\n"
      ],
      "text/latex": [
       "\\begin{tabular}{r|lllll}\n",
       " country & year & fertility & gdp & prop\\_gdp\\\\\n",
       "\\hline\n",
       "\t China        & 1960         & 3.99         & 70348527260  & 6.278547e-05\\\\\n",
       "\t China        & 1961         & 3.28         & 51282752582  & 4.576942e-05\\\\\n",
       "\t China        & 1962         & 5.97         & 48151766858  & 4.297505e-05\\\\\n",
       "\t China        & 1963         & 7.41         & 53131628623  & 4.741953e-05\\\\\n",
       "\t China        & 1964         & 6.12         & 61546062211  & 5.492934e-05\\\\\n",
       "\t China        & 1965         & 6.02         & 71616855292  & 6.391744e-05\\\\\n",
       "\\end{tabular}\n"
      ],
      "text/markdown": [
       "\n",
       "| country | year | fertility | gdp | prop_gdp |\n",
       "|---|---|---|---|---|\n",
       "| China        | 1960         | 3.99         | 70348527260  | 6.278547e-05 |\n",
       "| China        | 1961         | 3.28         | 51282752582  | 4.576942e-05 |\n",
       "| China        | 1962         | 5.97         | 48151766858  | 4.297505e-05 |\n",
       "| China        | 1963         | 7.41         | 53131628623  | 4.741953e-05 |\n",
       "| China        | 1964         | 6.12         | 61546062211  | 5.492934e-05 |\n",
       "| China        | 1965         | 6.02         | 71616855292  | 6.391744e-05 |\n",
       "\n"
      ],
      "text/plain": [
       "  country year fertility gdp         prop_gdp    \n",
       "1 China   1960 3.99      70348527260 6.278547e-05\n",
       "2 China   1961 3.28      51282752582 4.576942e-05\n",
       "3 China   1962 5.97      48151766858 4.297505e-05\n",
       "4 China   1963 7.41      53131628623 4.741953e-05\n",
       "5 China   1964 6.12      61546062211 5.492934e-05\n",
       "6 China   1965 6.02      71616855292 6.391744e-05"
      ]
     },
     "metadata": {},
     "output_type": "display_data"
    }
   ],
   "source": [
    "sum(gapminder$gdp, na.rm=TRUE)\n",
    "\n",
    "gapminder_China_fert_gdp <-\n",
    "gapminder %>% filter(!is.na(gdp)) %>%\n",
    "filter(country == \"China\") %>%\n",
    "group_by(country, year) %>% summarize(fertility, gdp)\n",
    "\n",
    "head(gapminder_China_fert_gdp)\n",
    "\n",
    "gapminder_China_fert_gdp <-\n",
    "gapminder_China_fert_gdp %>% mutate(prop_gdp = gdp/sum(gapminder$gdp, na.rm=TRUE))\n",
    "\n",
    "head(gapminder_China_fert_gdp)\n",
    "\n"
   ]
  },
  {
   "cell_type": "code",
   "execution_count": 53,
   "metadata": {},
   "outputs": [
    {
     "name": "stdout",
     "output_type": "stream",
     "text": [
      "Observations: 52\n",
      "Variables: 5\n",
      "$ country   <fct> China, China, China, China, China, China, China, China, C...\n",
      "$ year      <int> 1960, 1961, 1962, 1963, 1964, 1965, 1966, 1967, 1968, 196...\n",
      "$ fertility <dbl> 3.99, 3.28, 5.97, 7.41, 6.12, 6.02, 6.21, 5.25, 6.37, 5.6...\n",
      "$ gdp       <dbl> 70348527260, 51282752582, 48151766858, 53131628623, 61546...\n",
      "$ prop_gdp  <dbl> 6.278547e-05, 4.576942e-05, 4.297505e-05, 4.741953e-05, 5...\n"
     ]
    },
    {
     "data": {
      "text/html": [
       "<table>\n",
       "<thead><tr><th scope=col>country</th><th scope=col>year</th><th scope=col>prop_gdp</th><th scope=col>my_key</th><th scope=col>Values</th></tr></thead>\n",
       "<tbody>\n",
       "\t<tr><td>China       </td><td>1960        </td><td>6.278547e-05</td><td>fertility   </td><td>3.99        </td></tr>\n",
       "\t<tr><td>China       </td><td>1961        </td><td>4.576942e-05</td><td>fertility   </td><td>3.28        </td></tr>\n",
       "\t<tr><td>China       </td><td>1962        </td><td>4.297505e-05</td><td>fertility   </td><td>5.97        </td></tr>\n",
       "\t<tr><td>China       </td><td>1963        </td><td>4.741953e-05</td><td>fertility   </td><td>7.41        </td></tr>\n",
       "\t<tr><td>China       </td><td>1964        </td><td>5.492934e-05</td><td>fertility   </td><td>6.12        </td></tr>\n",
       "\t<tr><td>China       </td><td>1965        </td><td>6.391744e-05</td><td>fertility   </td><td>6.02        </td></tr>\n",
       "</tbody>\n",
       "</table>\n"
      ],
      "text/latex": [
       "\\begin{tabular}{r|lllll}\n",
       " country & year & prop\\_gdp & my\\_key & Values\\\\\n",
       "\\hline\n",
       "\t China        & 1960         & 6.278547e-05 & fertility    & 3.99        \\\\\n",
       "\t China        & 1961         & 4.576942e-05 & fertility    & 3.28        \\\\\n",
       "\t China        & 1962         & 4.297505e-05 & fertility    & 5.97        \\\\\n",
       "\t China        & 1963         & 4.741953e-05 & fertility    & 7.41        \\\\\n",
       "\t China        & 1964         & 5.492934e-05 & fertility    & 6.12        \\\\\n",
       "\t China        & 1965         & 6.391744e-05 & fertility    & 6.02        \\\\\n",
       "\\end{tabular}\n"
      ],
      "text/markdown": [
       "\n",
       "| country | year | prop_gdp | my_key | Values |\n",
       "|---|---|---|---|---|\n",
       "| China        | 1960         | 6.278547e-05 | fertility    | 3.99         |\n",
       "| China        | 1961         | 4.576942e-05 | fertility    | 3.28         |\n",
       "| China        | 1962         | 4.297505e-05 | fertility    | 5.97         |\n",
       "| China        | 1963         | 4.741953e-05 | fertility    | 7.41         |\n",
       "| China        | 1964         | 5.492934e-05 | fertility    | 6.12         |\n",
       "| China        | 1965         | 6.391744e-05 | fertility    | 6.02         |\n",
       "\n"
      ],
      "text/plain": [
       "  country year prop_gdp     my_key    Values\n",
       "1 China   1960 6.278547e-05 fertility 3.99  \n",
       "2 China   1961 4.576942e-05 fertility 3.28  \n",
       "3 China   1962 4.297505e-05 fertility 5.97  \n",
       "4 China   1963 4.741953e-05 fertility 7.41  \n",
       "5 China   1964 5.492934e-05 fertility 6.12  \n",
       "6 China   1965 6.391744e-05 fertility 6.02  "
      ]
     },
     "metadata": {},
     "output_type": "display_data"
    }
   ],
   "source": [
    "# Goal: make a comparison between fertitlity and gdp development of China\n",
    "# Making one column with this variable using gather of tidyr\n",
    "\n",
    "glimpse(gapminder_China_fert_gdp )\n",
    "\n",
    "gapminder_China_gather <- \n",
    "gapminder_China_fert_gdp %>%\n",
    "gather(my_key, Values, -country, -year, -prop_gdp )\n",
    "\n",
    "head(gapminder_China_gather)\n"
   ]
  },
  {
   "cell_type": "code",
   "execution_count": 54,
   "metadata": {},
   "outputs": [
    {
     "data": {
      "image/png": "[encoded data removed]",
      "text/plain": [
       "plot without title"
      ]
     },
     "metadata": {},
     "output_type": "display_data"
    }
   ],
   "source": [
    "# Comparing a fertitlity and gdp with facet grid plots\n",
    "gapminder_China_gather %>% \n",
    "ggplot(aes(x=year, y=Values, colour=my_key))+\n",
    "geom_line(size=1.5)+\n",
    "facet_grid(my_key ~ ., scales = \"free_y\") + theme(legend.position = \"none\")+\n",
    "labs(title=\"Comparing fertility and gdp development of China 1960-2015\",\n",
    "     x=\"Year\")"
   ]
  },
  {
   "cell_type": "code",
   "execution_count": 55,
   "metadata": {},
   "outputs": [],
   "source": [
    "# Seeing the strength of correlations between numerical variables by onstructing a correlation matrix \n",
    "# Correlations are indicators for relationships\n",
    "# Such correlations can be used in feature engineering of data models\n",
    "# install.package(ggcorrplot, repos = c(\"http://rstudio.org/_packages\",\"http://cran.rstudio.com\")\n",
    "library(ggcorrplot)"
   ]
  },
  {
   "cell_type": "code",
   "execution_count": 56,
   "metadata": {},
   "outputs": [
    {
     "name": "stdout",
     "output_type": "stream",
     "text": [
      "Observations: 10,545\n",
      "Variables: 9\n",
      "$ country          <fct> Albania, Algeria, Angola, Antigua and Barbuda, Arg...\n",
      "$ year             <int> 1960, 1960, 1960, 1960, 1960, 1960, 1960, 1960, 19...\n",
      "$ infant_mortality <dbl> 115.40, 148.20, 208.00, NA, 59.87, NA, NA, 20.30, ...\n",
      "$ life_expectancy  <dbl> 62.87, 47.50, 35.98, 62.97, 65.39, 66.86, 65.66, 7...\n",
      "$ fertility        <dbl> 6.19, 7.65, 7.32, 4.43, 3.11, 4.55, 4.82, 3.45, 2....\n",
      "$ population       <dbl> 1636054, 11124892, 5270844, 54681, 20619075, 18673...\n",
      "$ gdp              <dbl> NA, 13828152297, NA, NA, 108322326649, NA, NA, 966...\n",
      "$ continent        <fct> Europe, Africa, Africa, Americas, Americas, Asia, ...\n",
      "$ region           <fct> Southern Europe, Northern Africa, Middle Africa, C...\n"
     ]
    },
    {
     "data": {
      "text/html": [
       "<table>\n",
       "<thead><tr><th></th><th scope=col>infant_mortality</th><th scope=col>life_expectancy</th><th scope=col>fertility</th><th scope=col>population</th><th scope=col>gdp</th></tr></thead>\n",
       "<tbody>\n",
       "\t<tr><th scope=row>2</th><td>148.20      </td><td>47.50       </td><td>7.65        </td><td>11124892    </td><td> 13828152297</td></tr>\n",
       "\t<tr><th scope=row>5</th><td> 59.87      </td><td>65.39       </td><td>3.11        </td><td>20619075    </td><td>108322326649</td></tr>\n",
       "\t<tr><th scope=row>8</th><td> 20.30      </td><td>70.87       </td><td>3.45        </td><td>10292328    </td><td> 96677859364</td></tr>\n",
       "\t<tr><th scope=row>9</th><td> 37.30      </td><td>68.75       </td><td>2.70        </td><td> 7065525    </td><td> 52392699681</td></tr>\n",
       "\t<tr><th scope=row>11</th><td> 51.00      </td><td>62.00       </td><td>4.50        </td><td>  109526    </td><td>  1306269490</td></tr>\n",
       "\t<tr><th scope=row>13</th><td>176.30      </td><td>46.20       </td><td>6.73        </td><td>48200702    </td><td> 12767231590</td></tr>\n",
       "</tbody>\n",
       "</table>\n"
      ],
      "text/latex": [
       "\\begin{tabular}{r|lllll}\n",
       "  & infant\\_mortality & life\\_expectancy & fertility & population & gdp\\\\\n",
       "\\hline\n",
       "\t2 & 148.20       & 47.50        & 7.65         & 11124892     &  13828152297\\\\\n",
       "\t5 &  59.87       & 65.39        & 3.11         & 20619075     & 108322326649\\\\\n",
       "\t8 &  20.30       & 70.87        & 3.45         & 10292328     &  96677859364\\\\\n",
       "\t9 &  37.30       & 68.75        & 2.70         &  7065525     &  52392699681\\\\\n",
       "\t11 &  51.00       & 62.00        & 4.50         &   109526     &   1306269490\\\\\n",
       "\t13 & 176.30       & 46.20        & 6.73         & 48200702     &  12767231590\\\\\n",
       "\\end{tabular}\n"
      ],
      "text/markdown": [
       "\n",
       "| <!--/--> | infant_mortality | life_expectancy | fertility | population | gdp |\n",
       "|---|---|---|---|---|---|\n",
       "| 2 | 148.20       | 47.50        | 7.65         | 11124892     |  13828152297 |\n",
       "| 5 |  59.87       | 65.39        | 3.11         | 20619075     | 108322326649 |\n",
       "| 8 |  20.30       | 70.87        | 3.45         | 10292328     |  96677859364 |\n",
       "| 9 |  37.30       | 68.75        | 2.70         |  7065525     |  52392699681 |\n",
       "| 11 |  51.00       | 62.00        | 4.50         |   109526     |   1306269490 |\n",
       "| 13 | 176.30       | 46.20        | 6.73         | 48200702     |  12767231590 |\n",
       "\n"
      ],
      "text/plain": [
       "   infant_mortality life_expectancy fertility population gdp         \n",
       "2  148.20           47.50           7.65      11124892    13828152297\n",
       "5   59.87           65.39           3.11      20619075   108322326649\n",
       "8   20.30           70.87           3.45      10292328    96677859364\n",
       "9   37.30           68.75           2.70       7065525    52392699681\n",
       "11  51.00           62.00           4.50        109526     1306269490\n",
       "13 176.30           46.20           6.73      48200702    12767231590"
      ]
     },
     "metadata": {},
     "output_type": "display_data"
    },
    {
     "data": {
      "text/html": [
       "0"
      ],
      "text/latex": [
       "0"
      ],
      "text/markdown": [
       "0"
      ],
      "text/plain": [
       "[1] 0"
      ]
     },
     "metadata": {},
     "output_type": "display_data"
    }
   ],
   "source": [
    "# Select numerical variables\n",
    "\n",
    "glimpse(gapminder)\n",
    "\n",
    "gapminder_num <- \n",
    "gapminder %>% \n",
    "filter(year != 2016) %>%\n",
    "na.omit() %>%\n",
    "select(infant_mortality , life_expectancy, fertility, population,  gdp  ) \n",
    "\n",
    "head(gapminder_num)\n",
    "sum(is.na(gapminder_num))\n",
    "\n"
   ]
  },
  {
   "cell_type": "code",
   "execution_count": 57,
   "metadata": {},
   "outputs": [
    {
     "data": {
      "text/html": [
       "<table>\n",
       "<thead><tr><th></th><th scope=col>infant_mortality</th><th scope=col>life_expectancy</th><th scope=col>fertility</th><th scope=col>population</th><th scope=col>gdp</th></tr></thead>\n",
       "<tbody>\n",
       "\t<tr><th scope=row>infant_mortality</th><td> 1.0000</td><td>-0.9205</td><td> 0.8449</td><td> 0.0016</td><td>-0.1850</td></tr>\n",
       "\t<tr><th scope=row>life_expectancy</th><td>-0.9205</td><td> 1.0000</td><td>-0.8308</td><td> 0.0078</td><td> 0.2135</td></tr>\n",
       "\t<tr><th scope=row>fertility</th><td> 0.8449</td><td>-0.8308</td><td> 1.0000</td><td>-0.0965</td><td>-0.2137</td></tr>\n",
       "\t<tr><th scope=row>population</th><td> 0.0016</td><td> 0.0078</td><td>-0.0965</td><td> 1.0000</td><td> 0.2792</td></tr>\n",
       "\t<tr><th scope=row>gdp</th><td>-0.1850</td><td> 0.2135</td><td>-0.2137</td><td> 0.2792</td><td> 1.0000</td></tr>\n",
       "</tbody>\n",
       "</table>\n"
      ],
      "text/latex": [
       "\\begin{tabular}{r|lllll}\n",
       "  & infant\\_mortality & life\\_expectancy & fertility & population & gdp\\\\\n",
       "\\hline\n",
       "\tinfant\\_mortality &  1.0000 & -0.9205 &  0.8449 &  0.0016 & -0.1850\\\\\n",
       "\tlife\\_expectancy & -0.9205 &  1.0000 & -0.8308 &  0.0078 &  0.2135\\\\\n",
       "\tfertility &  0.8449 & -0.8308 &  1.0000 & -0.0965 & -0.2137\\\\\n",
       "\tpopulation &  0.0016 &  0.0078 & -0.0965 &  1.0000 &  0.2792\\\\\n",
       "\tgdp & -0.1850 &  0.2135 & -0.2137 &  0.2792 &  1.0000\\\\\n",
       "\\end{tabular}\n"
      ],
      "text/markdown": [
       "\n",
       "| <!--/--> | infant_mortality | life_expectancy | fertility | population | gdp |\n",
       "|---|---|---|---|---|---|\n",
       "| infant_mortality |  1.0000 | -0.9205 |  0.8449 |  0.0016 | -0.1850 |\n",
       "| life_expectancy | -0.9205 |  1.0000 | -0.8308 |  0.0078 |  0.2135 |\n",
       "| fertility |  0.8449 | -0.8308 |  1.0000 | -0.0965 | -0.2137 |\n",
       "| population |  0.0016 |  0.0078 | -0.0965 |  1.0000 |  0.2792 |\n",
       "| gdp | -0.1850 |  0.2135 | -0.2137 |  0.2792 |  1.0000 |\n",
       "\n"
      ],
      "text/plain": [
       "                 infant_mortality life_expectancy fertility population gdp    \n",
       "infant_mortality  1.0000          -0.9205          0.8449    0.0016    -0.1850\n",
       "life_expectancy  -0.9205           1.0000         -0.8308    0.0078     0.2135\n",
       "fertility         0.8449          -0.8308          1.0000   -0.0965    -0.2137\n",
       "population        0.0016           0.0078         -0.0965    1.0000     0.2792\n",
       "gdp              -0.1850           0.2135         -0.2137    0.2792     1.0000"
      ]
     },
     "metadata": {},
     "output_type": "display_data"
    },
    {
     "data": {
      "image/png": "[encoded data removed]",
      "text/plain": [
       "plot without title"
      ]
     },
     "metadata": {},
     "output_type": "display_data"
    }
   ],
   "source": [
    "\n",
    "# Calculate correlations and build a correlation matrix\n",
    "\n",
    "cor_matrix_gap <- round(cor(gapminder_num), 4)\n",
    "cor_matrix_gap\n",
    "\n",
    "# Input correlations into correlation matrix visualization\n",
    "\n",
    "ggcorrplot(cor_matrix_gap)"
   ]
  },
  {
   "cell_type": "code",
   "execution_count": 58,
   "metadata": {},
   "outputs": [
    {
     "data": {
      "text/plain": [
       "   Min. 1st Qu.  Median    Mean 3rd Qu.    Max.    NA's \n",
       "   1.50   16.00   41.50   55.31   85.10  276.90    1453 "
      ]
     },
     "metadata": {},
     "output_type": "display_data"
    },
    {
     "data": {
      "text/plain": [
       "   Min. 1st Qu.  Median    Mean 3rd Qu.    Max. \n",
       "  13.20   57.50   67.54   64.81   73.00   83.90 "
      ]
     },
     "metadata": {},
     "output_type": "display_data"
    }
   ],
   "source": [
    "# Inspired by the correlations plot the relationship between x=infant_mortality, y=life_expectancy\n",
    "# infant_mortality. Infant deaths per 1000.\n",
    "# life_expectancy. Life expectancy in years\n",
    "\n",
    "\n",
    "summary(gapminder$infant_mortality)\n",
    "summary(gapminder$life_expectancy)\n",
    "\n"
   ]
  },
  {
   "cell_type": "code",
   "execution_count": 59,
   "metadata": {},
   "outputs": [
    {
     "data": {
      "text/plain": [
       "\n",
       "Call:\n",
       "lm(formula = life_expectancy ~ infant_mortality, data = gapminder)\n",
       "\n",
       "Residuals:\n",
       "    Min      1Q  Median      3Q     Max \n",
       "-35.946  -2.176   0.359   2.717  17.838 \n",
       "\n",
       "Coefficients:\n",
       "                   Estimate Std. Error t value Pr(>|t|)    \n",
       "(Intercept)      76.1542888  0.0673162  1131.3   <2e-16 ***\n",
       "infant_mortality -0.2041411  0.0009215  -221.5   <2e-16 ***\n",
       "---\n",
       "Signif. codes:  0 '***' 0.001 '**' 0.01 '*' 0.05 '.' 0.1 ' ' 1\n",
       "\n",
       "Residual standard error: 4.193 on 9090 degrees of freedom\n",
       "  (1453 observations deleted due to missingness)\n",
       "Multiple R-squared:  0.8437,\tAdjusted R-squared:  0.8437 \n",
       "F-statistic: 4.908e+04 on 1 and 9090 DF,  p-value: < 2.2e-16\n"
      ]
     },
     "metadata": {},
     "output_type": "display_data"
    },
    {
     "data": {
      "image/png": "[encoded data removed]",
      "text/plain": [
       "plot without title"
      ]
     },
     "metadata": {},
     "output_type": "display_data"
    }
   ],
   "source": [
    "# Visualization of the relationship between x=infant_mortality, y=life_expectancy\n",
    "# Deriving the regression formula by building a linear regression model \n",
    "\n",
    "summary(lm(life_expectancy~infant_mortality, data=gapminder))\n",
    "\n",
    "gapminder %>% na.omit() %>%\n",
    "ggplot(aes(x=infant_mortality, y=life_expectancy)) +\n",
    "geom_jitter(alpha=0.5, width=0.6, colour=\"#9ACD32\")+\n",
    "geom_smooth(method=\"lm\", se=FALSE)+\n",
    "labs(title=\"Relationship between infant mortality & life expectancy \", \n",
    "     x=\"Infant mortality\", y=\"Life expectancy\")+\n",
    "theme(plot.title=element_text(hjust=0.5))+\n",
    "scale_x_continuous(breaks=seq(from=0, to=240, by=10))+\n",
    "scale_y_continuous(breaks=seq(from=0, to=100, by=5))+\n",
    "geom_text(aes(x=160, y=80, label=\"Correlation: -0.9205\"))+\n",
    "geom_text(aes(x=160, y=75, label=\"y-hat = 76.16 - 0.20 *infant_mortality\"))+\n",
    "geom_text(aes(x=70, y=30, label=\"Theory: a good medical system or wellfare state \n",
    "benefits old people, mothers and infants together\"))\n",
    "\n",
    "# Correlation\n",
    "# Infant_mortality & life_expectancy are negatively related \n",
    "# The higher Infant_mortality the lower is life_expectancy\n",
    "# The higher life_expectancy the lower is Infant_mortality \n",
    "# The negative correlation is very high\n",
    "\n",
    "# Inference\n",
    "# Both variables are signficant with a p-value below 0.05\n",
    "\n",
    "# Regression\n",
    "# For every unit in infant_mortality life_expectancy is decreasing by -0.2041411\n",
    "\n",
    "# What are the theoretical reasons for this relationship?\n",
    "# Assumption: a good medical system or wellfare state benefits old people, mothers and infants together"
   ]
  },
  {
   "cell_type": "code",
   "execution_count": 60,
   "metadata": {},
   "outputs": [
    {
     "name": "stderr",
     "output_type": "stream",
     "text": [
      "Warning message:\n",
      "\"package 'moderndive' was built under R version 3.5.2\""
     ]
    }
   ],
   "source": [
    "# install.packages(\"moderndive\", repos='http://cran.us.r-project.org')\n",
    "library(moderndive)"
   ]
  },
  {
   "cell_type": "code",
   "execution_count": 61,
   "metadata": {},
   "outputs": [
    {
     "data": {
      "text/html": [
       "<ol class=list-inline>\n",
       "\t<li>1</li>\n",
       "\t<li>2</li>\n",
       "\t<li>3</li>\n",
       "\t<li>4</li>\n",
       "\t<li>5</li>\n",
       "\t<li>6</li>\n",
       "\t<li>7</li>\n",
       "\t<li>8</li>\n",
       "\t<li>9</li>\n",
       "\t<li>10</li>\n",
       "\t<li>11</li>\n",
       "\t<li>12</li>\n",
       "</ol>\n"
      ],
      "text/latex": [
       "\\begin{enumerate*}\n",
       "\\item 1\n",
       "\\item 2\n",
       "\\item 3\n",
       "\\item 4\n",
       "\\item 5\n",
       "\\item 6\n",
       "\\item 7\n",
       "\\item 8\n",
       "\\item 9\n",
       "\\item 10\n",
       "\\item 11\n",
       "\\item 12\n",
       "\\end{enumerate*}\n"
      ],
      "text/markdown": [
       "1. 1\n",
       "2. 2\n",
       "3. 3\n",
       "4. 4\n",
       "5. 5\n",
       "6. 6\n",
       "7. 7\n",
       "8. 8\n",
       "9. 9\n",
       "10. 10\n",
       "11. 11\n",
       "12. 12\n",
       "\n",
       "\n"
      ],
      "text/plain": [
       " [1]  1  2  3  4  5  6  7  8  9 10 11 12"
      ]
     },
     "metadata": {},
     "output_type": "display_data"
    },
    {
     "data": {
      "text/html": [
       "<ol class=list-inline>\n",
       "\t<li>4</li>\n",
       "\t<li>9</li>\n",
       "\t<li>5</li>\n",
       "</ol>\n"
      ],
      "text/latex": [
       "\\begin{enumerate*}\n",
       "\\item 4\n",
       "\\item 9\n",
       "\\item 5\n",
       "\\end{enumerate*}\n"
      ],
      "text/markdown": [
       "1. 4\n",
       "2. 9\n",
       "3. 5\n",
       "\n",
       "\n"
      ],
      "text/plain": [
       "[1] 4 9 5"
      ]
     },
     "metadata": {},
     "output_type": "display_data"
    },
    {
     "data": {
      "text/html": [
       "<table>\n",
       "<thead><tr><th></th><th scope=col>country</th><th scope=col>year</th><th scope=col>infant_mortality</th><th scope=col>life_expectancy</th><th scope=col>fertility</th><th scope=col>population</th><th scope=col>gdp</th><th scope=col>continent</th><th scope=col>region</th></tr></thead>\n",
       "<tbody>\n",
       "\t<tr><th scope=row>945</th><td>Bolivia        </td><td>1965           </td><td>159.4          </td><td>45.62          </td><td>6.59           </td><td> 4070590       </td><td>3810638169     </td><td>Americas       </td><td>South America  </td></tr>\n",
       "\t<tr><th scope=row>2220</th><td>Zimbabwe       </td><td>1971           </td><td> 71.6          </td><td>57.63          </td><td>7.42           </td><td> 5385342       </td><td>2921647386     </td><td>Africa         </td><td>Eastern Africa </td></tr>\n",
       "\t<tr><th scope=row>7728</th><td>Samoa          </td><td>2001           </td><td> 17.9          </td><td>71.00          </td><td>4.48           </td><td>  175567       </td><td> 263035596     </td><td>Oceania        </td><td>Polynesia      </td></tr>\n",
       "\t<tr><th scope=row>8984</th><td>Malawi         </td><td>2008           </td><td> 61.7          </td><td>52.40          </td><td>5.78           </td><td>13904671       </td><td>2375260856     </td><td>Africa         </td><td>Eastern Africa </td></tr>\n",
       "\t<tr><th scope=row>8311</th><td>Turkmenistan   </td><td>2004           </td><td> 59.4          </td><td>65.30          </td><td>2.66           </td><td> 4696876       </td><td>5559183156     </td><td>Asia           </td><td>Central Asia   </td></tr>\n",
       "\t<tr><th scope=row>3499</th><td>Tunisia        </td><td>1978           </td><td> 78.1          </td><td>62.27          </td><td>5.61           </td><td> 6054914       </td><td>8338083138     </td><td>Africa         </td><td>Northern Africa</td></tr>\n",
       "</tbody>\n",
       "</table>\n"
      ],
      "text/latex": [
       "\\begin{tabular}{r|lllllllll}\n",
       "  & country & year & infant\\_mortality & life\\_expectancy & fertility & population & gdp & continent & region\\\\\n",
       "\\hline\n",
       "\t945 & Bolivia         & 1965            & 159.4           & 45.62           & 6.59            &  4070590        & 3810638169      & Americas        & South America  \\\\\n",
       "\t2220 & Zimbabwe        & 1971            &  71.6           & 57.63           & 7.42            &  5385342        & 2921647386      & Africa          & Eastern Africa \\\\\n",
       "\t7728 & Samoa           & 2001            &  17.9           & 71.00           & 4.48            &   175567        &  263035596      & Oceania         & Polynesia      \\\\\n",
       "\t8984 & Malawi          & 2008            &  61.7           & 52.40           & 5.78            & 13904671        & 2375260856      & Africa          & Eastern Africa \\\\\n",
       "\t8311 & Turkmenistan    & 2004            &  59.4           & 65.30           & 2.66            &  4696876        & 5559183156      & Asia            & Central Asia   \\\\\n",
       "\t3499 & Tunisia         & 1978            &  78.1           & 62.27           & 5.61            &  6054914        & 8338083138      & Africa          & Northern Africa\\\\\n",
       "\\end{tabular}\n"
      ],
      "text/markdown": [
       "\n",
       "| <!--/--> | country | year | infant_mortality | life_expectancy | fertility | population | gdp | continent | region |\n",
       "|---|---|---|---|---|---|---|---|---|---|\n",
       "| 945 | Bolivia         | 1965            | 159.4           | 45.62           | 6.59            |  4070590        | 3810638169      | Americas        | South America   |\n",
       "| 2220 | Zimbabwe        | 1971            |  71.6           | 57.63           | 7.42            |  5385342        | 2921647386      | Africa          | Eastern Africa  |\n",
       "| 7728 | Samoa           | 2001            |  17.9           | 71.00           | 4.48            |   175567        |  263035596      | Oceania         | Polynesia       |\n",
       "| 8984 | Malawi          | 2008            |  61.7           | 52.40           | 5.78            | 13904671        | 2375260856      | Africa          | Eastern Africa  |\n",
       "| 8311 | Turkmenistan    | 2004            |  59.4           | 65.30           | 2.66            |  4696876        | 5559183156      | Asia            | Central Asia    |\n",
       "| 3499 | Tunisia         | 1978            |  78.1           | 62.27           | 5.61            |  6054914        | 8338083138      | Africa          | Northern Africa |\n",
       "\n"
      ],
      "text/plain": [
       "     country      year infant_mortality life_expectancy fertility population\n",
       "945  Bolivia      1965 159.4            45.62           6.59       4070590  \n",
       "2220 Zimbabwe     1971  71.6            57.63           7.42       5385342  \n",
       "7728 Samoa        2001  17.9            71.00           4.48        175567  \n",
       "8984 Malawi       2008  61.7            52.40           5.78      13904671  \n",
       "8311 Turkmenistan 2004  59.4            65.30           2.66       4696876  \n",
       "3499 Tunisia      1978  78.1            62.27           5.61       6054914  \n",
       "     gdp        continent region         \n",
       "945  3810638169 Americas  South America  \n",
       "2220 2921647386 Africa    Eastern Africa \n",
       "7728  263035596 Oceania   Polynesia      \n",
       "8984 2375260856 Africa    Eastern Africa \n",
       "8311 5559183156 Asia      Central Asia   \n",
       "3499 8338083138 Africa    Northern Africa"
      ]
     },
     "metadata": {},
     "output_type": "display_data"
    },
    {
     "data": {
      "text/html": [
       "<ol class=list-inline>\n",
       "\t<li>10545</li>\n",
       "\t<li>9</li>\n",
       "</ol>\n"
      ],
      "text/latex": [
       "\\begin{enumerate*}\n",
       "\\item 10545\n",
       "\\item 9\n",
       "\\end{enumerate*}\n"
      ],
      "text/markdown": [
       "1. 10545\n",
       "2. 9\n",
       "\n",
       "\n"
      ],
      "text/plain": [
       "[1] 10545     9"
      ]
     },
     "metadata": {},
     "output_type": "display_data"
    }
   ],
   "source": [
    "# Inspired by the correlations plot the relationship between x=infant_mortality, y=life_expectancy\n",
    "# is further investigated\n",
    "# Split data into training and test set\n",
    "# A simple linear regression model is built\n",
    "# Make predictions on training and test set\n",
    "# Compare performance with evaluation metrics\n",
    "\n",
    "\n",
    "# Get acquainted \n",
    "set.seed(123)\n",
    "x345 <- 1:12\n",
    "x345\n",
    "sample(x345, size=3)\n",
    "\n",
    "# Shuffle data set randomly\n",
    "\n",
    "set.seed(456)\n",
    "gapminder_shuffled <-\n",
    "gapminder[sample(nrow(gapminder)), ]\n",
    "\n",
    "# The dataset is shuffled as can be seen with the index number starting with 945\n",
    "head(gapminder_shuffled )\n",
    "dim(gapminder_shuffled)\n"
   ]
  },
  {
   "cell_type": "code",
   "execution_count": 62,
   "metadata": {},
   "outputs": [
    {
     "data": {
      "text/html": [
       "<ol class=list-inline>\n",
       "\t<li>10545</li>\n",
       "\t<li>9</li>\n",
       "</ol>\n"
      ],
      "text/latex": [
       "\\begin{enumerate*}\n",
       "\\item 10545\n",
       "\\item 9\n",
       "\\end{enumerate*}\n"
      ],
      "text/markdown": [
       "1. 10545\n",
       "2. 9\n",
       "\n",
       "\n"
      ],
      "text/plain": [
       "[1] 10545     9"
      ]
     },
     "metadata": {},
     "output_type": "display_data"
    },
    {
     "data": {
      "text/html": [
       "6327"
      ],
      "text/latex": [
       "6327"
      ],
      "text/markdown": [
       "6327"
      ],
      "text/plain": [
       "[1] 6327"
      ]
     },
     "metadata": {},
     "output_type": "display_data"
    },
    {
     "data": {
      "text/html": [
       "<ol class=list-inline>\n",
       "\t<li>6327</li>\n",
       "\t<li>9</li>\n",
       "</ol>\n"
      ],
      "text/latex": [
       "\\begin{enumerate*}\n",
       "\\item 6327\n",
       "\\item 9\n",
       "\\end{enumerate*}\n"
      ],
      "text/markdown": [
       "1. 6327\n",
       "2. 9\n",
       "\n",
       "\n"
      ],
      "text/plain": [
       "[1] 6327    9"
      ]
     },
     "metadata": {},
     "output_type": "display_data"
    },
    {
     "data": {
      "text/html": [
       "<ol class=list-inline>\n",
       "\t<li>4218</li>\n",
       "\t<li>9</li>\n",
       "</ol>\n"
      ],
      "text/latex": [
       "\\begin{enumerate*}\n",
       "\\item 4218\n",
       "\\item 9\n",
       "\\end{enumerate*}\n"
      ],
      "text/markdown": [
       "1. 4218\n",
       "2. 9\n",
       "\n",
       "\n"
      ],
      "text/plain": [
       "[1] 4218    9"
      ]
     },
     "metadata": {},
     "output_type": "display_data"
    },
    {
     "data": {
      "text/html": [
       "4218"
      ],
      "text/latex": [
       "4218"
      ],
      "text/markdown": [
       "4218"
      ],
      "text/plain": [
       "[1] 4218"
      ]
     },
     "metadata": {},
     "output_type": "display_data"
    }
   ],
   "source": [
    "# Make set with the shuffled data set\n",
    "\n",
    "dim(gapminder)\n",
    "\n",
    "training_border_53 <- nrow(gapminder_shuffled) * 0.6\n",
    "training_border_53\n",
    "\n",
    "gapminder_training_53 <-\n",
    "gapminder_shuffled [1:6327, ]\n",
    "dim(gapminder_training_53 )\n",
    "\n",
    "gapminder_test_53 <-\n",
    "gapminder_shuffled [6328:10545, ]\n",
    "dim(gapminder_test_53 )\n",
    "nrow(gapminder_test_53 )"
   ]
  },
  {
   "cell_type": "code",
   "execution_count": 63,
   "metadata": {},
   "outputs": [
    {
     "name": "stdout",
     "output_type": "stream",
     "text": [
      "Observations: 4,218\n",
      "Variables: 9\n",
      "$ country          <fct> Panama, Niger, Saudi Arabia, Sudan, Zimbabwe, Libe...\n",
      "$ year             <int> 2013, 1982, 1994, 2010, 1999, 1984, 1983, 1978, 19...\n",
      "$ infant_mortality <dbl> 15.5, 135.3, 26.4, 53.3, 63.5, 155.9, 26.0, NA, 29...\n",
      "$ life_expectancy  <dbl> 77.60, 43.13, 75.10, 66.10, 49.30, 48.46, 73.01, 7...\n",
      "$ fertility        <dbl> 2.47, 7.75, 5.17, 4.64, 4.11, 6.92, 5.33, 1.49, 3....\n",
      "$ population       <dbl> 3805683, 6299343, 18373412, 36114885, 12374019, 21...\n",
      "$ gdp              <dbl> NA, 1.557599e+09, 1.656654e+11, 2.281908e+10, 6.90...\n",
      "$ continent        <fct> Americas, Africa, Asia, Africa, Africa, Africa, As...\n",
      "$ region           <fct> Central America, Western Africa, Western Asia, Nor...\n"
     ]
    }
   ],
   "source": [
    "# Build regression models with test and training data\n",
    "\n",
    "glimpse(gapminder_test_53)\n",
    "\n",
    "reg_le_im_train <-\n",
    "lm(life_expectancy~infant_mortality, data = gapminder_training_53)\n",
    "\n"
   ]
  },
  {
   "cell_type": "code",
   "execution_count": 64,
   "metadata": {},
   "outputs": [
    {
     "data": {
      "text/html": [
       "<table>\n",
       "<thead><tr><th scope=col>ID</th><th scope=col>life_expectancy</th><th scope=col>infant_mortality</th><th scope=col>life_expectancy_hat</th><th scope=col>residual</th></tr></thead>\n",
       "<tbody>\n",
       "\t<tr><td>1      </td><td>45.62  </td><td>159.4  </td><td>43.688 </td><td>  1.932</td></tr>\n",
       "\t<tr><td>2      </td><td>57.63  </td><td> 71.6  </td><td>61.587 </td><td> -3.957</td></tr>\n",
       "\t<tr><td>3      </td><td>71.00  </td><td> 17.9  </td><td>72.534 </td><td> -1.534</td></tr>\n",
       "\t<tr><td>4      </td><td>52.40  </td><td> 61.7  </td><td>63.605 </td><td>-11.205</td></tr>\n",
       "\t<tr><td>5      </td><td>65.30  </td><td> 59.4  </td><td>64.074 </td><td>  1.226</td></tr>\n",
       "\t<tr><td>6      </td><td>62.27  </td><td> 78.1  </td><td>60.262 </td><td>  2.008</td></tr>\n",
       "</tbody>\n",
       "</table>\n"
      ],
      "text/latex": [
       "\\begin{tabular}{r|lllll}\n",
       " ID & life\\_expectancy & infant\\_mortality & life\\_expectancy\\_hat & residual\\\\\n",
       "\\hline\n",
       "\t 1       & 45.62   & 159.4   & 43.688  &   1.932\\\\\n",
       "\t 2       & 57.63   &  71.6   & 61.587  &  -3.957\\\\\n",
       "\t 3       & 71.00   &  17.9   & 72.534  &  -1.534\\\\\n",
       "\t 4       & 52.40   &  61.7   & 63.605  & -11.205\\\\\n",
       "\t 5       & 65.30   &  59.4   & 64.074  &   1.226\\\\\n",
       "\t 6       & 62.27   &  78.1   & 60.262  &   2.008\\\\\n",
       "\\end{tabular}\n"
      ],
      "text/markdown": [
       "\n",
       "| ID | life_expectancy | infant_mortality | life_expectancy_hat | residual |\n",
       "|---|---|---|---|---|\n",
       "| 1       | 45.62   | 159.4   | 43.688  |   1.932 |\n",
       "| 2       | 57.63   |  71.6   | 61.587  |  -3.957 |\n",
       "| 3       | 71.00   |  17.9   | 72.534  |  -1.534 |\n",
       "| 4       | 52.40   |  61.7   | 63.605  | -11.205 |\n",
       "| 5       | 65.30   |  59.4   | 64.074  |   1.226 |\n",
       "| 6       | 62.27   |  78.1   | 60.262  |   2.008 |\n",
       "\n"
      ],
      "text/plain": [
       "  ID life_expectancy infant_mortality life_expectancy_hat residual\n",
       "1 1  45.62           159.4            43.688                1.932 \n",
       "2 2  57.63            71.6            61.587               -3.957 \n",
       "3 3  71.00            17.9            72.534               -1.534 \n",
       "4 4  52.40            61.7            63.605              -11.205 \n",
       "5 5  65.30            59.4            64.074                1.226 \n",
       "6 6  62.27            78.1            60.262                2.008 "
      ]
     },
     "metadata": {},
     "output_type": "display_data"
    }
   ],
   "source": [
    "# Predicting with training data\n",
    "\n",
    "reg_points_train_53 <-\n",
    "get_regression_points(reg_le_im_train )\n",
    "head(reg_points_train_53)\n",
    "\n"
   ]
  },
  {
   "cell_type": "code",
   "execution_count": 65,
   "metadata": {},
   "outputs": [
    {
     "data": {
      "text/html": [
       "<table>\n",
       "<thead><tr><th scope=col>RMSE</th></tr></thead>\n",
       "<tbody>\n",
       "\t<tr><td>4.19</td></tr>\n",
       "</tbody>\n",
       "</table>\n"
      ],
      "text/latex": [
       "\\begin{tabular}{r|l}\n",
       " RMSE\\\\\n",
       "\\hline\n",
       "\t 4.19\\\\\n",
       "\\end{tabular}\n"
      ],
      "text/markdown": [
       "\n",
       "| RMSE |\n",
       "|---|\n",
       "| 4.19 |\n",
       "\n"
      ],
      "text/plain": [
       "  RMSE\n",
       "1 4.19"
      ]
     },
     "metadata": {},
     "output_type": "display_data"
    }
   ],
   "source": [
    "# Measure performance of training data with RMSE\n",
    "\n",
    "RMSE_train_53 <-\n",
    "reg_points_train_53 %>%\n",
    "mutate(res_sq = residual^2) %>%\n",
    "summarize(RMSE = sqrt(mean(res_sq)))\n",
    "\n",
    "round(RMSE_train_53, 2)\n",
    "\n"
   ]
  },
  {
   "cell_type": "code",
   "execution_count": 66,
   "metadata": {},
   "outputs": [
    {
     "data": {
      "text/html": [
       "<table>\n",
       "<thead><tr><th scope=col>ID</th><th scope=col>life_expectancy</th><th scope=col>infant_mortality</th><th scope=col>life_expectancy_hat</th><th scope=col>residual</th></tr></thead>\n",
       "<tbody>\n",
       "\t<tr><td>1      </td><td>77.60  </td><td> 15.5  </td><td>73.023 </td><td>  4.577</td></tr>\n",
       "\t<tr><td>2      </td><td>43.13  </td><td>135.3  </td><td>48.601 </td><td> -5.471</td></tr>\n",
       "\t<tr><td>3      </td><td>75.10  </td><td> 26.4  </td><td>70.801 </td><td>  4.299</td></tr>\n",
       "\t<tr><td>4      </td><td>66.10  </td><td> 53.3  </td><td>65.317 </td><td>  0.783</td></tr>\n",
       "\t<tr><td>5      </td><td>49.30  </td><td> 63.5  </td><td>63.238 </td><td>-13.938</td></tr>\n",
       "\t<tr><td>6      </td><td>48.46  </td><td>155.9  </td><td>44.401 </td><td>  4.059</td></tr>\n",
       "</tbody>\n",
       "</table>\n"
      ],
      "text/latex": [
       "\\begin{tabular}{r|lllll}\n",
       " ID & life\\_expectancy & infant\\_mortality & life\\_expectancy\\_hat & residual\\\\\n",
       "\\hline\n",
       "\t 1       & 77.60   &  15.5   & 73.023  &   4.577\\\\\n",
       "\t 2       & 43.13   & 135.3   & 48.601  &  -5.471\\\\\n",
       "\t 3       & 75.10   &  26.4   & 70.801  &   4.299\\\\\n",
       "\t 4       & 66.10   &  53.3   & 65.317  &   0.783\\\\\n",
       "\t 5       & 49.30   &  63.5   & 63.238  & -13.938\\\\\n",
       "\t 6       & 48.46   & 155.9   & 44.401  &   4.059\\\\\n",
       "\\end{tabular}\n"
      ],
      "text/markdown": [
       "\n",
       "| ID | life_expectancy | infant_mortality | life_expectancy_hat | residual |\n",
       "|---|---|---|---|---|\n",
       "| 1       | 77.60   |  15.5   | 73.023  |   4.577 |\n",
       "| 2       | 43.13   | 135.3   | 48.601  |  -5.471 |\n",
       "| 3       | 75.10   |  26.4   | 70.801  |   4.299 |\n",
       "| 4       | 66.10   |  53.3   | 65.317  |   0.783 |\n",
       "| 5       | 49.30   |  63.5   | 63.238  | -13.938 |\n",
       "| 6       | 48.46   | 155.9   | 44.401  |   4.059 |\n",
       "\n"
      ],
      "text/plain": [
       "  ID life_expectancy infant_mortality life_expectancy_hat residual\n",
       "1 1  77.60            15.5            73.023                4.577 \n",
       "2 2  43.13           135.3            48.601               -5.471 \n",
       "3 3  75.10            26.4            70.801                4.299 \n",
       "4 4  66.10            53.3            65.317                0.783 \n",
       "5 5  49.30            63.5            63.238              -13.938 \n",
       "6 6  48.46           155.9            44.401                4.059 "
      ]
     },
     "metadata": {},
     "output_type": "display_data"
    }
   ],
   "source": [
    "# Predicting with test data\n",
    "\n",
    "reg_points_test_53 <-\n",
    "get_regression_points(reg_le_im_train, newdata=gapminder_test_53 )\n",
    "\n",
    "head(reg_points_test_53)\n"
   ]
  },
  {
   "cell_type": "code",
   "execution_count": 67,
   "metadata": {},
   "outputs": [
    {
     "data": {
      "text/html": [
       "<table>\n",
       "<thead><tr><th scope=col>RMSE</th></tr></thead>\n",
       "<tbody>\n",
       "\t<tr><td>4.2</td></tr>\n",
       "</tbody>\n",
       "</table>\n"
      ],
      "text/latex": [
       "\\begin{tabular}{r|l}\n",
       " RMSE\\\\\n",
       "\\hline\n",
       "\t 4.2\\\\\n",
       "\\end{tabular}\n"
      ],
      "text/markdown": [
       "\n",
       "| RMSE |\n",
       "|---|\n",
       "| 4.2 |\n",
       "\n"
      ],
      "text/plain": [
       "  RMSE\n",
       "1 4.2 "
      ]
     },
     "metadata": {},
     "output_type": "display_data"
    }
   ],
   "source": [
    "# Measure performance of test data with RMSE\n",
    "\n",
    "RMSE_test_53544 <-\n",
    "reg_points_test_53 %>% na.omit() %>%\n",
    "mutate(RS = residual^2) %>% summarize(RMSE=sqrt(mean(RS)))\n",
    "\n",
    "round(RMSE_test_53544, 2)\n",
    "\n",
    "# The difference between RMSE of the training and test data is around 0.1\n",
    "# This indicates that there is not a case of overfitting\n",
    "# In the next steps models with different combinations of features can be developed"
   ]
  },
  {
   "cell_type": "markdown",
   "metadata": {},
   "source": [
    "#### Preparing the gapminder data set for Machine Learning algorithms using the List-Column-Workflow"
   ]
  },
  {
   "cell_type": "code",
   "execution_count": 68,
   "metadata": {},
   "outputs": [
    {
     "data": {
      "text/html": [
       "<ol class=list-inline>\n",
       "\t<li>10545</li>\n",
       "\t<li>9</li>\n",
       "</ol>\n"
      ],
      "text/latex": [
       "\\begin{enumerate*}\n",
       "\\item 10545\n",
       "\\item 9\n",
       "\\end{enumerate*}\n"
      ],
      "text/markdown": [
       "1. 10545\n",
       "2. 9\n",
       "\n",
       "\n"
      ],
      "text/plain": [
       "[1] 10545     9"
      ]
     },
     "metadata": {},
     "output_type": "display_data"
    },
    {
     "name": "stdout",
     "output_type": "stream",
     "text": [
      " Factor w/ 185 levels \"Albania\",\"Algeria\",..: 2 5 8 9 11 13 14 16 18 20 ...\n",
      "Observations: 178\n",
      "Variables: 2\n",
      "$ country <fct> Algeria, Argentina, Australia, Austria, Bahamas, Bangladesh...\n",
      "$ data    <list> [<\u001b[90m# A tibble: 52 x 8\u001b[39m,     year infant_mortality ...\n"
     ]
    }
   ],
   "source": [
    "# Nest the gapminder dataframe by country\n",
    "dim(gapminder)\n",
    "# For every country the remaining 8 other variables / columns are stored in a list \n",
    "# Make functions like mean work by removing the NA\n",
    "\n",
    "gap_nested <- gapminder %>% na.omit() %>% dplyr::group_by(country) %>% \n",
    "nest(-country, .key = data)\n",
    "\n",
    "glimpse(gap_nested$country)\n",
    "glimpse(gap_nested)\n",
    "\n"
   ]
  },
  {
   "cell_type": "code",
   "execution_count": 69,
   "metadata": {},
   "outputs": [
    {
     "data": {
      "text/html": [
       "FALSE"
      ],
      "text/latex": [
       "FALSE"
      ],
      "text/markdown": [
       "FALSE"
      ],
      "text/plain": [
       "[1] FALSE"
      ]
     },
     "metadata": {},
     "output_type": "display_data"
    },
    {
     "data": {
      "text/html": [
       "FALSE"
      ],
      "text/latex": [
       "FALSE"
      ],
      "text/markdown": [
       "FALSE"
      ],
      "text/plain": [
       "[1] FALSE"
      ]
     },
     "metadata": {},
     "output_type": "display_data"
    }
   ],
   "source": [
    "# use the unnest() function to expand the dataframes that are nested in these chunks\n",
    "\n",
    "gap_unnested <-\n",
    "gap_nested %>% unnest()\n",
    "\n",
    "identical(gapminder , gap_unnested)\n",
    "# Why is identical not true?\n",
    "# The tiblle gap_unnested is ordered by country and the data frame is ordered by year\n",
    "\n",
    "gap_unnested <-\n",
    "gap_unnested %>% arrange(year)\n",
    "\n",
    "# glimpse(gap_unnested)\n",
    "# glimpse(gapminder)\n",
    "\n",
    "identical(gapminder , gap_unnested)\n",
    "\n",
    "# It worked but still produces FALSE"
   ]
  },
  {
   "cell_type": "code",
   "execution_count": 70,
   "metadata": {},
   "outputs": [
    {
     "data": {
      "text/html": [
       "23129437.5192308"
      ],
      "text/latex": [
       "23129437.5192308"
      ],
      "text/markdown": [
       "23129437.5192308"
      ],
      "text/plain": [
       "[1] 23129438"
      ]
     },
     "metadata": {},
     "output_type": "display_data"
    },
    {
     "data": {
      "text/html": [
       "<ol class=list-inline>\n",
       "\t<li>'tbl_df'</li>\n",
       "\t<li>'tbl'</li>\n",
       "\t<li>'data.frame'</li>\n",
       "</ol>\n"
      ],
      "text/latex": [
       "\\begin{enumerate*}\n",
       "\\item 'tbl\\_df'\n",
       "\\item 'tbl'\n",
       "\\item 'data.frame'\n",
       "\\end{enumerate*}\n"
      ],
      "text/markdown": [
       "1. 'tbl_df'\n",
       "2. 'tbl'\n",
       "3. 'data.frame'\n",
       "\n",
       "\n"
      ],
      "text/plain": [
       "[1] \"tbl_df\"     \"tbl\"        \"data.frame\""
      ]
     },
     "metadata": {},
     "output_type": "display_data"
    },
    {
     "data": {
      "text/html": [
       "<table>\n",
       "<thead><tr><th scope=col>year</th><th scope=col>infant_mortality</th><th scope=col>life_expectancy</th><th scope=col>fertility</th><th scope=col>population</th><th scope=col>gdp</th><th scope=col>continent</th><th scope=col>region</th></tr></thead>\n",
       "<tbody>\n",
       "\t<tr><td>1960         </td><td>59.87        </td><td>65.39        </td><td>3.11         </td><td>20619075     </td><td>108322326649 </td><td>Americas     </td><td>South America</td></tr>\n",
       "\t<tr><td>1961         </td><td>59.73        </td><td>65.53        </td><td>3.10         </td><td>20953079     </td><td>114201892335 </td><td>Americas     </td><td>South America</td></tr>\n",
       "\t<tr><td>1962         </td><td>59.59        </td><td>65.64        </td><td>3.09         </td><td>21287682     </td><td>113228867667 </td><td>Americas     </td><td>South America</td></tr>\n",
       "\t<tr><td>1963         </td><td>59.39        </td><td>65.74        </td><td>3.08         </td><td>21621845     </td><td>107218456504 </td><td>Americas     </td><td>South America</td></tr>\n",
       "\t<tr><td>1964         </td><td>59.25        </td><td>65.84        </td><td>3.07         </td><td>21953926     </td><td>118080005266 </td><td>Americas     </td><td>South America</td></tr>\n",
       "\t<tr><td>1965         </td><td>59.11        </td><td>65.95        </td><td>3.06         </td><td>22283389     </td><td>130560392722 </td><td>Americas     </td><td>South America</td></tr>\n",
       "</tbody>\n",
       "</table>\n"
      ],
      "text/latex": [
       "\\begin{tabular}{r|llllllll}\n",
       " year & infant\\_mortality & life\\_expectancy & fertility & population & gdp & continent & region\\\\\n",
       "\\hline\n",
       "\t 1960          & 59.87         & 65.39         & 3.11          & 20619075      & 108322326649  & Americas      & South America\\\\\n",
       "\t 1961          & 59.73         & 65.53         & 3.10          & 20953079      & 114201892335  & Americas      & South America\\\\\n",
       "\t 1962          & 59.59         & 65.64         & 3.09          & 21287682      & 113228867667  & Americas      & South America\\\\\n",
       "\t 1963          & 59.39         & 65.74         & 3.08          & 21621845      & 107218456504  & Americas      & South America\\\\\n",
       "\t 1964          & 59.25         & 65.84         & 3.07          & 21953926      & 118080005266  & Americas      & South America\\\\\n",
       "\t 1965          & 59.11         & 65.95         & 3.06          & 22283389      & 130560392722  & Americas      & South America\\\\\n",
       "\\end{tabular}\n"
      ],
      "text/markdown": [
       "\n",
       "| year | infant_mortality | life_expectancy | fertility | population | gdp | continent | region |\n",
       "|---|---|---|---|---|---|---|---|\n",
       "| 1960          | 59.87         | 65.39         | 3.11          | 20619075      | 108322326649  | Americas      | South America |\n",
       "| 1961          | 59.73         | 65.53         | 3.10          | 20953079      | 114201892335  | Americas      | South America |\n",
       "| 1962          | 59.59         | 65.64         | 3.09          | 21287682      | 113228867667  | Americas      | South America |\n",
       "| 1963          | 59.39         | 65.74         | 3.08          | 21621845      | 107218456504  | Americas      | South America |\n",
       "| 1964          | 59.25         | 65.84         | 3.07          | 21953926      | 118080005266  | Americas      | South America |\n",
       "| 1965          | 59.11         | 65.95         | 3.06          | 22283389      | 130560392722  | Americas      | South America |\n",
       "\n"
      ],
      "text/plain": [
       "  year infant_mortality life_expectancy fertility population gdp         \n",
       "1 1960 59.87            65.39           3.11      20619075   108322326649\n",
       "2 1961 59.73            65.53           3.10      20953079   114201892335\n",
       "3 1962 59.59            65.64           3.09      21287682   113228867667\n",
       "4 1963 59.39            65.74           3.08      21621845   107218456504\n",
       "5 1964 59.25            65.84           3.07      21953926   118080005266\n",
       "6 1965 59.11            65.95           3.06      22283389   130560392722\n",
       "  continent region       \n",
       "1 Americas  South America\n",
       "2 Americas  South America\n",
       "3 Americas  South America\n",
       "4 Americas  South America\n",
       "5 Americas  South America\n",
       "6 Americas  South America"
      ]
     },
     "metadata": {},
     "output_type": "display_data"
    },
    {
     "data": {
      "text/plain": [
       "    Min.  1st Qu.   Median     Mean  3rd Qu.     Max. \n",
       "20619075 25105778 30623012 30783053 36343197 41655616 "
      ]
     },
     "metadata": {},
     "output_type": "display_data"
    },
    {
     "data": {
      "text/plain": [
       "   population      \n",
       " Min.   :20619075  \n",
       " 1st Qu.:25105778  \n",
       " Median :30623012  \n",
       " Mean   :30783053  \n",
       " 3rd Qu.:36343197  \n",
       " Max.   :41655616  "
      ]
     },
     "metadata": {},
     "output_type": "display_data"
    },
    {
     "data": {
      "text/html": [
       "30783052.6153846"
      ],
      "text/latex": [
       "30783052.6153846"
      ],
      "text/markdown": [
       "30783052.6153846"
      ],
      "text/plain": [
       "[1] 30783053"
      ]
     },
     "metadata": {},
     "output_type": "display_data"
    },
    {
     "data": {
      "text/html": [
       "<table>\n",
       "<thead><tr><th scope=col>Albania_mean_population</th><th scope=col>Albania_median_population</th><th scope=col>Albania_min_population</th><th scope=col>Albania_max_population</th></tr></thead>\n",
       "<tbody>\n",
       "\t<tr><td>30783053</td><td>30623012</td><td>20619075</td><td>41655616</td></tr>\n",
       "</tbody>\n",
       "</table>\n"
      ],
      "text/latex": [
       "\\begin{tabular}{r|llll}\n",
       " Albania\\_mean\\_population & Albania\\_median\\_population & Albania\\_min\\_population & Albania\\_max\\_population\\\\\n",
       "\\hline\n",
       "\t 30783053 & 30623012 & 20619075 & 41655616\\\\\n",
       "\\end{tabular}\n"
      ],
      "text/markdown": [
       "\n",
       "| Albania_mean_population | Albania_median_population | Albania_min_population | Albania_max_population |\n",
       "|---|---|---|---|\n",
       "| 30783053 | 30623012 | 20619075 | 41655616 |\n",
       "\n"
      ],
      "text/plain": [
       "  Albania_mean_population Albania_median_population Albania_min_population\n",
       "1 30783053                30623012                  20619075              \n",
       "  Albania_max_population\n",
       "1 41655616              "
      ]
     },
     "metadata": {},
     "output_type": "display_data"
    }
   ],
   "source": [
    "# Calculate population mean of Algeria\n",
    "\n",
    "mean(gap_nested$data[[1]]$population)\n",
    "\n",
    "\n",
    "# Work with nested data by catching the list column\n",
    "albania_tibble <- gap_nested$data[[2]]\n",
    "\n",
    "class(albania_tibble)\n",
    "\n",
    "head(albania_tibble)\n",
    "\n",
    "albania_tibble <-\n",
    "albania_tibble %>% na.omit()\n",
    "\n",
    "summary(albania_tibble$population)\n",
    "summary(albania_tibble[\"population\"])\n",
    "\n",
    "mean(albania_tibble$population)\n",
    "\n",
    "albania_tibble %>% summarize(\"Albania_mean_population\" = mean(population),\n",
    "                             \"Albania_median_population\" =median(population),\n",
    "                             \"Albania_min_population\" =min(population),\n",
    "                             \"Albania_max_population\" =max(population))\n",
    "\n"
   ]
  },
  {
   "cell_type": "code",
   "execution_count": 71,
   "metadata": {},
   "outputs": [
    {
     "data": {
      "text/html": [
       "<table>\n",
       "<thead><tr><th scope=col>year</th><th scope=col>infant_mortality</th><th scope=col>life_expectancy</th><th scope=col>fertility</th><th scope=col>population</th><th scope=col>gdp</th><th scope=col>continent</th><th scope=col>region</th></tr></thead>\n",
       "<tbody>\n",
       "\t<tr><td>1980          </td><td>174.6         </td><td>49.17         </td><td>6.49          </td><td>11936379      </td><td>2462152427    </td><td>Africa        </td><td>Eastern Africa</td></tr>\n",
       "\t<tr><td>1981          </td><td>174.1         </td><td>49.40         </td><td>6.47          </td><td>12228508      </td><td>2585260120    </td><td>Africa        </td><td>Eastern Africa</td></tr>\n",
       "\t<tr><td>1982          </td><td>173.3         </td><td>49.57         </td><td>6.46          </td><td>12511864      </td><td>2406877185    </td><td>Africa        </td><td>Eastern Africa</td></tr>\n",
       "\t<tr><td>1983          </td><td>172.3         </td><td>49.72         </td><td>6.44          </td><td>12766859      </td><td>2028997418    </td><td>Africa        </td><td>Eastern Africa</td></tr>\n",
       "\t<tr><td>1984          </td><td>170.9         </td><td>49.87         </td><td>6.42          </td><td>12968335      </td><td>1897112587    </td><td>Africa        </td><td>Eastern Africa</td></tr>\n",
       "\t<tr><td>1985          </td><td>169.2         </td><td>50.02         </td><td>6.40          </td><td>13102982      </td><td>1916083654    </td><td>Africa        </td><td>Eastern Africa</td></tr>\n",
       "</tbody>\n",
       "</table>\n"
      ],
      "text/latex": [
       "\\begin{tabular}{r|llllllll}\n",
       " year & infant\\_mortality & life\\_expectancy & fertility & population & gdp & continent & region\\\\\n",
       "\\hline\n",
       "\t 1980           & 174.6          & 49.17          & 6.49           & 11936379       & 2462152427     & Africa         & Eastern Africa\\\\\n",
       "\t 1981           & 174.1          & 49.40          & 6.47           & 12228508       & 2585260120     & Africa         & Eastern Africa\\\\\n",
       "\t 1982           & 173.3          & 49.57          & 6.46           & 12511864       & 2406877185     & Africa         & Eastern Africa\\\\\n",
       "\t 1983           & 172.3          & 49.72          & 6.44           & 12766859       & 2028997418     & Africa         & Eastern Africa\\\\\n",
       "\t 1984           & 170.9          & 49.87          & 6.42           & 12968335       & 1897112587     & Africa         & Eastern Africa\\\\\n",
       "\t 1985           & 169.2          & 50.02          & 6.40           & 13102982       & 1916083654     & Africa         & Eastern Africa\\\\\n",
       "\\end{tabular}\n"
      ],
      "text/markdown": [
       "\n",
       "| year | infant_mortality | life_expectancy | fertility | population | gdp | continent | region |\n",
       "|---|---|---|---|---|---|---|---|\n",
       "| 1980           | 174.6          | 49.17          | 6.49           | 11936379       | 2462152427     | Africa         | Eastern Africa |\n",
       "| 1981           | 174.1          | 49.40          | 6.47           | 12228508       | 2585260120     | Africa         | Eastern Africa |\n",
       "| 1982           | 173.3          | 49.57          | 6.46           | 12511864       | 2406877185     | Africa         | Eastern Africa |\n",
       "| 1983           | 172.3          | 49.72          | 6.44           | 12766859       | 2028997418     | Africa         | Eastern Africa |\n",
       "| 1984           | 170.9          | 49.87          | 6.42           | 12968335       | 1897112587     | Africa         | Eastern Africa |\n",
       "| 1985           | 169.2          | 50.02          | 6.40           | 13102982       | 1916083654     | Africa         | Eastern Africa |\n",
       "\n"
      ],
      "text/plain": [
       "  year infant_mortality life_expectancy fertility population gdp       \n",
       "1 1980 174.6            49.17           6.49      11936379   2462152427\n",
       "2 1981 174.1            49.40           6.47      12228508   2585260120\n",
       "3 1982 173.3            49.57           6.46      12511864   2406877185\n",
       "4 1983 172.3            49.72           6.44      12766859   2028997418\n",
       "5 1984 170.9            49.87           6.42      12968335   1897112587\n",
       "6 1985 169.2            50.02           6.40      13102982   1916083654\n",
       "  continent region        \n",
       "1 Africa    Eastern Africa\n",
       "2 Africa    Eastern Africa\n",
       "3 Africa    Eastern Africa\n",
       "4 Africa    Eastern Africa\n",
       "5 Africa    Eastern Africa\n",
       "6 Africa    Eastern Africa"
      ]
     },
     "metadata": {},
     "output_type": "display_data"
    },
    {
     "data": {
      "text/html": [
       "<table>\n",
       "<thead><tr><th scope=col>moza_mean_population</th><th scope=col>moza_median_population</th><th scope=col>moza_min_population</th><th scope=col>moza_max_population</th></tr></thead>\n",
       "<tbody>\n",
       "\t<tr><td>16934513</td><td>16161939</td><td>11936379</td><td>25016921</td></tr>\n",
       "</tbody>\n",
       "</table>\n"
      ],
      "text/latex": [
       "\\begin{tabular}{r|llll}\n",
       " moza\\_mean\\_population & moza\\_median\\_population & moza\\_min\\_population & moza\\_max\\_population\\\\\n",
       "\\hline\n",
       "\t 16934513 & 16161939 & 11936379 & 25016921\\\\\n",
       "\\end{tabular}\n"
      ],
      "text/markdown": [
       "\n",
       "| moza_mean_population | moza_median_population | moza_min_population | moza_max_population |\n",
       "|---|---|---|---|\n",
       "| 16934513 | 16161939 | 11936379 | 25016921 |\n",
       "\n"
      ],
      "text/plain": [
       "  moza_mean_population moza_median_population moza_min_population\n",
       "1 16934513             16161939               11936379           \n",
       "  moza_max_population\n",
       "1 25016921           "
      ]
     },
     "metadata": {},
     "output_type": "display_data"
    }
   ],
   "source": [
    "# Finding indices of countries\n",
    "# which(gapminder$country == \"Albania\")\n",
    "# gapminder[5551, \"country\"]\n",
    "# gapminder[which(gapminder$country == \"Albania\"),]\n",
    "\n",
    "\n",
    "moza_12 <- which(gap_nested$country == 'Mozambique')\n",
    "moza_tibble <- gap_nested$data[[moza_12]]\n",
    "\n",
    "head(moza_tibble)\n",
    "\n",
    "moza_tibble %>% na.omit() %>% summarize(\"moza_mean_population\" = mean(population),\n",
    "                             \"moza_median_population\" = median(population),\n",
    "                             \"moza_min_population\" = min(population),\n",
    "                             \"moza_max_population\" = max(population))\n"
   ]
  },
  {
   "cell_type": "code",
   "execution_count": 72,
   "metadata": {},
   "outputs": [
    {
     "data": {
      "text/html": [
       "'list'"
      ],
      "text/latex": [
       "'list'"
      ],
      "text/markdown": [
       "'list'"
      ],
      "text/plain": [
       "[1] \"list\""
      ]
     },
     "metadata": {},
     "output_type": "display_data"
    },
    {
     "data": {
      "text/html": [
       "<ol>\n",
       "\t<li>23129437.5192308</li>\n",
       "\t<li>30783052.6153846</li>\n",
       "\t<li>16074837.0384615</li>\n",
       "\t<li>7746271.5</li>\n",
       "\t<li>252813.088888889</li>\n",
       "</ol>\n"
      ],
      "text/latex": [
       "\\begin{enumerate}\n",
       "\\item 23129437.5192308\n",
       "\\item 30783052.6153846\n",
       "\\item 16074837.0384615\n",
       "\\item 7746271.5\n",
       "\\item 252813.088888889\n",
       "\\end{enumerate}\n"
      ],
      "text/markdown": [
       "1. 23129437.5192308\n",
       "2. 30783052.6153846\n",
       "3. 16074837.0384615\n",
       "4. 7746271.5\n",
       "5. 252813.088888889\n",
       "\n",
       "\n"
      ],
      "text/plain": [
       "[[1]]\n",
       "[1] 23129438\n",
       "\n",
       "[[2]]\n",
       "[1] 30783053\n",
       "\n",
       "[[3]]\n",
       "[1] 16074837\n",
       "\n",
       "[[4]]\n",
       "[1] 7746272\n",
       "\n",
       "[[5]]\n",
       "[1] 252813.1\n"
      ]
     },
     "metadata": {},
     "output_type": "display_data"
    }
   ],
   "source": [
    "# Calculate the population mean of every country using the map function\n",
    "# Make the mean function work by removing the NA\n",
    "\n",
    "pop_mean_country <-\n",
    "map(.x= gap_nested$data , .f = ~mean(.x$population))\n",
    "\n",
    "class(pop_mean_country)\n",
    "\n",
    "pop_mean_country[1:5]"
   ]
  },
  {
   "cell_type": "code",
   "execution_count": 73,
   "metadata": {},
   "outputs": [
    {
     "name": "stdout",
     "output_type": "stream",
     "text": [
      "Observations: 178\n",
      "Variables: 3\n",
      "$ country  <fct> Algeria, Argentina, Australia, Austria, Bahamas, Banglades...\n",
      "$ data     <list> [<\u001b[90m# A tibble: 52 x 8\u001b[39m,     year infant_mortality...\n",
      "$ pop_mean <list> [23129438, 30783053, 16074837, 7746272, 252813.1, 9764940...\n"
     ]
    },
    {
     "data": {
      "text/html": [
       "178"
      ],
      "text/latex": [
       "178"
      ],
      "text/markdown": [
       "178"
      ],
      "text/plain": [
       "[1] 178"
      ]
     },
     "metadata": {},
     "output_type": "display_data"
    },
    {
     "data": {
      "text/html": [
       "178"
      ],
      "text/latex": [
       "178"
      ],
      "text/markdown": [
       "178"
      ],
      "text/plain": [
       "[1] 178"
      ]
     },
     "metadata": {},
     "output_type": "display_data"
    }
   ],
   "source": [
    "# Add population mean directly to gap_nested\n",
    "\n",
    "gap_nested_pop_mean <-\n",
    "gap_nested %>% mutate(pop_mean = map(.x= data , .f = ~mean(.x$population)))\n",
    "\n",
    "glimpse(gap_nested_pop_mean)\n",
    "length(gap_nested_pop_mean$pop_mean)\n",
    "length(gap_nested_pop_mean$country)\n"
   ]
  },
  {
   "cell_type": "code",
   "execution_count": 74,
   "metadata": {},
   "outputs": [
    {
     "data": {
      "text/html": [
       "<table>\n",
       "<thead><tr><th scope=col>country</th><th scope=col>pop_mean</th></tr></thead>\n",
       "<tbody>\n",
       "\t<tr><td>Algeria   </td><td>23129437.5</td></tr>\n",
       "\t<tr><td>Argentina </td><td>30783052.6</td></tr>\n",
       "\t<tr><td>Australia </td><td>16074837.0</td></tr>\n",
       "\t<tr><td>Austria   </td><td> 7746271.5</td></tr>\n",
       "\t<tr><td>Bahamas   </td><td>  252813.1</td></tr>\n",
       "\t<tr><td>Bangladesh</td><td>97649407.1</td></tr>\n",
       "\t<tr><td>Barbados  </td><td>  254777.4</td></tr>\n",
       "\t<tr><td>Belgium   </td><td> 9983596.5</td></tr>\n",
       "\t<tr><td>Benin     </td><td> 4995497.2</td></tr>\n",
       "\t<tr><td>Bolivia   </td><td> 6482842.2</td></tr>\n",
       "</tbody>\n",
       "</table>\n"
      ],
      "text/latex": [
       "\\begin{tabular}{r|ll}\n",
       " country & pop\\_mean\\\\\n",
       "\\hline\n",
       "\t Algeria    & 23129437.5\\\\\n",
       "\t Argentina  & 30783052.6\\\\\n",
       "\t Australia  & 16074837.0\\\\\n",
       "\t Austria    &  7746271.5\\\\\n",
       "\t Bahamas    &   252813.1\\\\\n",
       "\t Bangladesh & 97649407.1\\\\\n",
       "\t Barbados   &   254777.4\\\\\n",
       "\t Belgium    &  9983596.5\\\\\n",
       "\t Benin      &  4995497.2\\\\\n",
       "\t Bolivia    &  6482842.2\\\\\n",
       "\\end{tabular}\n"
      ],
      "text/markdown": [
       "\n",
       "| country | pop_mean |\n",
       "|---|---|\n",
       "| Algeria    | 23129437.5 |\n",
       "| Argentina  | 30783052.6 |\n",
       "| Australia  | 16074837.0 |\n",
       "| Austria    |  7746271.5 |\n",
       "| Bahamas    |   252813.1 |\n",
       "| Bangladesh | 97649407.1 |\n",
       "| Barbados   |   254777.4 |\n",
       "| Belgium    |  9983596.5 |\n",
       "| Benin      |  4995497.2 |\n",
       "| Bolivia    |  6482842.2 |\n",
       "\n"
      ],
      "text/plain": [
       "   country    pop_mean  \n",
       "1  Algeria    23129437.5\n",
       "2  Argentina  30783052.6\n",
       "3  Australia  16074837.0\n",
       "4  Austria     7746271.5\n",
       "5  Bahamas      252813.1\n",
       "6  Bangladesh 97649407.1\n",
       "7  Barbados     254777.4\n",
       "8  Belgium     9983596.5\n",
       "9  Benin       4995497.2\n",
       "10 Bolivia     6482842.2"
      ]
     },
     "metadata": {},
     "output_type": "display_data"
    }
   ],
   "source": [
    "# The map() function always returns a vector of lists \n",
    "# you must use unnest() to extract this information into a numeric vector.\n",
    "\n",
    "gap_nested_pop_mean_unnest <-\n",
    "gap_nested_pop_mean %>% unnest(pop_mean)\n",
    "\n",
    "gap_nested_pop_mean_unnest[1:10, c(\"country\" , \"pop_mean\")]\n",
    "\n"
   ]
  },
  {
   "cell_type": "code",
   "execution_count": 75,
   "metadata": {},
   "outputs": [
    {
     "name": "stdout",
     "output_type": "stream",
     "text": [
      "Observations: 178\n",
      "Variables: 3\n",
      "$ country  <fct> Algeria, Argentina, Australia, Austria, Bahamas, Banglades...\n",
      "$ data     <list> [<\u001b[90m# A tibble: 52 x 8\u001b[39m,     year infant_mortality...\n",
      "$ mean_pop <dbl> 23129437.5, 30783052.6, 16074837.0, 7746271.5, 252813.1, 9...\n",
      "Observations: 178\n",
      "Variables: 3\n",
      "$ country  <fct> Algeria, Argentina, Australia, Austria, Bahamas, Banglades...\n",
      "$ data     <list> [<\u001b[90m# A tibble: 52 x 8\u001b[39m,     year infant_mortality...\n",
      "$ mean_pop <dbl> 23129437.5, 30783052.6, 16074837.0, 7746271.5, 252813.1, 9...\n"
     ]
    },
    {
     "data": {
      "text/html": [
       "<table>\n",
       "<thead><tr><th scope=col>country</th><th scope=col>mean_pop</th></tr></thead>\n",
       "<tbody>\n",
       "\t<tr><td>Algeria   </td><td>23129437.5</td></tr>\n",
       "\t<tr><td>Argentina </td><td>30783052.6</td></tr>\n",
       "\t<tr><td>Australia </td><td>16074837.0</td></tr>\n",
       "\t<tr><td>Austria   </td><td> 7746271.5</td></tr>\n",
       "\t<tr><td>Bahamas   </td><td>  252813.1</td></tr>\n",
       "</tbody>\n",
       "</table>\n"
      ],
      "text/latex": [
       "\\begin{tabular}{r|ll}\n",
       " country & mean\\_pop\\\\\n",
       "\\hline\n",
       "\t Algeria    & 23129437.5\\\\\n",
       "\t Argentina  & 30783052.6\\\\\n",
       "\t Australia  & 16074837.0\\\\\n",
       "\t Austria    &  7746271.5\\\\\n",
       "\t Bahamas    &   252813.1\\\\\n",
       "\\end{tabular}\n"
      ],
      "text/markdown": [
       "\n",
       "| country | mean_pop |\n",
       "|---|---|\n",
       "| Algeria    | 23129437.5 |\n",
       "| Argentina  | 30783052.6 |\n",
       "| Australia  | 16074837.0 |\n",
       "| Austria    |  7746271.5 |\n",
       "| Bahamas    |   252813.1 |\n",
       "\n"
      ],
      "text/plain": [
       "  country   mean_pop  \n",
       "1 Algeria   23129437.5\n",
       "2 Argentina 30783052.6\n",
       "3 Australia 16074837.0\n",
       "4 Austria    7746271.5\n",
       "5 Bahamas     252813.1"
      ]
     },
     "metadata": {},
     "output_type": "display_data"
    }
   ],
   "source": [
    "# As the resulting population mean is a vector of numbers\n",
    "# map_dbl from the Purr package tells r to deliver a vector of numbers instead of a list as map would normally do\n",
    "# glimpse(gap_nested )\n",
    "\n",
    "# Calculate mean population and store result as a double\n",
    "pop_mean_dl <- gap_nested %>%\n",
    "  mutate(mean_pop = map_dbl(.x=data, ~mean(.x$population)))\n",
    "\n",
    "# Take a look at pop_mean\n",
    "glimpse(pop_mean_dl )\n",
    "\n",
    "pop_mean_dl_unnest <-\n",
    "pop_mean_dl %>% unnest(mean_pop)\n",
    "\n",
    "glimpse(pop_mean_dl_unnest)\n",
    "\n",
    "pop_mean_dl_unnest[1:5, c(\"country\", \"mean_pop\")]"
   ]
  },
  {
   "cell_type": "code",
   "execution_count": 76,
   "metadata": {},
   "outputs": [
    {
     "name": "stdout",
     "output_type": "stream",
     "text": [
      "Observations: 178\n",
      "Variables: 3\n",
      "$ country               <fct> Algeria, Argentina, Australia, Austria, Baham...\n",
      "$ data                  <list> [<\u001b[90m# A tibble: 52 x 8\u001b[39m,     year inf...\n",
      "$ Infant_Mortality_Mean <dbl> 79.690385, 34.862308, 10.525000, 13.880769, 2...\n"
     ]
    },
    {
     "data": {
      "text/html": [
       "<ol class=list-inline>\n",
       "\t<li>'tbl_df'</li>\n",
       "\t<li>'tbl'</li>\n",
       "\t<li>'data.frame'</li>\n",
       "</ol>\n"
      ],
      "text/latex": [
       "\\begin{enumerate*}\n",
       "\\item 'tbl\\_df'\n",
       "\\item 'tbl'\n",
       "\\item 'data.frame'\n",
       "\\end{enumerate*}\n"
      ],
      "text/markdown": [
       "1. 'tbl_df'\n",
       "2. 'tbl'\n",
       "3. 'data.frame'\n",
       "\n",
       "\n"
      ],
      "text/plain": [
       "[1] \"tbl_df\"     \"tbl\"        \"data.frame\""
      ]
     },
     "metadata": {},
     "output_type": "display_data"
    },
    {
     "name": "stdout",
     "output_type": "stream",
     "text": [
      "Observations: 10\n",
      "Variables: 3\n",
      "$ country               <fct> Benin, Central African Republic, Cote d'Ivoir...\n",
      "$ data                  <list> [<\u001b[90m# A tibble: 52 x 8\u001b[39m,     year inf...\n",
      "$ Infant_Mortality_Mean <dbl> 121.1115, 123.3173, 123.2269, 154.7558, 145.9...\n"
     ]
    },
    {
     "data": {
      "text/html": [
       "<table>\n",
       "<thead><tr><th scope=col>country</th><th scope=col>Infant_Mortality_Mean</th></tr></thead>\n",
       "<tbody>\n",
       "\t<tr><td>Sierra Leone            </td><td>163.9077                </td></tr>\n",
       "\t<tr><td>Liberia                 </td><td>154.7558                </td></tr>\n",
       "\t<tr><td>Malawi                  </td><td>145.9058                </td></tr>\n",
       "\t<tr><td>Mali                    </td><td>139.7156                </td></tr>\n",
       "\t<tr><td>Nigeria                 </td><td>131.9765                </td></tr>\n",
       "\t<tr><td>Mozambique              </td><td>131.2125                </td></tr>\n",
       "\t<tr><td>Angola                  </td><td>126.7852                </td></tr>\n",
       "\t<tr><td>Central African Republic</td><td>123.3173                </td></tr>\n",
       "\t<tr><td>Cote d'Ivoire           </td><td>123.2269                </td></tr>\n",
       "\t<tr><td>Benin                   </td><td>121.1115                </td></tr>\n",
       "</tbody>\n",
       "</table>\n"
      ],
      "text/latex": [
       "\\begin{tabular}{r|ll}\n",
       " country & Infant\\_Mortality\\_Mean\\\\\n",
       "\\hline\n",
       "\t Sierra Leone             & 163.9077                \\\\\n",
       "\t Liberia                  & 154.7558                \\\\\n",
       "\t Malawi                   & 145.9058                \\\\\n",
       "\t Mali                     & 139.7156                \\\\\n",
       "\t Nigeria                  & 131.9765                \\\\\n",
       "\t Mozambique               & 131.2125                \\\\\n",
       "\t Angola                   & 126.7852                \\\\\n",
       "\t Central African Republic & 123.3173                \\\\\n",
       "\t Cote d'Ivoire            & 123.2269                \\\\\n",
       "\t Benin                    & 121.1115                \\\\\n",
       "\\end{tabular}\n"
      ],
      "text/markdown": [
       "\n",
       "| country | Infant_Mortality_Mean |\n",
       "|---|---|\n",
       "| Sierra Leone             | 163.9077                 |\n",
       "| Liberia                  | 154.7558                 |\n",
       "| Malawi                   | 145.9058                 |\n",
       "| Mali                     | 139.7156                 |\n",
       "| Nigeria                  | 131.9765                 |\n",
       "| Mozambique               | 131.2125                 |\n",
       "| Angola                   | 126.7852                 |\n",
       "| Central African Republic | 123.3173                 |\n",
       "| Cote d'Ivoire            | 123.2269                 |\n",
       "| Benin                    | 121.1115                 |\n",
       "\n"
      ],
      "text/plain": [
       "   country                  Infant_Mortality_Mean\n",
       "1  Sierra Leone             163.9077             \n",
       "2  Liberia                  154.7558             \n",
       "3  Malawi                   145.9058             \n",
       "4  Mali                     139.7156             \n",
       "5  Nigeria                  131.9765             \n",
       "6  Mozambique               131.2125             \n",
       "7  Angola                   126.7852             \n",
       "8  Central African Republic 123.3173             \n",
       "9  Cote d'Ivoire            123.2269             \n",
       "10 Benin                    121.1115             "
      ]
     },
     "metadata": {},
     "output_type": "display_data"
    }
   ],
   "source": [
    "# glimpse(gapminder)\n",
    "# Calculate mean of infant mortality per country\n",
    "# Pipe: clean - nest - map - mutate / append - unnest ( - subset - show)\n",
    "\n",
    "gap_infmor_mean <-\n",
    "gapminder %>% na.omit() %>% group_by(country) %>% nest(.key=data) %>%\n",
    "mutate(Infant_Mortality_Mean=map_dbl(.x=data, .f=~mean(.x$infant_mortality))) %>% \n",
    "unnest(Infant_Mortality_Mean)\n",
    "\n",
    "glimpse(gap_infmor_mean)\n",
    "class(gap_infmor_mean)\n",
    "\n",
    "gap_infmor_mean_top <- gap_infmor_mean %>% top_n(n=10, wt=Infant_Mortality_Mean)\n",
    "glimpse(gap_infmor_mean_top)\n",
    "\n",
    "\n",
    "gap_infmor_mean <- gap_infmor_mean %>% arrange(desc(Infant_Mortality_Mean)) \n",
    "gap_infmor_mean[1:10, c(\"country\", \"Infant_Mortality_Mean\")]\n",
    "\n"
   ]
  },
  {
   "cell_type": "markdown",
   "metadata": {},
   "source": [
    "The countries with the highest Infant_Mortality on average are all in Africa with Sierra Leone at the top and Benin on number 10."
   ]
  },
  {
   "cell_type": "markdown",
   "metadata": {},
   "source": [
    "<p> \n",
    "<b>\n",
    "Investigating the relationship between fertility and population size.\n",
    "</b>\n",
    "</p>\n",
    "<p>\n",
    "Creating mutiple linear regression models of the dependent variable population and the independent variable fertility for every county. \n",
    "</p>"
   ]
  },
  {
   "cell_type": "markdown",
   "metadata": {},
   "source": [
    "Tidy turns each model into a data frame"
   ]
  },
  {
   "cell_type": "code",
   "execution_count": null,
   "metadata": {},
   "outputs": [
    {
     "name": "stderr",
     "output_type": "stream",
     "text": [
      "\n",
      "Attaching package: 'broom'\n",
      "\n",
      "The following object is masked from 'package:rsample':\n",
      "\n",
      "    tidy\n",
      "\n"
     ]
    }
   ],
   "source": [
    "# population. Country population.\n",
    "# fertility. Average number of children per woman\n",
    "\n",
    "library(broom)\n",
    "# reminder:\n",
    "# gap_nested <- gapminder %>% na.omit() %>% dplyr::group_by(country) %>% nest(-country, .key = data)\n",
    "gap_reg_pop_fert <-\n",
    "gap_nested %>% mutate(\n",
    "    Reg_pop_fert=map(.x=data, \n",
    "                     .f=~lm(formula=population ~ fertility, data = .x)))%>% \n",
    "                      mutate(tidied = map(Reg_pop_fert, tidy))\n",
    "\n",
    "glimpse(gap_reg_pop_fert)\n",
    "\n",
    "head(gap_reg_pop_fert %>% unnest(tidied), 2)"
   ]
  },
  {
   "cell_type": "markdown",
   "metadata": {},
   "source": [
    "Augment tibble using mutate"
   ]
  },
  {
   "cell_type": "code",
   "execution_count": null,
   "metadata": {},
   "outputs": [],
   "source": [
    "gap_reg_pop_fert_aug <- gap_reg_pop_fert %>% \n",
    "mutate(results=map(Reg_pop_fert, augment)) %>% unnest(results)\n",
    "\n",
    "glimpse(gap_reg_pop_fert_aug)"
   ]
  },
  {
   "cell_type": "code",
   "execution_count": null,
   "metadata": {},
   "outputs": [],
   "source": [
    "# levels(gapminder$country)\n",
    "\n",
    "gap_reg_pop_fert_aug  %>% \n",
    "filter(country == \"Australia\" | country==\"Germany\" | country==\"France\" | country==\"Brazil\" |\n",
    "       country == \"China\" | country == \"Russia\" | country==\"Madagascar\" | country==\"Kenya\" |\n",
    "       country == \"Samoa\") %>%\n",
    "ggplot(aes(x=fertility)) +\n",
    "geom_point(aes(y=population), color=\"green\") + \n",
    "geom_line(aes(y=.fitted), size=1.5, colour=\"red\")+\n",
    "facet_wrap(country~., scales=\"free_y\")"
   ]
  },
  {
   "cell_type": "markdown",
   "metadata": {},
   "source": [
    "Plotting regression lines of population by fertility over selected countries"
   ]
  },
  {
   "cell_type": "code",
   "execution_count": null,
   "metadata": {},
   "outputs": [],
   "source": [
    "# levels(gapminder$country)\n",
    "\n",
    "# target <- c(\"Tom\", \"Lynn\")\n",
    "# filter(dat, name %in% target)  # equivalently, dat %>% filter(name %in% target)\n",
    "\n",
    "selected_countries_111 <- c(\"Australia\", \"Germany\", \"France\", \"Brazil\" , \n",
    "                            \"China\", \"Russia\" , \"Madagascar\",\"Samoa\", \"Canada\", \n",
    "                            'United Kingdom', 'Malaysia', 'India', 'Nigeria',\n",
    "                            'United States', 'Indonesia', 'Mexico'\n",
    "                            )\n",
    "\n",
    "gap_reg_pop_fert_aug  %>% filter(country %in% selected_countries_111) %>% \n",
    "ggplot(aes(x=fertility, colour=factor(country))) + \n",
    "geom_point(aes(y=population), alpha=0) +\n",
    "geom_line(aes(y=.fitted), size=1)+\n",
    "scale_colour_discrete(name=\"Selected countries\", \n",
    "                      guide=guide_legend(title_position=\"bottom\", \n",
    "                                         label.position = \"left\"))+\n",
    "labs(title=\"Regression lines of population by fertility over selected countries\", \n",
    "     y=\"Population\", x=\"Fertility\")+\n",
    "theme(axis.title = element_text(face=c(\"italic\", \"bold\"), size=12, colour=\"midnightblue\"),\n",
    "      plot.title =element_text(face=c(\"italic\", \"bold\"), \n",
    "                               size=12, colour=\"coral3\", hjust = 0.5),\n",
    "      legend.title=element_text(face=c(\"italic\", \"bold\"), colour=\"midnightblue\", \n",
    "                                size=10))"
   ]
  },
  {
   "cell_type": "markdown",
   "metadata": {},
   "source": [
    "unnest()combines the tidied models, as a result we have one model for each country"
   ]
  },
  {
   "cell_type": "code",
   "execution_count": null,
   "metadata": {},
   "outputs": [],
   "source": [
    "gap_reg_pop_fert_coeff <-\n",
    "gap_reg_pop_fert %>% unnest(tidied)\n",
    "\n",
    "glimpse(gap_reg_pop_fert_coeff)\n",
    "head(gap_reg_pop_fert_coeff)\n"
   ]
  },
  {
   "cell_type": "code",
   "execution_count": null,
   "metadata": {},
   "outputs": [],
   "source": [
    "intercept_999 <- gap_reg_pop_fert_coeff %>% filter(term==\"(Intercept)\")\n",
    "head(intercept_999)\n",
    "dim(intercept_999)\n",
    "slope_999 <- gap_reg_pop_fert_coeff %>% filter(term==\"fertility\")\n",
    "head(slope_999)\n",
    "dim(slope_999)\n",
    "\n"
   ]
  },
  {
   "cell_type": "markdown",
   "metadata": {},
   "source": [
    "Filter for the fertility term (slope)"
   ]
  },
  {
   "cell_type": "code",
   "execution_count": null,
   "metadata": {},
   "outputs": [],
   "source": [
    "gap_reg_pop_fert_coeff_filter <- gap_reg_pop_fert_coeff %>% filter(term==\"fertility\")\n",
    "\n",
    "head(gap_reg_pop_fert_coeff_filter)"
   ]
  },
  {
   "cell_type": "markdown",
   "metadata": {},
   "source": [
    "Filtered by adjusted p-value"
   ]
  },
  {
   "cell_type": "code",
   "execution_count": null,
   "metadata": {},
   "outputs": [],
   "source": [
    "gap_reg_pop_fert_pvalue <- gap_reg_pop_fert_coeff_filter %>% filter(p.value<0.5)\n",
    "head(gap_reg_pop_fert_pvalue)\n",
    "\n"
   ]
  },
  {
   "cell_type": "markdown",
   "metadata": {},
   "source": [
    "<p>Investigating single models</p>\n",
    "Extracting and looking at the models for Bahamas, Philippines, Algeria"
   ]
  },
  {
   "cell_type": "code",
   "execution_count": null,
   "metadata": {},
   "outputs": [],
   "source": [
    "# View the name of the country\n",
    "gap_reg_pop_fert[5, \"country\"]\n",
    "# Extract regression model of the country\n",
    "mod_baha_222 <- gap_reg_pop_fert$Reg_pop_fert[[5]]\n",
    "mod_baha_222\n",
    "\n",
    "gap_reg_pop_fert[67, \"country\"]\n",
    "mod_phil_222 <- gap_reg_pop_fert$Reg_pop_fert[[67]]\n",
    "mod_phil_222\n",
    "\n",
    "gap_reg_pop_fert[1, \"country\"]\n",
    "mod_alg_222 <- gap_reg_pop_fert$Reg_pop_fert[[1]]\n",
    "mod_alg_222\n",
    "\n",
    "ghana_index_222 <- which(gap_reg_pop_fert == 'Ghana')\n",
    "ghana_index_222\n",
    "gap_reg_pop_fert[ghana_index_222, \"country\"]\n",
    "mod_ghana_222 <- gap_reg_pop_fert$Reg_pop_fert[[ghana_index_222]]\n",
    "mod_ghana_222\n",
    "\n",
    "leso_index_222 <- which(gap_reg_pop_fert == \"Lesotho\")\n",
    "gap_reg_pop_fert[leso_index_222, \"country\"]\n",
    "mod_leso_222 <- gap_reg_pop_fert$Reg_pop_fert[[leso_index_222]]\n",
    "mod_leso_222 "
   ]
  },
  {
   "cell_type": "markdown",
   "metadata": {},
   "source": [
    "Glance at these models"
   ]
  },
  {
   "cell_type": "code",
   "execution_count": null,
   "metadata": {},
   "outputs": [],
   "source": [
    "glance(mod_baha_222)\n",
    "glance(mod_phil_222)\n",
    "glance(mod_alg_222)\n",
    "glance(mod_ghana_222)\n",
    "glance(mod_leso_222)"
   ]
  },
  {
   "cell_type": "markdown",
   "metadata": {},
   "source": [
    "<p>\n",
    "R-squared is the variance explained by the model of the total variance. \n",
    "R-squared has range between 0 an 1. R-Squared = 1 - (Explained Variation / Total Variation). It show the correlation\n",
    "in the movement between the independent and dependent variables. It is a measure of the strength of the relationship\n",
    "between variables, but only to a degree a measures of goodness of fit, which is best, when the difference between the\n",
    "observed and predicted values are small and unbiased.\n",
    "</p>\n",
    "<p>\n",
    "In the given models there is a strong correlation in the movement of fertility and population.\n",
    "</p>"
   ]
  },
  {
   "cell_type": "markdown",
   "metadata": {},
   "source": [
    "Tidy these models: tidy():returns the statistical findings of the model (such as coefficients)"
   ]
  },
  {
   "cell_type": "code",
   "execution_count": null,
   "metadata": {},
   "outputs": [],
   "source": [
    "mod_baha_tidy_222  <- tidy(mod_baha_222)\n",
    "mod_baha_tidy_222 \n",
    "\n",
    "mod_phil_tidy_222 <- tidy(mod_phil_222)\n",
    "mod_phil_tidy_222\n",
    "\n",
    "mod_alg_tidy_222 <- tidy(mod_alg_222)\n",
    "mod_alg_tidy_222\n",
    "\n",
    "mod_ghana_tidy_222 <- tidy(mod_ghana_222)\n",
    "mod_ghana_tidy_222\n",
    "\n",
    "mod_leso_tidy_222 <- tidy(mod_leso_222)\n",
    "mod_leso_tidy_222"
   ]
  },
  {
   "cell_type": "markdown",
   "metadata": {},
   "source": [
    "Augment the models: augment(): adds prediction columns (.fitted) to the data being modeled"
   ]
  },
  {
   "cell_type": "markdown",
   "metadata": {},
   "source": [
    "Augment and plot Bahamas"
   ]
  },
  {
   "cell_type": "code",
   "execution_count": null,
   "metadata": {},
   "outputs": [],
   "source": [
    "mod_baha_aug_222 <- augment(mod_baha_222)\n",
    "head(mod_baha_aug_222)\n",
    "mod_baha_aug_222 %>% \n",
    "ggplot(aes(x=fertility)) +\n",
    "geom_point(aes(y=population), color=\"green\") + \n",
    "geom_line(aes(y=.fitted), size=1.5, colour=\"red\")"
   ]
  },
  {
   "cell_type": "markdown",
   "metadata": {},
   "source": [
    "Fertility on y-axis and population on x-axis."
   ]
  },
  {
   "cell_type": "code",
   "execution_count": null,
   "metadata": {},
   "outputs": [],
   "source": [
    "mod_baha_aug_222 %>% arrange(population) %>% ggplot(aes(x=population, y=fertility)) + geom_point(color=\"red\")+\n",
    "geom_line(colour=\"green\", size=1.5)"
   ]
  },
  {
   "cell_type": "markdown",
   "metadata": {},
   "source": [
    "Augment and plot Phillipines"
   ]
  },
  {
   "cell_type": "code",
   "execution_count": null,
   "metadata": {},
   "outputs": [],
   "source": [
    "mod_phil_aug_222 <- augment(mod_phil_222)\n",
    "head(mod_phil_aug_222)\n",
    "mod_phil_aug_222 %>%\n",
    "ggplot(aes(x=fertility))+\n",
    "geom_point(mapping=aes(y=population), colour=\"green\")+\n",
    "geom_line(mapping=aes(y=.fitted), size=1.5, colour=\"red\")"
   ]
  },
  {
   "cell_type": "markdown",
   "metadata": {},
   "source": [
    "Augment and plot Algeria"
   ]
  },
  {
   "cell_type": "code",
   "execution_count": null,
   "metadata": {},
   "outputs": [],
   "source": [
    "mod_alg_aug_222 <- augment(mod_alg_222)\n",
    "head(mod_alg_aug_222)\n",
    "mod_alg_aug_222 %>%\n",
    "ggplot(mapping=aes(x=fertility))+\n",
    "geom_point(mapping=aes(y=population), color=\"green\")+\n",
    "geom_line(mapping=aes(y=.fitted), size=1.5, color=\"red\")"
   ]
  },
  {
   "cell_type": "markdown",
   "metadata": {},
   "source": [
    "Augment and plot Ghana"
   ]
  },
  {
   "cell_type": "code",
   "execution_count": null,
   "metadata": {},
   "outputs": [],
   "source": [
    "mod_ghana_aug_222 <-  augment(mod_ghana_222)\n",
    "head(mod_ghana_aug_222)\n",
    "mod_ghana_aug_222 %>% ggplot(mapping=aes(x=fertility))+\n",
    "geom_point(aes(y=population), color=\"green\")+\n",
    "geom_line(aes(y=.fitted), size=1.5, colour=\"red\")"
   ]
  },
  {
   "cell_type": "markdown",
   "metadata": {},
   "source": [
    "Augment and plot Lesotho"
   ]
  },
  {
   "cell_type": "code",
   "execution_count": null,
   "metadata": {},
   "outputs": [],
   "source": [
    "\n",
    "mod_leso_aug_222<-  augment(mod_leso_222)\n",
    "head(mod_leso_aug_222)\n",
    "mod_ghana_aug_222 %>% ggplot(mapping=aes(x=fertility))+\n",
    "geom_point(aes(y=population), color=\"green\")+\n",
    "geom_line(aes(y=.fitted), size=1.5, colour=\"red\")"
   ]
  },
  {
   "cell_type": "markdown",
   "metadata": {},
   "source": [
    "<p>\n",
    "What you can see here is, that even if fertility drops population increases or a higher fertility is correlated with \n",
    "a lower population. The relationship between the variables is negative. This might be surprising. Common \n",
    "sense would tell that the higher the fertility the higher the population size or not? This would be positive \n",
    "relationship. Is the model wrong? Actually the model is correct as domain knowledge confirms.\n",
    "</p>\n",
    "<p>\n",
    "In the article \"Fertility Rates Fall as Population Soars\" by US. News, Christopher Murray, senior author and director of the Institute for Health Metrics and Evaluation at the University of Washington explains the conundrum. Total fertility rates, measurements representing the average number of children a woman will deliver in her lifetime, have been on the decline since 1950. However, the global population has continued to increase, growing by 197 percent since 1950 and bringing the global population from 2.6 billion people to 7.6 billion people. Murray says this is something known as population momentum. There is a lag between when fertility drops and when the population begins to decline \n",
    "</p>"
   ]
  },
  {
   "cell_type": "markdown",
   "metadata": {},
   "source": [
    "<b>Model performance of population predicted by fertility over countries evaluated with R-squared</b>"
   ]
  },
  {
   "cell_type": "code",
   "execution_count": null,
   "metadata": {},
   "outputs": [],
   "source": [
    "# Start with the models before tidy, so nested\n",
    "model_fertpop_344 <-\n",
    "gap_nested %>% mutate(Models=map(.x=data, \n",
    "                                 .f=~lm(formula=population ~ \n",
    "                                        fertility, data = .x)))\n",
    "glimpse(model_fertpop_344)"
   ]
  },
  {
   "cell_type": "markdown",
   "metadata": {},
   "source": [
    "Glance extracts the coefficients of model. The coefficients are attached to the tibble using\n",
    "mutate. For every country the coefficients are now given."
   ]
  },
  {
   "cell_type": "code",
   "execution_count": null,
   "metadata": {},
   "outputs": [],
   "source": [
    "model_perf_344 <- model_fertpop_344 %>%\n",
    "mutate(coef = map(Models, ~glance(.x))) %>%\n",
    "unnest(coef)\n",
    "# glimpse(model_perf_344[1:9])\n",
    "model_perf_344 %>% select(-Models, -data) %>% head(n=3)"
   ]
  },
  {
   "cell_type": "markdown",
   "metadata": {
    "collapsed": true
   },
   "source": [
    "Understanding the distribution of r.squared in this model over all countries\n",
    "<p>\n",
    "Build a frequency table\n",
    "</p>"
   ]
  },
  {
   "cell_type": "code",
   "execution_count": null,
   "metadata": {},
   "outputs": [],
   "source": [
    "table_344 <- table(round(model_perf_344$r.squared, 2))\n",
    "\n",
    "df_344 <- as.data.frame(table_344)\n",
    "colnames(df_344) <- c(\"Values\", \"Frequency\")\n",
    "\n",
    "df_344_id <-\n",
    "df_344 %>% rowid_to_column(\"ID\") %>% arrange(desc(Frequency))\n",
    "\n",
    "head(df_344_id, n=10)"
   ]
  },
  {
   "cell_type": "code",
   "execution_count": null,
   "metadata": {},
   "outputs": [],
   "source": [
    "maxfreq_344 <- df_344_id[df_344_id$ID == 64, \"Frequency\"]\n",
    "maxfreq_344"
   ]
  },
  {
   "cell_type": "markdown",
   "metadata": {},
   "source": [
    "Summary of statistics"
   ]
  },
  {
   "cell_type": "code",
   "execution_count": null,
   "metadata": {},
   "outputs": [],
   "source": [
    "summary(model_perf_344$r.squared)"
   ]
  },
  {
   "cell_type": "markdown",
   "metadata": {},
   "source": [
    "Determing number of bins"
   ]
  },
  {
   "cell_type": "code",
   "execution_count": null,
   "metadata": {},
   "outputs": [],
   "source": [
    "Freedman_Diaconis(as.numeric(model_perf_344$r.squared))"
   ]
  },
  {
   "cell_type": "code",
   "execution_count": null,
   "metadata": {},
   "outputs": [],
   "source": [
    "model_perf_344 %>%\n",
    "ggplot(aes(x=r.squared)) +\n",
    "geom_histogram(bins=9, colour=\"gold2\", size=1, fill=\"blue\")+\n",
    "\n",
    "\n",
    "geom_vline(xintercept=0.95, color=\"green\")+\n",
    "geom_label(aes(x=0.92, y=60, label=\"Mode of 17\"))+\n",
    "\n",
    "geom_vline(xintercept=0.7486563, color=\"green\")+\n",
    "geom_label(aes(x=0.73, y=40, label=\"Average\"))+\n",
    "\n",
    "geom_vline(xintercept=0.8635208, color=\"green\")+\n",
    "geom_label(aes(x=0.83, y=50, label=\"Median\"))\n"
   ]
  },
  {
   "cell_type": "markdown",
   "metadata": {},
   "source": [
    "<p>\n",
    "The most frequent value is 0.95 with 17 counts. The mean is 0.75 and the median 0.86. The mode is higher than the median and the median higher than the average. This points out to a left skewed distribution.\n",
    "</p>\n",
    "\n",
    "<p>\n",
    "What is the skewness and the kurtosis of the distribution?\n",
    "</p>"
   ]
  },
  {
   "cell_type": "code",
   "execution_count": null,
   "metadata": {},
   "outputs": [],
   "source": [
    "\n",
    "skew_344 <-\n",
    "skewness(model_perf_344$r.squared)\n",
    "paste(\"Skewness: \", skew_344)\n",
    "kurt_344 <-\n",
    "kurtosis(model_perf_344$r.squared)\n",
    "paste(\"Kurtosis: \", kurt_344)"
   ]
  },
  {
   "cell_type": "markdown",
   "metadata": {},
   "source": [
    "<p>\n",
    "The skewness here is -1.2669. This value implies that the distribution of the data is heavy skewed to the left or negatively skewed. It is skewed to the left because the computed value is negative, and is heavy, because the value is distant from zero.\n",
    "</p>\n",
    "\n",
    "<p>\n",
    "For the kurtosis, we have 3.53 implying that the distribution \n",
    "of the data is leptokurtic, since the computed value is more than 3.\n",
    "</p>\n",
    "\n",
    "<p>\n",
    "In case data transformations can be tried. Outliers should be investigated. \n",
    "</p>"
   ]
  },
  {
   "cell_type": "markdown",
   "metadata": {},
   "source": [
    "The top ten models (fertility, population) with best goodness of fit according to R-squared"
   ]
  },
  {
   "cell_type": "code",
   "execution_count": null,
   "metadata": {},
   "outputs": [],
   "source": [
    "model_perf_344_topten <-\n",
    "model_perf_344 %>% top_n(n=10, wt=r.squared) %>% select(country, r.squared)\n",
    "\n",
    "head(model_perf_344_topten %>% rowid_to_column(\"Rank\"), 10 )"
   ]
  },
  {
   "cell_type": "markdown",
   "metadata": {},
   "source": [
    "Convert data frame column into character vector"
   ]
  },
  {
   "cell_type": "code",
   "execution_count": null,
   "metadata": {},
   "outputs": [],
   "source": [
    "countries_best_344 <- model_perf_344_topten$country\n",
    "countries_best_344  <- as.character(countries_best_344 )\n",
    "\n",
    "countries_best_344 \n",
    "countries_best_344[2]\n",
    "class(countries_best_344 )"
   ]
  },
  {
   "cell_type": "markdown",
   "metadata": {},
   "source": [
    "Images of the top ten best performing models evaluated with r.squared"
   ]
  },
  {
   "cell_type": "code",
   "execution_count": null,
   "metadata": {},
   "outputs": [],
   "source": [
    "\n",
    "countries_best_344_images <- \n",
    "gap_reg_pop_fert_aug %>% filter(country %in% countries_best_344) %>%\n",
    "ggplot(aes(x=fertility, group=country)) + geom_point(aes(y=population), \n",
    "                                                     color=\"green\") +\n",
    "geom_line(aes(y=.fitted), colour=\"red\", size=1)+\n",
    "facet_wrap(~country, scales = \"free\")+\n",
    "\n",
    "theme(axis.text.x=element_text(angle=90, hjust=1))\n",
    "\n",
    "countries_best_344_images"
   ]
  },
  {
   "cell_type": "markdown",
   "metadata": {},
   "source": [
    "The top ten models (fertility, population) with worst goodness of fit according to R-squared"
   ]
  },
  {
   "cell_type": "code",
   "execution_count": null,
   "metadata": {},
   "outputs": [],
   "source": [
    "\n",
    "model_perf_344_worst <-\n",
    "model_perf_344 %>% top_n(n=10, wt=-r.squared) %>% \n",
    "select(country, r.squared) %>% rowid_to_column(\"Rank\")\n",
    "\n",
    "model_perf_344_worst "
   ]
  },
  {
   "cell_type": "code",
   "execution_count": null,
   "metadata": {},
   "outputs": [],
   "source": [
    "model_perf_344_worst_countries <- as.character(model_perf_344_worst$country)\n",
    "model_perf_344_worst_countries\n",
    "\n",
    "countries_worst_344_images <- \n",
    "gap_reg_pop_fert_aug %>% \n",
    "filter(country %in% model_perf_344_worst_countries) %>%\n",
    "ggplot(aes(x=fertility, y=population, group=country))+\n",
    "geom_point(colour=\"gold\")+\n",
    "geom_line(aes(y=.fitted), colour=\"green\", size=1)+\n",
    "facet_wrap(~country, scales=\"free\")+\n",
    "\n",
    "theme(axis.text.x =element_text(angle=90, hjust=0.5))\n",
    "\n",
    "countries_worst_344_images"
   ]
  },
  {
   "cell_type": "markdown",
   "metadata": {},
   "source": [
    "In the best performing country models .fitted values and scattered values are closely aligned. In the worst performing country models the distance between .fitted and scattered values is greater and far more volatile."
   ]
  },
  {
   "cell_type": "markdown",
   "metadata": {},
   "source": [
    "#### Improving goodness of fit measured with R-squared with a multiple regression model using all numeric variables"
   ]
  },
  {
   "cell_type": "code",
   "execution_count": null,
   "metadata": {},
   "outputs": [],
   "source": [
    "multi_pop_344 <-\n",
    "gapminder %>% na.omit() %>%\n",
    "select(-continent, -region) %>% \n",
    "group_by(country) %>% nest(.key= \"data_by_country\") %>%\n",
    "mutate(multimodel = map(.x=data_by_country, .f=~lm(population~. , data=.x)))\n",
    "\n",
    "glimpse(multi_pop_344)"
   ]
  },
  {
   "cell_type": "markdown",
   "metadata": {},
   "source": [
    "Extract the fit statistics of each model into dataframes"
   ]
  },
  {
   "cell_type": "code",
   "execution_count": null,
   "metadata": {},
   "outputs": [],
   "source": [
    "multi_pop_344_fit <-\n",
    "multi_pop_344 %>% mutate(fit=map(.x=multimodel , .f=~glance(.x))) %>%\n",
    "unnest(fit)\n",
    "\n",
    "glimpse(multi_pop_344_fit)"
   ]
  },
  {
   "cell_type": "markdown",
   "metadata": {},
   "source": [
    "Extract r-squared from fit statistics and rename it"
   ]
  },
  {
   "cell_type": "code",
   "execution_count": null,
   "metadata": {},
   "outputs": [],
   "source": [
    "multi_pop_344_r2 <-\n",
    "multi_pop_344_fit %>% select(country, r.squared) %>%\n",
    "rename(Multi_R2 = r.squared)\n",
    "\n",
    "head(multi_pop_344_r2)"
   ]
  },
  {
   "cell_type": "markdown",
   "metadata": {},
   "source": [
    "Extract r-squared from fit statistics for worst countries only"
   ]
  },
  {
   "cell_type": "code",
   "execution_count": null,
   "metadata": {},
   "outputs": [],
   "source": [
    "multi_pop_344_worst <-\n",
    "multi_pop_344_fit %>% filter(country %in% model_perf_344_worst_countries) %>%\n",
    "select(country, r.squared) %>% rename(Multi_R2 = r.squared)\n",
    "multi_pop_344_worst"
   ]
  },
  {
   "cell_type": "markdown",
   "metadata": {},
   "source": [
    "Rename r.squared of simple model"
   ]
  },
  {
   "cell_type": "code",
   "execution_count": null,
   "metadata": {},
   "outputs": [],
   "source": [
    "model_perf_344_worst_rename <- model_perf_344_worst %>% rename(Simple_R2 = r.squared)\n",
    "model_perf_344_worst_rename "
   ]
  },
  {
   "cell_type": "markdown",
   "metadata": {},
   "source": [
    "Join both models for better comparison of goodness of fit measured by r.square"
   ]
  },
  {
   "cell_type": "code",
   "execution_count": null,
   "metadata": {},
   "outputs": [],
   "source": [
    "inner_join(model_perf_344_worst_rename , multi_pop_344_worst , by = \"country\" )"
   ]
  },
  {
   "cell_type": "markdown",
   "metadata": {},
   "source": [
    "The goodness of fit improves enormous switching from the simple to the multiple model.\n",
    "<p>\n",
    "However, while the adjusted R2 does tell us how well the model fit our data, it does not \n",
    "give any indication on how it would perform on new data.\n",
    "</p>"
   ]
  },
  {
   "cell_type": "markdown",
   "metadata": {},
   "source": [
    "#### Life expectancy - year - Creating linear regression models of life expectancy by year for every country"
   ]
  },
  {
   "cell_type": "code",
   "execution_count": null,
   "metadata": {},
   "outputs": [],
   "source": [
    "# glimpse(gapminder)\n",
    "# Pipe: clean - nest - map - mutate / append - unnest ( - subset - show)\n",
    "\n",
    "model_reg_y_le_country <-\n",
    "gapminder %>% na.omit() %>% \n",
    "group_by(country) %>% nest() %>% \n",
    "mutate(Models = map(.x=data, .f=~lm(life_expectancy~year, data=.x))) \n",
    "\n",
    "model_reg_y_le_country_tidy <-\n",
    "model_reg_y_le_country %>%\n",
    "mutate(Tidy_models = map(Models, tidy)) %>%\n",
    "unnest(Tidy_models)\n",
    "\n",
    "glimpse(model_reg_y_le_country)\n",
    "glimpse(model_reg_y_le_country_tidy)"
   ]
  },
  {
   "cell_type": "markdown",
   "metadata": {},
   "source": [
    "Combine tidy tibble with augment tibble using mutate"
   ]
  },
  {
   "cell_type": "markdown",
   "metadata": {},
   "source": [
    "What do I want to do? I want to build linear regression models of life expectancy depending on yearfor every country. I want then to have an easy view on the models and because of this I tidy models. For example this allows me to extract models with p-values below a significant level of 0.05 or compare the slope estimates. I want also better and easier understand the models with a plot of the regression lines. For this reason I need the predicted fitted values calculated by the models. \n",
    "I can get the fitted values by using the augment function of the broom package."
   ]
  },
  {
   "cell_type": "code",
   "execution_count": null,
   "metadata": {},
   "outputs": [],
   "source": [
    "\n",
    "\n",
    "life_444 <- gapminder %>% na.omit() %>% \n",
    "group_by(country) %>% \n",
    "nest(-country, .key = data) %>%\n",
    "mutate(models=map(.x=data, .f=~lm(life_expectancy~year, data=.x)),\n",
    "       tidied = map(models, tidy),\n",
    "       fitted = map(models, augment)) \n"
   ]
  },
  {
   "cell_type": "markdown",
   "metadata": {},
   "source": [
    "Unnest augmented models"
   ]
  },
  {
   "cell_type": "code",
   "execution_count": null,
   "metadata": {},
   "outputs": [],
   "source": [
    "\n",
    "life_444_fit <- life_444 %>% unnest(fitted)\n",
    "head(life_444_fit)\n"
   ]
  },
  {
   "cell_type": "markdown",
   "metadata": {},
   "source": [
    "Unnest tidy models"
   ]
  },
  {
   "cell_type": "code",
   "execution_count": null,
   "metadata": {},
   "outputs": [],
   "source": [
    "\n",
    "life_444_tidy <- life_444 %>% unnest(tidied)\n",
    "head(life_444_tidy)"
   ]
  },
  {
   "cell_type": "markdown",
   "metadata": {},
   "source": [
    "Investigating life expectancy of EU-countries\n",
    "<p> Is the life expectancy of new members and in particular new east European members lower?\" "
   ]
  },
  {
   "cell_type": "code",
   "execution_count": null,
   "metadata": {},
   "outputs": [],
   "source": [
    "eu_countries <- \n",
    "c(\"Austria\",\"Italy\",\"Belgium\",\"Latvia\",\"Bulgaria\",\"Lithuania\",\"Croatia\",\"Luxembourg\",\"Cyprus,Malta\",\"Czechia\",\"Netherlands\",\n",
    "\"Denmark\",\"Poland\",\"Estonia\",\"Portugal\",\"Finland\",\"Romania\",\"France\",\"Slovakia\",\"Germany\",\"Slovenia\",\"Greece\",\"Spain\",\"Hungary\",\"Sweden\",\n",
    "\"Ireland\",\"United Kingdom\")"
   ]
  },
  {
   "cell_type": "code",
   "execution_count": null,
   "metadata": {},
   "outputs": [],
   "source": [
    "life_444_fit %>% filter(complete.cases(.)) %>% \n",
    "filter(country %in% eu_countries) %>%\n",
    "ggplot(aes(x=year, colour=country)) + \n",
    "geom_point(aes(y=life_expectancy), alpha=0.05) + \n",
    "geom_line(aes(y=.fitted)) + \n",
    "facet_wrap(country~., scales = \"free_y\")+\n",
    "theme_bw()+\n",
    "theme(axis.text.x = element_text(angle=90, hjust = 1, size=5, colour=\"midnightblue\"),\n",
    "      legend.position=\"none\")\n"
   ]
  },
  {
   "cell_type": "code",
   "execution_count": null,
   "metadata": {},
   "outputs": [],
   "source": [
    "life_444_fit_eu <-\n",
    "life_444_fit %>% filter(complete.cases(.)) %>% \n",
    "filter(country %in% eu_countries)\n",
    "\n",
    "\n",
    "life_444_fit %>% filter(complete.cases(.)) %>% \n",
    "filter(country %in% eu_countries) %>% ggplot(aes(x=year, colour=country)) + \n",
    "geom_point(aes(y=life_expectancy), alpha=0) + \n",
    "geom_line(aes(y=.fitted))+\n",
    "\n",
    "\n",
    "\n",
    "scale_y_continuous(breaks =seq(from=60, to=85, by=1))+\n",
    "scale_x_continuous(breaks = seq(from=1960, to=2015, by=2))+\n",
    "\n",
    "\n",
    "geom_label(data=subset(life_444_fit_eu , year == 2000 & country %in% \n",
    "                       c(\"Poland\",\"Austria\",\"Italy\",\"Latvia\",\"Bulgaria\",\"Lithuania\") ),\n",
    "                       aes(year,life_expectancy,label=country), size=2)+\n",
    "geom_label(data=subset(life_444_fit_eu , year == 1995 & country %in% \n",
    "                       c(\"Estonia\",\"Croatia\",\"Luxembourg\",\"Cyprus,Malta\",\"Czechia\",\"Netherlands\") ),\n",
    "                       aes(year,life_expectancy,label=country), size=2)+\n",
    "geom_label(data=subset(life_444_fit_eu , year == 1986 & country %in% \n",
    "                       c(\"Portugal\",\"Finland\") ),\n",
    "                       aes(year,life_expectancy,label=country), size=2)+\n",
    "geom_label(data=subset(life_444_fit_eu , year == 2006 & country %in% \n",
    "                       c( \"Denmark\",\"Romania\",\"Slovakia\",\"Slovenia\") ),\n",
    "                       aes(year,life_expectancy,label=country), size=2)+\n",
    "geom_label(data=subset(life_444_fit_eu , year == 1975 & country %in% \n",
    "                       c(\"Greece\",\"Spain\",\"Hungary\",\"Sweden\",\"Ireland\",\"United Kingdom\",\n",
    "                         \"Belgium\") ),\n",
    "                       aes(year,life_expectancy,label=country), size=2)+\n",
    "geom_label(data=subset(life_444_fit_eu , year == 1970 & country %in% \n",
    "                       c(\"France\",\"Germany\") ),\n",
    "                       aes(year,life_expectancy,label=country), size=2)+\n",
    "scale_colour_discrete(name=\"EU-countries\")+\n",
    "\n",
    "theme(axis.text.x = element_text(angle = 90, hjust = 1, colour=\"cadetblue1\", face=\"bold\", size=8),\n",
    "      axis.text.y = element_text(colour=\"cadetblue1\", face=\"bold\", size=8),\n",
    "      axis.title = element_text(colour=\"cadetblue1\", face=\"bold\"),\n",
    "      plot.title=element_text(hjust = 0.5, face=\"bold\", colour=\"cadetblue1\", size=12),\n",
    "      legend.position='none')+\n",
    "labs(x=\"Year\", y=\"Life expectancy\", title=\"Life expectancy of EU-countries 1960-2015\")\n"
   ]
  },
  {
   "cell_type": "markdown",
   "metadata": {},
   "source": [
    "The group of new EU members from east European countries have lower life expectancy than \n",
    "than the older EU members. The life expectancy increases also on lower slope, while Estonia is a clear exception. Also interestingly the life expectancy of Denmark is lower than many other \n",
    "West European countries and increases on a lower slope."
   ]
  },
  {
   "cell_type": "code",
   "execution_count": null,
   "metadata": {},
   "outputs": [],
   "source": [
    "nrow(life_444_fit_eu)\n",
    "head(life_444_fit_eu)"
   ]
  },
  {
   "cell_type": "markdown",
   "metadata": {},
   "source": [
    "Calculate maximum and average life expectancy by EU-country"
   ]
  },
  {
   "cell_type": "code",
   "execution_count": null,
   "metadata": {},
   "outputs": [],
   "source": [
    "eu_countries_121 <-\n",
    "life_444_fit %>% filter(complete.cases(.)) %>% \n",
    "filter(country %in% eu_countries) %>% group_by(country) %>% \n",
    "summarize(mean_le=mean(life_expectancy), max_le=max(life_expectancy)) %>%\n",
    "arrange(desc(max_le))\n",
    "\n",
    "life_444_tidy_year_eu <-\n",
    "life_444_tidy %>% \n",
    "filter(term==\"year\", country %in% eu_countries) %>%  filter(complete.cases(.))\n",
    "\n"
   ]
  },
  {
   "cell_type": "markdown",
   "metadata": {},
   "source": [
    "Join df, create an index and sort by estimate "
   ]
  },
  {
   "cell_type": "code",
   "execution_count": null,
   "metadata": {},
   "outputs": [],
   "source": [
    "# dplyr::full_join(a, b, by = \"x1\")\n",
    "# Join data. Retain all values, all rows.\n",
    "\n",
    "eu_countries_merged <-\n",
    "full_join(eu_countries_121 , life_444_tidy_year_eu, by=\"country\")\n",
    "\n",
    "eu_countries_merged_slope <-\n",
    "eu_countries_merged %>% select(country, mean_le, max_le, estimate) %>% \n",
    "arrange(desc(estimate))   \n",
    "# Adding an index to a data frame with tidyr rowid_to_column(data, \"ID\")\n",
    "eu_countries_merged_slope  %>% rowid_to_column(\"ID\")\n",
    "class(eu_countries_merged_slope )"
   ]
  },
  {
   "cell_type": "markdown",
   "metadata": {},
   "source": [
    "Calculate average estimate and turn it into a vector"
   ]
  },
  {
   "cell_type": "code",
   "execution_count": null,
   "metadata": {},
   "outputs": [],
   "source": [
    "# Calculate average EU estimate\n",
    "eu_countries_estimate_average <-\n",
    "eu_countries_merged_slope %>%  summarize(average_estimate = mean(estimate))\n",
    "eu_countries_estimate_average\n",
    "\n",
    "# Extract numeric from df\n",
    "eu_countries_estimate_average_1 <- eu_countries_estimate_average$average_estimate\n",
    "print(class(eu_countries_estimate_average_1))\n",
    "eu_countries_estimate_average_1"
   ]
  },
  {
   "cell_type": "markdown",
   "metadata": {},
   "source": [
    "Extract the mode of the estimate from a frequency table"
   ]
  },
  {
   "cell_type": "code",
   "execution_count": null,
   "metadata": {},
   "outputs": [],
   "source": [
    "# tabulate takes the integer-valued vector bin and counts the number of times each integer occurs in it.\n",
    "# tabulate(bin, nbins = max(1, bin, na.rm = TRUE))\n",
    "\n",
    "# Create a vector from data frame column\n",
    "eu_countries_merged_slope_233 <- round(eu_countries_merged_slope$estimate, 2)\n",
    "\n",
    "# \n",
    "table_233 <- table(eu_countries_merged_slope_233)\n",
    "table_233 \n",
    "names(table_233)\n",
    "\n",
    "max_233 <- as.numeric(names(table_233)[which(table_233==max(table_233))])\n",
    "class(max_233)\n",
    "print(max_233)\n",
    "\n",
    "# Side calculations:\n",
    "# max_234 = max(table_233)\n",
    "# index_233 <- table_233[which(table_233==max_233)]\n",
    "# index_233 \n",
    "# class(index_233 )\n",
    "# which(table_233==max_234)"
   ]
  },
  {
   "cell_type": "code",
   "execution_count": null,
   "metadata": {},
   "outputs": [],
   "source": [
    "eu_countries_merged_slope %>% \n",
    " \n",
    "ggplot(aes(x = estimate)) +\n",
    "geom_histogram(colour=\"gold\", size=1, fill=\"turquoise\", bins=35)+\n",
    "# scale_x_continuous(breaks = seq(from=1985, to=2015, by=2))\n",
    "scale_x_continuous(breaks=seq(from=0, to=0.5, by=0.05))+\n",
    "scale_y_continuous(breaks=seq(from=0, to=5, by=0.25))+\n",
    "\n",
    "geom_vline(aes(xintercept=0.47230392))+\n",
    "geom_text(aes(x=0.43, y=3.5, label=\"Estonia\"))+\n",
    "geom_vline(aes(xintercept=0.12927516))+\n",
    "geom_text(aes(x=0.10 , y=2.5, label=\"Denmark\"))+\n",
    "geom_vline(aes(xintercept=eu_countries_estimate_average_1))+\n",
    "geom_text(aes(x=0.175, y=3.25, label=\"Average estimate\"))+\n",
    "geom_vline(aes(xintercept=max_233))+\n",
    "geom_text(aes(x=max_233+0.05, y=3.5, \n",
    "              label=\"Maximal frequency \\n(Germany, Greece, \\nAustria, Spain)\"))+\n",
    "\n",
    "labs(title=\"Increase estimates of life expectancy of EU-countries\", x=\"Estimates\", y=\"Count\")+\n",
    "theme(plot.title=element_text(hjust=0.5, face=\"bold\"))"
   ]
  },
  {
   "cell_type": "markdown",
   "metadata": {},
   "source": [
    "<p>\n",
    "It is true that the increase in life expectancy of Estonia is the highest. \n",
    "Also the life expectancy of other new members like Portugal, Poland and Slowenia is increasing. While this is the case the top ten of maximal life expectancy are all older EU members. It is also true that the life expectancy of Denmark increases with 0.12927516 at rank 20 at the lowest level of all old EU members. The most frequent estimate of 0.24 results from\n",
    "Germany, Greece, Austria and Spain.\n",
    "</p>"
   ]
  },
  {
   "cell_type": "code",
   "execution_count": null,
   "metadata": {},
   "outputs": [],
   "source": [
    "eu_countries_merged_max <-\n",
    "eu_countries_merged %>% select(country, mean_le, max_le, estimate) \n",
    "\n",
    "eu_countries_merged_max %>% top_n(10, max_le)  %>%  rowid_to_column(\"Index\")\n"
   ]
  },
  {
   "cell_type": "code",
   "execution_count": null,
   "metadata": {},
   "outputs": [],
   "source": [
    "eu_countries_merged_max %>% arrange(desc(mean_le)) %>% \n",
    "top_n(10, mean_le)  %>%  rowid_to_column(\"Index\")"
   ]
  },
  {
   "cell_type": "markdown",
   "metadata": {},
   "source": [
    "<p>\n",
    "Of the top ten with the highest average life expectancy Irelands number one with 79.58333 years, Spain number five with 75.91615 years and Greece number 10 with 75.15519 years.\n",
    "</p>\n",
    "<p>\n",
    "The hypothesis could be made that EU-membership increases life expectancy to a certain point around 80. New members have therefore a stronger growth of life expectancy, but at this point this is merely an assumption, which could be further investigated. \n",
    "</p>"
   ]
  },
  {
   "cell_type": "code",
   "execution_count": null,
   "metadata": {},
   "outputs": [],
   "source": [
    "life_444_fit_eu_1985 <-\n",
    "life_444_fit %>% filter(complete.cases(.)) %>% filter(year >= 1985) %>%\n",
    "filter(country %in% eu_countries)\n",
    "head(life_444_fit_eu_1985)\n"
   ]
  },
  {
   "cell_type": "code",
   "execution_count": null,
   "metadata": {},
   "outputs": [],
   "source": [
    "\n",
    "life_444_fit_eu_1985 %>% filter(complete.cases(.)) %>% \n",
    "filter(country %in% eu_countries) %>% ggplot(aes(x=year, colour=country)) + \n",
    "geom_point(aes(y=life_expectancy), alpha=0.5) + \n",
    "geom_line(aes(y=.fitted))+\n",
    "\n",
    "scale_y_continuous(breaks =seq(from=65, to=85, by=1))+\n",
    "scale_x_continuous(breaks = seq(from=1985, to=2015, by=2))+\n",
    "\n",
    "geom_vline(xintercept=1995, size=0.8, color=\"gold1\")+\n",
    "geom_text(aes(x=1994, y=85, label= \"Applications for accession to the European Union\"),\n",
    "          color=\"black\", size=2)+\n",
    "\n",
    "geom_vline(xintercept=2003, size=0.8, color=\"red\")+\n",
    "geom_text(aes(x=2000, y=83, label=\"Memberships granted\"), size=2, color=\"black\")+\n",
    "\n",
    "geom_label(data=subset(life_444_fit_eu , year == 2000 & country %in% \n",
    "                       c(\"Poland\",\"Austria\",\"Italy\",\"Latvia\",\"Bulgaria\",\"Lithuania\",\n",
    "                         \"Belgium\") ),\n",
    "                       aes(year,life_expectancy,label=country), size=2)+\n",
    "geom_label(data=subset(life_444_fit_eu , year == 1995 & country %in% \n",
    "                       c(\"Estonia\",\"Croatia\",\"Luxembourg\",\"Cyprus,Malta\",\"Czechia\",\"Netherlands\") ),\n",
    "                       aes(year,life_expectancy,label=country), size=2)+\n",
    "geom_label(data=subset(life_444_fit_eu , year == 1986 & country %in% \n",
    "                       c(\"Portugal\",\"Finland\") ),\n",
    "                       aes(year,life_expectancy,label=country), size=2)+\n",
    "geom_label(data=subset(life_444_fit_eu , year == 2006 & country %in% \n",
    "                       c( \"Denmark\",\"Romania\",\"Slovakia\",\"Slovenia\",\"United Kingdom\") ),\n",
    "                       aes(year,life_expectancy,label=country), size=2)+\n",
    "geom_label(data=subset(life_444_fit_eu , year == 1986 & country %in% \n",
    "                       c(\"Greece\",\"Spain\",\"Hungary\",\"Sweden\",\"Ireland\") ),\n",
    "                       aes(year,life_expectancy,label=country), size=2)+\n",
    "geom_label(data=subset(life_444_fit_eu , year == 1984 & country %in% \n",
    "                       c(\"France\",\"Germany\") ),\n",
    "                       aes(year,life_expectancy,label=country), size=2)+\n",
    "scale_colour_discrete(name=\"EU-countries\")+\n",
    "\n",
    "theme(axis.text.x = element_text(angle = 90, hjust = 1, colour=\"cadetblue1\", face=\"bold\", size=8),\n",
    "      axis.text.y = element_text(colour=\"cadetblue1\", face=\"bold\", size=8),\n",
    "      axis.title = element_text(colour=\"cadetblue1\", face=\"bold\"),\n",
    "      plot.title=element_text(hjust = 0.5, face=\"bold\", colour=\"cadetblue1\", size=12),\n",
    "      legend.position='none')+\n",
    "labs(x=\"Year\", y=\"Life expectancy\", title=\"Life expectancy of EU-countries 1985-2015\")\n",
    "\n",
    "\n"
   ]
  },
  {
   "cell_type": "markdown",
   "metadata": {},
   "source": [
    "Here development inlife expectancy since 1985 is shown. Considering applications for accession to the European Union started around 1994 or 1995 and full membership came into place around 2003 and 2004 for some Eastern countries it seems that increase in life expectancy was set onto path allready before these countries approached the EU. There is none change in slope after 1995 or 2003 visible. Long term effects beyond 2015 cannot derived from the data at this point."
   ]
  },
  {
   "cell_type": "markdown",
   "metadata": {},
   "source": [
    "Investigating selected countries like before in the fertility and population model"
   ]
  },
  {
   "cell_type": "code",
   "execution_count": null,
   "metadata": {},
   "outputs": [],
   "source": [
    "# selected_countries_111\n",
    "\n",
    "life_444_fit %>% drop_na() %>% \n",
    "filter(country %in% selected_countries_111 ) %>%\n",
    "ggplot(aes(x=year, colour=country)) + \n",
    "geom_point(aes(y=life_expectancy)) + \n",
    "geom_line(aes(y=.fitted))+\n",
    "theme(legend.background = element_rect(fill=\"lightblue\", size=0.5, linetype=\"solid\"))\n"
   ]
  },
  {
   "cell_type": "markdown",
   "metadata": {},
   "source": [
    "Life expectancy of all countries "
   ]
  },
  {
   "cell_type": "markdown",
   "metadata": {},
   "source": [
    "Interestingly the life expectancy of all countries is growing, besides Russia. Jumping to conclusion\n",
    "this could be assigned to the policy change at beginning of the nineties, but further investigation\n",
    "is necessary."
   ]
  },
  {
   "cell_type": "code",
   "execution_count": null,
   "metadata": {},
   "outputs": [],
   "source": [
    "model_Australia <- model_reg_y_le_country %>% filter(country==\"Australia\")\n",
    "\n",
    "glimpse(model_Australia)\n",
    "glance(model_Australia)\n",
    "augment(model_Australia)"
   ]
  },
  {
   "cell_type": "markdown",
   "metadata": {},
   "source": [
    "Average life expectancy by year of all countries"
   ]
  },
  {
   "cell_type": "code",
   "execution_count": null,
   "metadata": {},
   "outputs": [],
   "source": [
    "# glimpse(gapminder)\n",
    "gap_year_le_av <-\n",
    "gapminder %>% na.omit() %>% group_by(year) %>% \n",
    "nest(.key=other_variables) %>%\n",
    "mutate(Life_Expec_Mean = map(.x=other_variables, .f=~mean(.x$life_expectancy))) %>%\n",
    "unnest(Life_Expec_Mean)\n",
    "glimpse(gap_year_le_av)\n",
    "gap_year_le_av[1:5, c(\"year\", \"Life_Expec_Mean\")]\n"
   ]
  },
  {
   "cell_type": "markdown",
   "metadata": {},
   "source": [
    "Determining the top 5 years in terms of average life expectancy over all countries"
   ]
  },
  {
   "cell_type": "code",
   "execution_count": null,
   "metadata": {},
   "outputs": [],
   "source": [
    "\n",
    "# top 5 years of life expectancy\n",
    "\n",
    "top_le_y <- \n",
    "gap_year_le_av %>% top_n(n=5, wt=Life_Expec_Mean )\n",
    "\n",
    "top_le_y[1:5, \"year\"]\n",
    "\n",
    "top_le_y %>% ggplot(aes(x=year, y=Life_Expec_Mean )) + geom_col(colour=(\"blue\"),fill=c(\"red\", \"blue\", \"gold\", \"black\", \"green\"))"
   ]
  },
  {
   "cell_type": "markdown",
   "metadata": {},
   "source": [
    "The top five years are from 2007 to 2011. Life expectancy is slightly growing from 2007 to 2011."
   ]
  },
  {
   "cell_type": "code",
   "execution_count": null,
   "metadata": {},
   "outputs": [],
   "source": [
    "gap_year_le_av %>%\n",
    "ggplot(aes(x=year, y=Life_Expec_Mean)) + \n",
    "geom_line(colour=\"#DA70D6\", size=1)+\n",
    "labs(title=\"Average life expectancy per year of all countries\" , x=\"Year\", y=\"Average life expectancy\")+\n",
    "theme(plot.title=element_text(hjust=0.5, colour=\"#778899\"), \n",
    "      axis.text.x = element_text(angle = 90, hjust = 1, colour=\"blue\"))+\n",
    "scale_x_continuous(breaks=seq(from=1960, to=2015, by=2))+\n",
    "scale_y_continuous(breaks=seq(from=50, to=80, by=1))+\n",
    "geom_vline(aes(xintercept=1990), colour=\"red\")+\n",
    "geom_vline(aes(xintercept=1994), colour=\"red\")\n",
    "\n",
    "\n",
    "\n",
    "# theme(axis.text.x = element_text(angle = 90, hjust = 1))"
   ]
  },
  {
   "cell_type": "markdown",
   "metadata": {},
   "source": [
    "Average life expectancy is continously growing from 1960 to 2015. Interestingly there is\n",
    "a plateau between 1990 and 1994. Could this be caused by the the political turbulences of the\n",
    "collapsing Sowjetunion?  "
   ]
  },
  {
   "cell_type": "markdown",
   "metadata": {},
   "source": [
    "Tidy up the coefficients of the model"
   ]
  },
  {
   "cell_type": "code",
   "execution_count": null,
   "metadata": {},
   "outputs": [],
   "source": [
    "glimpse(model_reg_y_le_country )"
   ]
  },
  {
   "cell_type": "code",
   "execution_count": null,
   "metadata": {},
   "outputs": [],
   "source": [
    "# Extract the coefficient statistics of each model into nested dataframes\n",
    "model_coef_nested <- model_reg_y_le_country  %>% \n",
    "    mutate(coef = map(Models, ~tidy(.x)))\n",
    "    "
   ]
  },
  {
   "cell_type": "code",
   "execution_count": null,
   "metadata": {},
   "outputs": [],
   "source": [
    "# Simplify the coef dataframes for each model    \n",
    "model_coef_000 <- model_coef_nested %>% unnest(coef) %>% filter(term=='year')\n",
    "\n",
    "head(model_coef_000, n=10) \n"
   ]
  },
  {
   "cell_type": "markdown",
   "metadata": {},
   "source": [
    "Extract mode from frequency table"
   ]
  },
  {
   "cell_type": "code",
   "execution_count": null,
   "metadata": {},
   "outputs": [],
   "source": [
    "\n",
    "model_565 <- table(round(model_coef_000$estimate, 2))\n",
    "names_565 <- names(model_565)\n",
    "\n",
    "df_565 <- as.data.frame(model_565)\n",
    "colnames(df_565) <- c(\"Values\", \"Frequency\")\n",
    "head(df_565)\n",
    "unique(df_565$Frequency)\n",
    "length(df_565$Values)\n",
    "\n",
    "\n",
    "frequency_max <- max(model_565)\n",
    "max_565 <- as.numeric(names(model_565)[which(model_565 == max(model_565))])\n",
    "\n",
    "max_565 \n",
    "frequency_max\n",
    "# 0.18 occurs 9 times and is maximum frequency of values"
   ]
  },
  {
   "cell_type": "code",
   "execution_count": null,
   "metadata": {},
   "outputs": [],
   "source": [
    "\n",
    "model_coef_000 %>% \n",
    "  filter(term == \"year\") %>% \n",
    "  ggplot(aes(x = estimate)) +\n",
    "  geom_histogram(colour=\"gold\", size=1, fill=\"turquoise\", bins=length(df_565$Values),\n",
    "                 show.legend=TRUE)+\n",
    "  geom_density()+\n",
    "\n",
    "scale_x_continuous(breaks=seq(from=round(-0.2,1), to =round(0.8,1), by=round(0.1,1)))+\n",
    "scale_y_continuous(breaks=seq(from=min(df_565$Frequency), to=max(df_565$Frequency), by=1))+\n",
    "\n",
    "geom_vline(aes(xintercept=max_565))+\n",
    "geom_hline(aes(yintercept=9))+\n",
    "geom_text(aes(x=max_565 +0.14, y=9.2, label=\"Mode of estimates: 9\"))+\n",
    "\n",
    "theme(axis.text.x = element_text(angle=90),\n",
    "      plot.title=element_text(hjust=0.5))+\n",
    "\n",
    "labs(title=\"Estimates of selected countries\", x=\"Estimates\", y=\"Count\")"
   ]
  },
  {
   "cell_type": "markdown",
   "metadata": {},
   "source": [
    "There is a bulk of estimates between 0 and 0.45 and a maximum at 0.12."
   ]
  },
  {
   "cell_type": "markdown",
   "metadata": {},
   "source": [
    "Life expectancy of selected countries "
   ]
  },
  {
   "cell_type": "code",
   "execution_count": null,
   "metadata": {},
   "outputs": [],
   "source": [
    "life_444_fit %>% drop_na() %>% \n",
    "filter(country %in% selected_countries_111 ) %>%\n",
    "ggplot(aes(x=year, colour=country)) + \n",
    "geom_point(aes(y=life_expectancy), alpha=0.05) + \n",
    "geom_line(aes(y=.fitted)) + \n",
    "facet_wrap(country~., scales = \"free_y\")+\n",
    "theme_bw()+\n",
    "theme(axis.text.x = element_text(angle=90, hjust = 1, size=5, colour=\"midnightblue\"))\n"
   ]
  },
  {
   "cell_type": "code",
   "execution_count": null,
   "metadata": {},
   "outputs": [],
   "source": [
    "# Start with the models before tidy, so nested\n",
    "model_fertpop_344 <-\n",
    "gap_nested %>% mutate(Models=map(.x=data, .f=~lm(formula=population ~                                                        fertility, data = .x))) \n",
    "glimpse(model_fertpop_344)\n",
    "\n",
    "model_perf_344 <- model_fertpop_344 %>%\n",
    "mutate(coef = map(Models, ~glance(.x))) %>%\n",
    "unnest(coef)\n",
    "glimpse(model_perf_344[1:9])\n",
    "model_perf_344 %>% select(-Models, -data) %>% head(n=3)\n",
    "\n",
    "model_perf_344_topten <-\n",
    "model_perf_344 %>% top_n(n=10, wt=r.squared) %>% select(country, r.squared)\n",
    "\n",
    "head(model_perf_344_topten %>% rowid_to_column(\"Rank\"), 10 )"
   ]
  },
  {
   "cell_type": "markdown",
   "metadata": {},
   "source": [
    "<b>\n",
    "Model performance of life expectancy predicted by year over countries \n",
    "evaluated with R-square.\n",
    "</b>"
   ]
  },
  {
   "cell_type": "code",
   "execution_count": null,
   "metadata": {},
   "outputs": [],
   "source": [
    "glimpse(model_reg_y_le_country)"
   ]
  },
  {
   "cell_type": "markdown",
   "metadata": {},
   "source": [
    "Glance extracts the coefficients of model. The coefficients are attached to the tibble using mutate. For every country the coefficients are now given."
   ]
  },
  {
   "cell_type": "code",
   "execution_count": null,
   "metadata": {},
   "outputs": [],
   "source": [
    "model_566_yle <- \n",
    "model_reg_y_le_country %>%\n",
    "mutate(coeff=map(.x=Models, .f=~glance(.x) )) %>% unnest(coeff)\n",
    "glimpse(model_566_yle[1:5])"
   ]
  },
  {
   "cell_type": "markdown",
   "metadata": {},
   "source": [
    "Understanding the distribution of r.squared in this model over all countries"
   ]
  },
  {
   "cell_type": "code",
   "execution_count": null,
   "metadata": {},
   "outputs": [],
   "source": [
    "data_566 <- model_566_yle$r.squared\n",
    "\n",
    "df_565 <- as.data.frame(table(round(data_566, 3)))\n",
    "colnames(df_565) <- c(\"Values\", \"Frequency\")\n",
    "\n",
    "max_565 <- df_565[df_565$Frequency ==max(df_565$Frequency),]\n",
    "max_565\n",
    "\n",
    "df_565 %>% arrange(desc(Frequency)) %>% head(n=5)"
   ]
  },
  {
   "cell_type": "markdown",
   "metadata": {},
   "source": [
    "The most frequent value is 0.983 with 7 counts. \n",
    "What is the skewness and the kurtosis of the distribution?"
   ]
  },
  {
   "cell_type": "markdown",
   "metadata": {},
   "source": [
    "Summary of statistics"
   ]
  },
  {
   "cell_type": "code",
   "execution_count": null,
   "metadata": {},
   "outputs": [],
   "source": [
    "summary(data_566)"
   ]
  },
  {
   "cell_type": "code",
   "execution_count": null,
   "metadata": {},
   "outputs": [],
   "source": [
    "# Determing number of bins\n",
    "Freedman_Diaconis(as.numeric(data_566))\n",
    "\n",
    "model_566_yle  %>% ggplot(aes(x=r.squared)) +\n",
    "geom_histogram(bins=12, color=\"red\", size=1)+\n",
    "geom_vline(xintercept=0.983, color=\"green\")+\n",
    "geom_label(aes(x=0.96, y=60, label=\"Mode of 7\"))+\n",
    "geom_vline(xintercept=0.809749, color=\"green\")+\n",
    "geom_label(aes(x=0.82, y=40, label=\"Average\"))+\n",
    "geom_vline(xintercept=0.943172, color=\"green\")+\n",
    "geom_label(aes(x=0.90, y=50, label=\"Median\"))\n",
    "\n"
   ]
  },
  {
   "cell_type": "markdown",
   "metadata": {},
   "source": [
    "Calculate skewness and kurtosis"
   ]
  },
  {
   "cell_type": "code",
   "execution_count": null,
   "metadata": {},
   "outputs": [],
   "source": [
    "skew_566 <-\n",
    "skewness(data_566)\n",
    "paste(\"Skewness: \", skew_566)\n",
    "kurt_566 <-\n",
    "kurtosis(data_566)\n",
    "paste(\"Kurtosis: \", kurt_566)"
   ]
  },
  {
   "cell_type": "markdown",
   "metadata": {},
   "source": [
    "<b>\n",
    "Interpretation:\n",
    "</b>\n",
    "<p>\n",
    "The skewness here is -1.75. This value implies that the distribution of the data is heavy skewed to the left or negatively skewed. It is skewed to the left because the computed value is negative, and is heavy, because the value is distant from zero. For the kurtosis, we have 4.878 implying that the distribution of the data is leptokurtic, since the computed value is more than 3.\n",
    "</p>\n",
    "<p>\n",
    "In case data transformations can be tried. Outliers should be investigated. \n",
    "<p>"
   ]
  },
  {
   "cell_type": "markdown",
   "metadata": {},
   "source": [
    "The top ten models (life expectancy, year) with best goodness of fit according to R-squared."
   ]
  },
  {
   "cell_type": "code",
   "execution_count": null,
   "metadata": {},
   "outputs": [],
   "source": [
    "country_r2_566 <-\n",
    "model_566_yle %>% select(country, r.squared) %>% \n",
    "top_n(n=10, wt=r.squared) %>% \n",
    "rowid_to_column(\"Rank\")\n",
    "\n",
    "country_r2_566"
   ]
  },
  {
   "cell_type": "code",
   "execution_count": null,
   "metadata": {},
   "outputs": [],
   "source": [
    "glimpse(life_444_fit)"
   ]
  },
  {
   "cell_type": "markdown",
   "metadata": {},
   "source": [
    "Images of best performing country model of life expectancy depending on year"
   ]
  },
  {
   "cell_type": "code",
   "execution_count": null,
   "metadata": {},
   "outputs": [],
   "source": [
    "\n",
    "model_566_bestcountries <- as.character(country_r2_566$country)\n",
    "model_566_bestcountries\n",
    "\n",
    "life_444_fit %>% filter(country %in% model_566_bestcountries) %>%\n",
    "\n",
    "ggplot(aes(x=year, y=life_expectancy, colour=country))+\n",
    "geom_point(size=1)+\n",
    "geom_line(aes(y=.fitted),colour=\"black\", size=1) +\n",
    "facet_wrap(.~country, scales=\"free\")+\n",
    "\n",
    "theme(legend.position = \"none\",\n",
    "      axis.text.x=element_text(angle=90, hjust=1))"
   ]
  },
  {
   "cell_type": "markdown",
   "metadata": {},
   "source": [
    "The scatter points and the regression lines are nearly perfectly aligned.\n",
    "This indicates a high performance of the regression models for these countries\n",
    "in terms of goodness of fit."
   ]
  },
  {
   "cell_type": "code",
   "execution_count": null,
   "metadata": {},
   "outputs": [],
   "source": [
    "model_566_yle_worst <-\n",
    "model_566_yle %>% select(country, r.squared) %>%\n",
    "top_n(n=10, wt=-r.squared) %>% rowid_to_column(\"Rank\")\n",
    "model_566_yle_worst"
   ]
  },
  {
   "cell_type": "code",
   "execution_count": null,
   "metadata": {},
   "outputs": [],
   "source": [
    "model_566_worstcountries <- as.character(model_566_yle_worst$country)\n",
    "model_566_worstcountries \n",
    "\n",
    "\n",
    "life_444_fit %>% filter(country %in% model_566_worstcountries ) %>%\n",
    "\n",
    "ggplot(aes(x=year, y=life_expectancy, colour=country))+\n",
    "geom_point(size=1)+\n",
    "geom_line(aes(y=.fitted),colour=\"black\", size=1) +\n",
    "facet_wrap(.~country, scales=\"free\")+\n",
    "\n",
    "theme(legend.position = \"none\",\n",
    "      axis.text.x=element_text(angle=90, hjust=1))"
   ]
  },
  {
   "cell_type": "markdown",
   "metadata": {},
   "source": [
    "The best model is Brazil and the worst model is Botswana evaluated by R-squared."
   ]
  },
  {
   "cell_type": "markdown",
   "metadata": {},
   "source": [
    "There are substantial deviations by the scatter points around the regression line.\n",
    "This indicates a low performance of the regression models for these countries."
   ]
  },
  {
   "cell_type": "markdown",
   "metadata": {},
   "source": [
    "#### Improving goodness of fit for worst performing life expectancy models measured with R-squared with a multiple regression model using all numeric variables\n"
   ]
  },
  {
   "cell_type": "markdown",
   "metadata": {},
   "source": [
    "Build a mutiple regression model with all variables except the factor variables \n",
    "as independent variables and life expectancy as the dependent variables."
   ]
  },
  {
   "cell_type": "code",
   "execution_count": null,
   "metadata": {},
   "outputs": [],
   "source": [
    "multi_le_566 <- \n",
    "gapminder %>% na.omit() %>%\n",
    "select(-region, -continent) %>%\n",
    "group_by(country) %>% nest(.key=data_of_country) %>%\n",
    "mutate(multimodel = map(.x=data_of_country, .f = ~lm(life_expectancy ~ . , data=.x)))\n",
    "glimpse(multi_le_566)\n"
   ]
  },
  {
   "cell_type": "code",
   "execution_count": null,
   "metadata": {},
   "outputs": [],
   "source": [
    "multi_le_566_performance <-\n",
    "multi_le_566 %>% mutate(fit = map(.x=multimodel , .f=~glance(.x))) %>%\n",
    "unnest(fit)\n",
    "\n",
    "glimpse(multi_le_566_performance)"
   ]
  },
  {
   "cell_type": "markdown",
   "metadata": {},
   "source": [
    "Select country and R-squared and create a data frame."
   ]
  },
  {
   "cell_type": "code",
   "execution_count": null,
   "metadata": {},
   "outputs": [],
   "source": [
    "multi_le_566_rsquared <- \n",
    "multi_le_566_performance %>% select(country, r.squared) %>%\n",
    "# df <- rename(df, new_name = old_name)\n",
    "rename( Multi_R2 = r.squared )\n",
    "\n",
    "head(multi_le_566_rsquared)\n"
   ]
  },
  {
   "cell_type": "markdown",
   "metadata": {},
   "source": [
    "Filter worst countries from the multiple models"
   ]
  },
  {
   "cell_type": "markdown",
   "metadata": {},
   "source": [
    "Rename r-squared column from the single model"
   ]
  },
  {
   "cell_type": "code",
   "execution_count": null,
   "metadata": {},
   "outputs": [],
   "source": [
    "single_le_566_rsquared <- \n",
    "model_566_yle_worst %>%\n",
    "rename(Single_R2 = r.squared)\n",
    "single_le_566_rsquared"
   ]
  },
  {
   "cell_type": "markdown",
   "metadata": {},
   "source": [
    "Join two data frames allowing for comparison of R-squared values resulting from the single\n",
    "and the multiple model.\n",
    "\n"
   ]
  },
  {
   "cell_type": "code",
   "execution_count": null,
   "metadata": {},
   "outputs": [],
   "source": [
    "joined_le_566 <-\n",
    "inner_join(single_le_566_rsquared, multi_le_566_rsquared, by=\"country\")\n",
    "joined_le_566"
   ]
  },
  {
   "cell_type": "markdown",
   "metadata": {},
   "source": [
    "The goodness of fit measured by r-squared improved enormous over all countries by \n",
    "switching from the simple to the multiple regression model."
   ]
  },
  {
   "cell_type": "markdown",
   "metadata": {},
   "source": [
    "#### GDP - Creating regression models for every country of gdp by population for  countries.\n",
    "<p>\n",
    "Is a greater population producing a greater gdp?\n",
    "<p>"
   ]
  },
  {
   "cell_type": "code",
   "execution_count": null,
   "metadata": {},
   "outputs": [],
   "source": [
    "# mutate(Models = map(.x=data, .f=~lm(life_expectancy~year, data=.x))) \n",
    "\n",
    "model_565_gdp <-\n",
    "gapminder %>% na.omit() %>% group_by(country) %>% nest() %>%\n",
    "mutate(Models = map(.x=data , .f=~lm(gdp~population, data=.x)))\n",
    "\n",
    "glimpse(model_565_gdp)"
   ]
  },
  {
   "cell_type": "code",
   "execution_count": null,
   "metadata": {},
   "outputs": [],
   "source": [
    "\n",
    "model_565_Aus <- model_565_gdp %>% filter(country==\"Australia\") \n",
    "glimpse(model_565_Aus)\n",
    "\n"
   ]
  },
  {
   "cell_type": "code",
   "execution_count": null,
   "metadata": {},
   "outputs": [],
   "source": [
    "model_565_Aus_aug <- augment(model_565_Aus)\n",
    "model_565_Aus_aug\n",
    "\n",
    "model_565_Aus_aug %>% ggplot(aes(x=country))+ geom_point(aes(y=gdp)) + geom_line(aes(y=.fitted))"
   ]
  },
  {
   "cell_type": "code",
   "execution_count": null,
   "metadata": {},
   "outputs": [],
   "source": [
    "# glimpse(gapminder)\n",
    "model_565_average <-\n",
    "gapminder %>% na.omit() %>% group_by(country) %>% \n",
    "nest(.key=other_variables) %>%\n",
    "mutate(GDP_average= map(.x=other_variables, .f=~mean(.x$gdp))) %>%\n",
    "unnest(GDP_average)\n",
    "glimpse(model_565_average)\n"
   ]
  },
  {
   "cell_type": "code",
   "execution_count": null,
   "metadata": {},
   "outputs": [],
   "source": [
    "model_565_average %>% filter(GDP_average > 1e+12) %>%\n",
    "ggplot(aes(x=country, y=GDP_average )) + \n",
    "geom_col(fill=c('#f58231', '#911eb4', '#46f0f0', '#f032e6'), colour=c('#000075', '#808080', '#ffffff', '#000000'), size=1)+\n",
    "labs(title=\"Average GDP per country above 1 trillion\" , x=\"Country\", y=\"Average GDP\")+\n",
    "theme(plot.title=element_text(hjust=0.5, colour=\"#778899\"), \n",
    "      axis.text.x = element_text(angle = 90, hjust = 1, colour=\"blue\"))"
   ]
  },
  {
   "cell_type": "markdown",
   "metadata": {},
   "source": [
    "Tidy up the coefficients of the model"
   ]
  },
  {
   "cell_type": "code",
   "execution_count": null,
   "metadata": {},
   "outputs": [],
   "source": [
    "\n",
    "model_565_gdp_coef <- \n",
    "model_565_gdp %>% mutate(coefficients = map(.x = Models, .f =~tidy(.x)))\n",
    "\n",
    "glimpse(model_565_gdp_coef)"
   ]
  },
  {
   "cell_type": "code",
   "execution_count": null,
   "metadata": {},
   "outputs": [],
   "source": [
    "model_565_gdp_coef_unnest <- model_565_gdp_coef %>% unnest(coefficients)\n",
    "model_565_gdp_coef_unnest_filter <-\n",
    "model_565_gdp_coef_unnest %>% filter(term==\"population\")\n",
    "head(model_565_gdp_coef_unnest_filter, n=10)"
   ]
  },
  {
   "cell_type": "code",
   "execution_count": null,
   "metadata": {},
   "outputs": [],
   "source": [
    "model_565_gdp_coef_unnest_filter %>% filter(complete.cases(.)) %>% head()"
   ]
  },
  {
   "cell_type": "code",
   "execution_count": null,
   "metadata": {},
   "outputs": [],
   "source": [
    "model_565_gdp_coef_unnest %>% filter(term=='population') %>% ggplot(aes(x=estimate)) + \n",
    "geom_histogram(bins=35, fill=\"green\", colour=\"red\", size=1.5)"
   ]
  },
  {
   "cell_type": "markdown",
   "metadata": {},
   "source": [
    "Augment models"
   ]
  },
  {
   "cell_type": "code",
   "execution_count": null,
   "metadata": {},
   "outputs": [],
   "source": [
    "\n",
    "model_565_gdp_augment <- model_565_gdp %>% \n",
    "mutate(augment_models=map(Models, augment)) %>% \n",
    "unnest(augment_models)\n",
    "\n",
    "glimpse(model_565_gdp_augment )"
   ]
  },
  {
   "cell_type": "code",
   "execution_count": null,
   "metadata": {},
   "outputs": [],
   "source": [
    "model_565_gdp_augment %>% filter(complete.cases(.)) %>% \n",
    "filter(country %in% eu_countries) %>%\n",
    "ggplot(aes(x=population, colour=country)) + \n",
    "geom_point(aes(y=gdp), alpha=0.05) + \n",
    "geom_line(aes(y=.fitted)) + \n",
    "facet_wrap(country~., scales = \"free_y\")+\n",
    "theme_bw()+\n",
    "theme(axis.text.x = element_text(angle=90, hjust = 1, size=5, colour=\"midnightblue\"),\n",
    "      legend.position=\"none\")\n"
   ]
  },
  {
   "cell_type": "code",
   "execution_count": null,
   "metadata": {},
   "outputs": [],
   "source": [
    "# install.packages(\"dslabs\", repos='http://cran.us.r-project.org')\n",
    "require(gridExtra)\n",
    "\n",
    "model_565_gdp_augment_2 <-\n",
    "model_565_gdp_augment %>% filter(complete.cases(.) ) %>% \n",
    "filter(country %in% eu_countries)\n",
    "\n",
    "plot_1_565 <- \n",
    "model_565_gdp_augment_2  %>% filter(complete.cases(.), population <= 2e+07) %>% \n",
    "filter(country %in% eu_countries) %>% \n",
    "\n",
    "ggplot(aes(x=population, colour=country)) + \n",
    "geom_point(aes(y=gdp), alpha=0) + \n",
    "geom_line(aes(y=.fitted))+\n",
    "\n",
    "theme(legend.position=\"bottom\",\n",
    "      legend.title=element_blank(),\n",
    "      legend.text=element_text(size=7),\n",
    "      legend.background = element_rect(fill=\"lightblue\", size=0.5, linetype=\"solid\"),\n",
    "      legend.direction='horizontal',\n",
    "      plot.title=element_text(size=9, face=\"bold\", hjust=0.5))+\n",
    "labs(title=\"EU-with population lower or equal 2e+07 people\", x=\"Population\", y=\"GDP\")\n",
    "\n",
    "\n",
    "plot_2_565 <- \n",
    "model_565_gdp_augment_2  %>% filter(complete.cases(.), population > 2e+07) %>% \n",
    "filter(country %in% eu_countries) %>% ggplot(aes(x=population, colour=country)) + \n",
    "geom_point(aes(y=gdp), alpha=0) + \n",
    "geom_line(aes(y=.fitted))+\n",
    "theme(legend.position=\"bottom\",\n",
    "      legend.title=element_blank(),\n",
    "      legend.background = element_rect(fill=\"lightblue\",size=0.5, linetype=\"solid\"),\n",
    "      legend.text=element_text(size=7),\n",
    "      legend.direction = \"horizontal\",\n",
    "      plot.title=element_text(size=9, face=\"bold\", hjust=0.5))+\n",
    "\n",
    "labs(title=\"EU-countries with population above 2e+07 people\", x=\"Population\", y=\"GDP\")\n",
    "\n",
    "\n",
    "\n",
    "grid.arrange(plot_1_565, plot_2_565, ncol=1, nrow=2)\n"
   ]
  },
  {
   "cell_type": "markdown",
   "metadata": {},
   "source": [
    "For countries with a population higher than 2e+07 there is positive relationship \n",
    "between gdp growth and population growth except Romania. In case of countries with a \n",
    "population lower than 2e+07 the relationship is less clear. It seems that the relationship holds for some of the old \"western\" members and some of the new members like Estonia, but not for Easteuropean countries."
   ]
  },
  {
   "cell_type": "markdown",
   "metadata": {},
   "source": [
    "<b>\n",
    "Model performance of gdp predicted by population over countries evaluated with R-squared.\n",
    "</b>\n",
    "<p>\n",
    "R-squared is a coefficient of linear regression model. The glance function of the broom package determines goodness of fit coefficients. R-squared is one of many coefficients. It can then be extracted.\n",
    "</p>"
   ]
  },
  {
   "cell_type": "code",
   "execution_count": null,
   "metadata": {
    "scrolled": true
   },
   "outputs": [],
   "source": [
    "glimpse(model_565_gdp)\n",
    "\n",
    "model_565_gdp_coeff <-\n",
    "model_565_gdp %>% mutate(coefficients = map(.x=Models, .f = ~glance(.x))) %>% \n",
    "unnest(coefficients)\n",
    "glimpse(model_565_gdp_coeff[1:5])"
   ]
  },
  {
   "cell_type": "markdown",
   "metadata": {},
   "source": [
    "Understanding the distribution of r.squared in this model over all countries"
   ]
  },
  {
   "cell_type": "code",
   "execution_count": null,
   "metadata": {},
   "outputs": [],
   "source": [
    "df_565 <- as.data.frame(model_565)\n",
    "colnames(df_565) <- c(\"Values\", \"Frequency\")\n",
    "head(df_565)\n",
    "unique(df_565$Frequency)\n",
    "length(df_565$Values)\n",
    "\n",
    "\n",
    "frequency_max <- max(model_565)\n",
    "max_565 <- as.numeric(names(model_565)[which(model_565 == max(model_565))])\n",
    "\n",
    "max_565 \n",
    "frequency_max"
   ]
  },
  {
   "cell_type": "markdown",
   "metadata": {},
   "source": [
    "Build a frequency table"
   ]
  },
  {
   "cell_type": "code",
   "execution_count": null,
   "metadata": {},
   "outputs": [],
   "source": [
    "\n",
    "table_565 <- table(round(model_565_gdp_coeff$r.squared, 2))\n",
    "df_565 <- as.data.frame(table_565)\n",
    "colnames(df_565) <- c(\"Value\", \"Frequency\")\n",
    "tail(df_565, n=10)\n",
    "max_565 <- table_565[which(table_565==max(table_565))]\n",
    "max_565\n",
    "frequent_value_565 <- names(table_565)[which(table_565==max(table_565))]\n",
    "frequent_value_565 <- as.numeric(frequent_value_565 )\n",
    "frequent_value_565"
   ]
  },
  {
   "cell_type": "markdown",
   "metadata": {},
   "source": [
    "The most frequent value is 0.97 with 15 counts. What is the skewness and the kurtosis of the distribution?"
   ]
  },
  {
   "cell_type": "markdown",
   "metadata": {},
   "source": [
    "Summary of statistics"
   ]
  },
  {
   "cell_type": "code",
   "execution_count": null,
   "metadata": {},
   "outputs": [],
   "source": [
    "data_565 <- as.numeric(round(model_565_gdp_coeff$r.squared, 2))\n",
    "\n",
    "summary(data_565)"
   ]
  },
  {
   "cell_type": "code",
   "execution_count": null,
   "metadata": {},
   "outputs": [],
   "source": [
    "# Determing number of bins\n",
    "Freedman_Diaconis(as.numeric(model_565_gdp_coeff$r.squared))\n",
    "\n",
    "model_565_gdp_coeff %>% ggplot(aes(x=r.squared)) +\n",
    "geom_histogram(bins=11, color=\"red\", size=1)+\n",
    "geom_vline(xintercept=0.97, color=\"green\")+\n",
    "geom_label(aes(x=0.99, y=60, label=\"Mode of 15\"))+\n",
    "geom_vline(xintercept=0.77, color=\"green\")+\n",
    "geom_label(aes(x=0.74, y=40, label=\"Average\"))+\n",
    "geom_vline(xintercept=0.9, color=\"green\")+\n",
    "geom_label(aes(x=0.85, y=50, label=\"Median\"))\n",
    "\n"
   ]
  },
  {
   "cell_type": "markdown",
   "metadata": {},
   "source": [
    "Calculate skewness and kurtosis"
   ]
  },
  {
   "cell_type": "code",
   "execution_count": null,
   "metadata": {},
   "outputs": [],
   "source": [
    "require(moments)\n",
    "\n",
    "skew_565 <- skewness(data_565)\n",
    "paste(\"Skewness: \", skew_565)\n",
    "\n",
    "kurt_565 <- kurtosis(data_565)\n",
    "paste(\"Kurtosis: \", kurt_565)"
   ]
  },
  {
   "cell_type": "markdown",
   "metadata": {},
   "source": [
    "\n",
    "<b>\n",
    "Interpretation:\n",
    "</b>\n",
    "\n",
    "<p>\n",
    "The skewness here is -1.506. This value implies that the distribution of the \n",
    "data is heavy skewed to the left or negatively skewed. It is skewed to the left \n",
    "because the computed value is negative, and is heavy, because the value \n",
    "is distant from zero. For the kurtosis, we have 4.021 implying that the distribution \n",
    "of the data is leptokurtic, since the computed value is more than 3.\n",
    "</p>\n",
    "<p>\n",
    "In case data transformations can be tried. Outliers should be investigated. \n",
    "</p>"
   ]
  },
  {
   "cell_type": "markdown",
   "metadata": {},
   "source": [
    "The top ten models (gdp, year) with best goodness of fit evaluated with R-squared."
   ]
  },
  {
   "cell_type": "code",
   "execution_count": null,
   "metadata": {},
   "outputs": [],
   "source": [
    "model_565_gdp_best <-\n",
    "model_565_gdp_coeff %>% select(country, r.squared) %>%\n",
    "top_n(n=10, wt=r.squared) %>% rowid_to_column(\"Rank\")\n",
    "\n",
    "model_565_gdp_best"
   ]
  },
  {
   "cell_type": "markdown",
   "metadata": {},
   "source": [
    "The model of the best goodness of fit evaluated with R-squared is Benin."
   ]
  },
  {
   "cell_type": "markdown",
   "metadata": {},
   "source": [
    "Images of the best performing gdp-population models for top ten countries"
   ]
  },
  {
   "cell_type": "code",
   "execution_count": null,
   "metadata": {},
   "outputs": [],
   "source": [
    "model_565_gdp_countries  <- as.character(model_565_gdp_best$country)\n",
    "model_565_gdp_countries"
   ]
  },
  {
   "cell_type": "code",
   "execution_count": null,
   "metadata": {},
   "outputs": [],
   "source": [
    "model_565_gdp_augment %>% filter(country %in% model_565_gdp_countries) %>%\n",
    "\n",
    "ggplot(aes(x=population, y=gdp, colour=country))+\n",
    "geom_point(size=1)+\n",
    "geom_line(aes(y=.fitted),colour=\"black\", size=1) +\n",
    "facet_wrap(.~country, scales=\"free\")+\n",
    "\n",
    "theme(legend.position = \"none\",\n",
    "      axis.text.x=element_text(angle=90, hjust=1))"
   ]
  },
  {
   "cell_type": "markdown",
   "metadata": {},
   "source": [
    "The alignment of .fitted and scattered values show the good performance \n",
    "of the models with top ten r.squared values."
   ]
  },
  {
   "cell_type": "markdown",
   "metadata": {},
   "source": [
    "The top ten models (gdp, year) with worst goodness of fit evaluated with R-squared."
   ]
  },
  {
   "cell_type": "code",
   "execution_count": null,
   "metadata": {},
   "outputs": [],
   "source": [
    "\n",
    "model_worst_countries_565 <-\n",
    "model_565_gdp_coeff %>% select(country, r.squared) %>%\n",
    "top_n(n=10, wt=-r.squared) %>% rowid_to_column(\"Rank\")\n",
    "model_worst_countries_565\n",
    "class(model_worst_countries_565)\n",
    "dim(model_worst_countries_565)"
   ]
  },
  {
   "cell_type": "markdown",
   "metadata": {},
   "source": [
    "The model of the worst goodness of fit evaluated with R-squared is Hungary."
   ]
  },
  {
   "cell_type": "code",
   "execution_count": null,
   "metadata": {},
   "outputs": [],
   "source": [
    "model_worst_countries_565_vector <- model_worst_countries_565$country\n",
    "model_worst_countries_565_vector\n",
    "model_worst_countries_565_vector <- as.character(model_worst_countries_565_vector)\n",
    "model_worst_countries_565_vector"
   ]
  },
  {
   "cell_type": "markdown",
   "metadata": {},
   "source": [
    "Images of top ten of worst performing models gdp by population"
   ]
  },
  {
   "cell_type": "code",
   "execution_count": null,
   "metadata": {},
   "outputs": [],
   "source": [
    "model_565_gdp_augment %>% filter(country %in% model_worst_countries_565_vector) %>%\n",
    "ggplot(aes(x=population, y=gdp, colour=country)) +\n",
    "geom_point()+\n",
    "geom_line(aes(y=.fitted))+\n",
    "facet_wrap(.~country, scales=\"free\")+\n",
    "\n",
    "theme(axis.text.x=element_text(angle=90, hjust=1),\n",
    "      legend.position=\"none\")"
   ]
  },
  {
   "cell_type": "markdown",
   "metadata": {},
   "source": [
    "There are substantial deviations by the scatter points around the regression line.\n",
    "This indicates a low performance of the regression models for these countries."
   ]
  },
  {
   "cell_type": "markdown",
   "metadata": {},
   "source": [
    "#### Improving goodness of fit measured with R-squared with a multiple regression model using all numeric variables"
   ]
  },
  {
   "cell_type": "code",
   "execution_count": null,
   "metadata": {},
   "outputs": [],
   "source": [
    "\n",
    "multi_gdp_565 <- \n",
    "gapminder %>% na.omit() %>% select(-continent, -region) %>% \n",
    "# Select none factor columns\n",
    "group_by(country) %>% nest() %>%\n",
    "mutate(multimodel = map(.x=data, .f=~lm(formula=gdp ~., data=.x)))\n",
    "\n",
    "glimpse(multi_gdp_565)"
   ]
  },
  {
   "cell_type": "markdown",
   "metadata": {},
   "source": [
    "Extract the fit statistics of each model into dataframes"
   ]
  },
  {
   "cell_type": "code",
   "execution_count": null,
   "metadata": {},
   "outputs": [],
   "source": [
    "multi_gdp_565_performance <- \n",
    "multi_gdp_565 %>% mutate(fit = map(.x=multimodel, .f=~glance(.x))) %>%\n",
    "unnest(fit)\n",
    "\n",
    "multi_gdp_565_rsquared <- \n",
    "multi_gdp_565_performance %>% select(country, r.squared)\n",
    "head(multi_gdp_565_rsquared )\n",
    "nrow(multi_gdp_565_rsquared)"
   ]
  },
  {
   "cell_type": "code",
   "execution_count": null,
   "metadata": {},
   "outputs": [],
   "source": [
    "model_565_gdp_countries\n",
    "model_worst_countries_565_vector"
   ]
  },
  {
   "cell_type": "code",
   "execution_count": null,
   "metadata": {},
   "outputs": [],
   "source": [
    "multi_gdp_565_rsquared_worst <- \n",
    "multi_gdp_565_rsquared %>% \n",
    "filter(country %in% model_worst_countries_565_vector)\n",
    "colnames(multi_gdp_565_rsquared_worst)[2] <- \"Multi_lm_R2\"\n",
    "\n",
    "multi_gdp_565_rsquared_worst"
   ]
  },
  {
   "cell_type": "code",
   "execution_count": null,
   "metadata": {},
   "outputs": [],
   "source": [
    "glimpse(model_worst_countries_565)\n",
    "model_worst_countries_566 <- model_worst_countries_565\n",
    "colnames(model_worst_countries_566)[3] <- \"GDP\"\n",
    "glimpse(model_worst_countries_566)\n",
    "head(model_worst_countries_565)"
   ]
  },
  {
   "cell_type": "markdown",
   "metadata": {},
   "source": [
    "Make one data frame allowing for better comparison of r.squared using dplr:: inner_join"
   ]
  },
  {
   "cell_type": "code",
   "execution_count": null,
   "metadata": {
    "scrolled": true
   },
   "outputs": [],
   "source": [
    "df_565_compare_r2 <-\n",
    "inner_join(model_worst_countries_566, multi_gdp_565_rsquared_worst, \n",
    "           by=\"country\") %>% select(-Rank)\n",
    "df_565_compare_r2"
   ]
  },
  {
   "cell_type": "markdown",
   "metadata": {},
   "source": [
    "The goodness of fit R-squared improve enormous with the multiple\n",
    "lineare regression model compared to the simple linear regression model.\n",
    "<p>\n",
    "However, while the adjusted R2 does tell us how well the model fit our data, it does not give any indication on how it would perform on new data. \n",
    "</p>"
   ]
  },
  {
   "cell_type": "markdown",
   "metadata": {},
   "source": [
    "### Training, test and validation splits"
   ]
  },
  {
   "cell_type": "markdown",
   "metadata": {},
   "source": [
    "<p>\n",
    "Machine learning workflow:\n",
    "</p>\n",
    "<p>\n",
    "Overfitting the data is a problem, when building models. Training, test and validation splits are\n",
    "used to asses overfitting and reduce it.\n",
    "</p>\n",
    "\n",
    "<ul>\n",
    "<li>\n",
    "The training data is used to build the best model with the highest predictive performance.\n",
    "</li>\n",
    "<li>\n",
    "The validation data is created with cross-validation and is used to select the best model \n",
    "from the number of models build with the training data.\n",
    "</li>\n",
    "<li>\n",
    "The testing data is the portion of the data not used in the model building process and it is\n",
    "used to independently evaluate the best model.\n",
    "</li>\n",
    "</ul>\n",
    "\n",
    "<p>\n",
    "<b>Workflow:</b> split training and test data -> cross validation -> validation data -> \n",
    "build model on training data and evaluate on validation data -> compare performance metrics\n",
    "(Root-Mean-Square / RMS ...) and select best performing model -> test best performing model\n",
    "on test data -> evaluate -> tune model (e.g. feature engineering)\n",
    "</p>"
   ]
  },
  {
   "cell_type": "markdown",
   "metadata": {},
   "source": [
    "### Predicting life expectancy"
   ]
  },
  {
   "cell_type": "markdown",
   "metadata": {},
   "source": [
    "Doing a train-test-split"
   ]
  },
  {
   "cell_type": "code",
   "execution_count": null,
   "metadata": {},
   "outputs": [],
   "source": [
    "gap_omit <- gapminder %>% na.omit()\n",
    "\n",
    "set.seed(42)\n",
    "\n",
    "# prepare the initial split object\n",
    "# prop = porportion assigned to traning data\n",
    "gap_split_111 <-\n",
    "initial_split(gap_omit, prop=0.75)\n",
    "\n",
    "train_111 <- training(gap_split_111)\n",
    "test_111 <- testing(gap_split_111)\n",
    "\n",
    "dim(train_111)\n",
    "dim(test_111)"
   ]
  },
  {
   "cell_type": "markdown",
   "metadata": {},
   "source": [
    "Cross-validation dataframes or folds\n",
    "<p>\n",
    "Folds are further divisions of the training data made by a k-fold algorithm.\n",
    "</p>"
   ]
  },
  {
   "cell_type": "code",
   "execution_count": null,
   "metadata": {},
   "outputs": [],
   "source": [
    "cross_valid_111 <- vfold_cv(train_111, v=5)\n",
    "glimpse(cross_valid_111)"
   ]
  },
  {
   "cell_type": "markdown",
   "metadata": {},
   "source": [
    "Divide the cross validated data one step further into training \n",
    "and validation set for every fold."
   ]
  },
  {
   "cell_type": "code",
   "execution_count": null,
   "metadata": {},
   "outputs": [],
   "source": [
    "cv_data_111 <-\n",
    "cross_valid_111 %>% mutate(training_data = map(.x=splits, .f=~training(.x)),\n",
    "                           validation_data = map(.x=splits, .f=~testing(.x)))\n",
    "\n",
    "glimpse(cv_data_111)"
   ]
  },
  {
   "cell_type": "markdown",
   "metadata": {},
   "source": [
    "Build cross-validated models"
   ]
  },
  {
   "cell_type": "markdown",
   "metadata": {},
   "source": [
    "Build multiple regression model with life expectancy as the dependent variable"
   ]
  },
  {
   "cell_type": "code",
   "execution_count": null,
   "metadata": {},
   "outputs": [],
   "source": [
    "# Build a model using the train data for each fold of the cross validation\n",
    "cv_models_lm_111 <- cv_data_111 %>% \n",
    "mutate(model = map(.x=training_data, ~lm(formula = life_expectancy ~., data = .x)))\n",
    "glimpse(cv_models_lm_111)\n"
   ]
  },
  {
   "cell_type": "markdown",
   "metadata": {},
   "source": [
    "<p>Preparing for evaluation</p>\n",
    "<p>\n",
    "In order to measure the validate performance of models the predicted values of \n",
    "life_expectancy are compared to the actual observed values recorded. \n",
    "</p>\n",
    "<p>\n",
    "The predicted and observed vectors for each partition are prepared here.\n",
    "</p>"
   ]
  },
  {
   "cell_type": "code",
   "execution_count": null,
   "metadata": {},
   "outputs": [],
   "source": [
    "cv_prep_111 <- \n",
    "cv_models_lm_111 %>% \n",
    "mutate(validate_actual = \n",
    "       map(.x=validation_data, .f=~.x$life_expectancy))\n",
    "\n",
    "glimpse(cv_prep_111)"
   ]
  },
  {
   "cell_type": "code",
   "execution_count": null,
   "metadata": {},
   "outputs": [],
   "source": [
    "options(warn=-1) \n",
    "cv_prep_112 <- cv_prep_111 %>% \n",
    "mutate(validate_predicted = map2(.x=model, .y=validation_data,~predict(.x, .y)))\n",
    "glimpse(cv_prep_112)"
   ]
  },
  {
   "cell_type": "markdown",
   "metadata": {},
   "source": [
    "Evaluate model performance"
   ]
  },
  {
   "cell_type": "markdown",
   "metadata": {},
   "source": [
    "The difference between observed and predicted values is now evaluated\n",
    "with the Mean Absolute Error (MAE). This performance metric will tells\n",
    "the average difference between the actual and predicted values."
   ]
  },
  {
   "cell_type": "code",
   "execution_count": null,
   "metadata": {},
   "outputs": [],
   "source": [
    "# Calculate the mean absolute error for each validate fold \n",
    "\n",
    "cv_mae_112 <-\n",
    "cv_prep_112 %>% mutate(mae = map2_dbl(.x=validate_actual, .y=validate_predicted,\n",
    "                                      .f= ~ mae(actual=.x, predicted=.y)))\n",
    "glimpse(cv_mae_112)"
   ]
  },
  {
   "cell_type": "markdown",
   "metadata": {},
   "source": [
    "Calculate the Mean Absolute Error for every fold."
   ]
  },
  {
   "cell_type": "code",
   "execution_count": null,
   "metadata": {},
   "outputs": [],
   "source": [
    "cv_mae_112$mae"
   ]
  },
  {
   "cell_type": "markdown",
   "metadata": {},
   "source": [
    "Calculate the Average Mean Absolute Error for all five folds."
   ]
  },
  {
   "cell_type": "code",
   "execution_count": null,
   "metadata": {},
   "outputs": [],
   "source": [
    "mean(cv_mae_112$mae)"
   ]
  },
  {
   "cell_type": "markdown",
   "metadata": {},
   "source": [
    "The predictions of the models on life expectancy are on average off by 1.47 years."
   ]
  },
  {
   "cell_type": "markdown",
   "metadata": {},
   "source": [
    "Extract model number 3 from cv_models_lm_111 as an example"
   ]
  },
  {
   "cell_type": "code",
   "execution_count": null,
   "metadata": {},
   "outputs": [],
   "source": [
    "model_3_111 <- cv_models_lm_111$model[[3]]\n",
    "# str(model_3_111)"
   ]
  },
  {
   "cell_type": "markdown",
   "metadata": {},
   "source": [
    "Building and tuning a random forest model"
   ]
  },
  {
   "cell_type": "markdown",
   "metadata": {},
   "source": [
    "Build a random forest model for each fold"
   ]
  },
  {
   "cell_type": "code",
   "execution_count": null,
   "metadata": {},
   "outputs": [],
   "source": [
    "\n",
    "cv_random_111 <-\n",
    "cv_data_111 %>% \n",
    "mutate(validation_actual = map(.x=validation_data , .f=~.x$life_expectancy)) %>%\n",
    "mutate(random_model =\n",
    "       # using the training data to create the model\n",
    "       map(.x=training_data, \n",
    "           .f=~ranger(formula=life_expectancy ~., num.trees=100, data=.x, seed=42)))\n",
    "\n",
    "glimpse(cv_random_111)"
   ]
  },
  {
   "cell_type": "markdown",
   "metadata": {},
   "source": [
    "Generate predictions using the random forest model"
   ]
  },
  {
   "cell_type": "code",
   "execution_count": null,
   "metadata": {},
   "outputs": [],
   "source": [
    "cv_random_pred_111 <-\n",
    "cv_random_111 %>% \n",
    "mutate(pred_validate = \n",
    "       map2(.x=random_model, .y = validation_data, .f=~predict(.x,.y)$predictions))\n",
    "glimpse(cv_random_pred_111)\n",
    "\n",
    "cv_random_pred_111_select <-\n",
    "cv_random_pred_111 %>% select(validation_data, pred_validate) %>% \n",
    "unnest(validation_data, pred_validate)\n",
    "\n",
    "cv_random_pred_111_select %>% head()\n",
    "cv_random_pred_111_select %>% tail()"
   ]
  },
  {
   "cell_type": "markdown",
   "metadata": {},
   "source": [
    "Evaluate a random forest model"
   ]
  },
  {
   "cell_type": "code",
   "execution_count": null,
   "metadata": {},
   "outputs": [],
   "source": [
    "cv_random_mae_111 <-\n",
    "cv_random_pred_111 %>% \n",
    "mutate(mae_random = map2_dbl(.x=validation_actual, .y=pred_validate,\n",
    "                             .f=~mae(actual=.x, predicted = .y)))\n",
    "\n",
    "glimpse(cv_random_mae_111)\n"
   ]
  },
  {
   "cell_type": "markdown",
   "metadata": {},
   "source": [
    "Mean Absolute Error for every fold"
   ]
  },
  {
   "cell_type": "code",
   "execution_count": null,
   "metadata": {},
   "outputs": [],
   "source": [
    "cv_random_mae_111 %>% select(id, mae_random) "
   ]
  },
  {
   "cell_type": "markdown",
   "metadata": {},
   "source": [
    "Mean of the Mean Absolute Error of all 5 folds"
   ]
  },
  {
   "cell_type": "code",
   "execution_count": null,
   "metadata": {},
   "outputs": [],
   "source": [
    "mae_mean_1 <-\n",
    "round(mean(cv_random_mae_111$mae_random), 3)\n",
    "mae_mean_1"
   ]
  },
  {
   "cell_type": "markdown",
   "metadata": {},
   "source": [
    "The average Mean Absolute Error of predictions on life expectancy generated with the multiple regression model was 1.471 years. The average Mean Absolute Error generated with the random forest model is only 0.738 years. The random forest model improved the quality of predictions significantly."
   ]
  },
  {
   "cell_type": "markdown",
   "metadata": {},
   "source": [
    "### Fine tuning the random forest model by varying the mtry parameter\n",
    "<p>\n",
    "Mtry is the number of variables to possibly split at in each node. Default is the (rounded down) square root of the number variables.\n",
    "</p>"
   ]
  },
  {
   "cell_type": "code",
   "execution_count": null,
   "metadata": {},
   "outputs": [],
   "source": [
    "# glimpse(cv_random_pred_111)\n",
    "cv_random_data_111 <-\n",
    "cv_random_pred_111 %>% select(-random_model, -pred_validate )\n",
    "glimpse(cv_random_data_111)"
   ]
  },
  {
   "cell_type": "code",
   "execution_count": null,
   "metadata": {},
   "outputs": [],
   "source": [
    "crossing(expand=2:5)"
   ]
  },
  {
   "cell_type": "code",
   "execution_count": null,
   "metadata": {},
   "outputs": [],
   "source": [
    "cv_random_data_tuned_111 <-\n",
    "cv_random_data_111 %>% crossing(mtry=2:5)\n",
    "glimpse(cv_random_data_tuned_111)"
   ]
  },
  {
   "cell_type": "markdown",
   "metadata": {},
   "source": [
    "Build a model for each fold & mtry combination"
   ]
  },
  {
   "cell_type": "markdown",
   "metadata": {},
   "source": [
    "Generate validate predictions for each model\n",
    "\n",
    "<p>\n",
    "Approach:\n",
    "</p>\n",
    "<ul>\n",
    "<li>\n",
    "What do I need for making predictions?\n",
    "</li>\n",
    "<li>\n",
    "a model +  a data set\n",
    "</li>\n",
    "<li>\n",
    "Which data set do I use here?\n",
    "</li>\n",
    "<li>\n",
    "I want to find the best model build with the training sets.\n",
    "</li>\n",
    "<li>\n",
    "I find this best model by testing the model on the validation data not \"seen\" before by the model\n",
    "</li>\n",
    "</ul>"
   ]
  },
  {
   "cell_type": "code",
   "execution_count": null,
   "metadata": {},
   "outputs": [],
   "source": [
    "# Models are built on the training data\n",
    "cv_random_model_tuned_111 <-\n",
    "cv_random_data_tuned_111 %>% \n",
    "mutate(random_model = \n",
    "       map2(.x=training_data, .y=mtry,\n",
    "            .f=~ranger(formula=life_expectancy ~., data=.x, mtry=.y, num.trees=100,\n",
    "                       seed=42)))\n",
    "glimpse(cv_random_model_tuned_111)"
   ]
  },
  {
   "cell_type": "code",
   "execution_count": null,
   "metadata": {},
   "outputs": [],
   "source": [
    "cv_random_model_tuned_111 %>% select(id, mtry)"
   ]
  },
  {
   "cell_type": "markdown",
   "metadata": {},
   "source": [
    "Generate predictions for each model with the validation data not \"seen\" before by the models"
   ]
  },
  {
   "cell_type": "code",
   "execution_count": null,
   "metadata": {},
   "outputs": [],
   "source": [
    "cv_random_pred_111 <-\n",
    "cv_random_model_tuned_111 %>% \n",
    "mutate(validate_predicted = map2(.x=random_model, .y=validation_data, \n",
    "                                 .f=~predict(.x, .y)$predictions))\n",
    "glimpse(cv_random_pred_111)"
   ]
  },
  {
   "cell_type": "markdown",
   "metadata": {},
   "source": [
    "Calculate validate MAE for each fold and mtry combination"
   ]
  },
  {
   "cell_type": "code",
   "execution_count": null,
   "metadata": {},
   "outputs": [],
   "source": [
    "cv_eval_tune_mae_111 <- cv_random_pred_111 %>% \n",
    "mutate(validate_mae = \n",
    "       map2_dbl(.x = validation_actual , .y = validate_predicted, ~mae(actual = .x, predicted = .y)))\n",
    "\n",
    "glimpse(cv_eval_tune_mae_111)\n"
   ]
  },
  {
   "cell_type": "markdown",
   "metadata": {},
   "source": [
    "Calculate the mean validate_mae for each mtry used"
   ]
  },
  {
   "cell_type": "code",
   "execution_count": null,
   "metadata": {},
   "outputs": [],
   "source": [
    "\n",
    "mtry_grouped_111 <-\n",
    "cv_eval_tune_mae_111 %>% group_by(mtry) %>% \n",
    "summarize(validate_mae_mean = round(mean(validate_mae),3)) %>%\n",
    "arrange(validate_mae_mean)\n",
    "glimpse(mtry_grouped_111)\n",
    "dim(mtry_grouped_111)\n",
    "head(mtry_grouped_111)"
   ]
  },
  {
   "cell_type": "markdown",
   "metadata": {},
   "source": [
    "Mean of the Mean Absolute Error of all 5 folds before fine tuning was 0.738. \n",
    "The best mean over all 5 folds after fine tuning with by varying the mtry parameter is 0.718.\n",
    "This is a further improvement."
   ]
  },
  {
   "cell_type": "markdown",
   "metadata": {
    "collapsed": true
   },
   "source": [
    "#### Measuring the Test Performance\n",
    "<p>\n",
    "The best model so far is the random forest model of five folds with a mtry of 3.\n",
    "After finding the best model of the training set divided into five folds \n",
    "by testing the models on the validation data sets, now the best model is evaluated on the reserved test data.\n",
    "</p>"
   ]
  },
  {
   "cell_type": "markdown",
   "metadata": {},
   "source": [
    "Build the best model"
   ]
  },
  {
   "cell_type": "code",
   "execution_count": null,
   "metadata": {},
   "outputs": [],
   "source": [
    "# starting training data from gapminder data set before k-fold cross validation\n",
    "glimpse(train_111)"
   ]
  },
  {
   "cell_type": "code",
   "execution_count": null,
   "metadata": {},
   "outputs": [],
   "source": [
    "# train_111 <- training(gap_split_111)\n",
    "# starting training data from gapminder data set before beginning\n",
    "train_222 <- train_111 %>% na.omit() \n",
    "best_model_222 <-  ranger(formula = life_expectancy ~ ., data = train_222, \n",
    "                          mtry=4, num.trees=100, seed=42)\n",
    "summary(best_model_222)"
   ]
  },
  {
   "cell_type": "code",
   "execution_count": null,
   "metadata": {},
   "outputs": [],
   "source": [
    "# test_111 <- testing(gap_split_111)\n",
    "# starting testing data from gapminder data set before k-fold cross validation\n",
    "test_222 <- test_111 %>% na.omit()\n",
    "\n",
    "head(test_222 )\n",
    "test_222_predict <- predict(best_model_222, test_222)$predictions\n",
    "head(test_222_predict)"
   ]
  },
  {
   "cell_type": "code",
   "execution_count": null,
   "metadata": {},
   "outputs": [],
   "source": [
    "test_actual_222 <- test_222$life_expectancy\n",
    "mae_222 <-\n",
    "mae(test_actual_222, test_222_predict)\n",
    "mae_222 "
   ]
  },
  {
   "cell_type": "markdown",
   "metadata": {},
   "source": [
    "The Mean of the Mean Absolute Error of the model on the testing data not used for training / learning before is\n",
    "0.64 year deviation in life expectancy on average. This is a further improvement compared with 0.718 on\n",
    "the validation data."
   ]
  },
  {
   "cell_type": "markdown",
   "metadata": {},
   "source": [
    "### Predicting gdp "
   ]
  },
  {
   "cell_type": "markdown",
   "metadata": {},
   "source": [
    "#### Cross-validation\n",
    "<p>\n",
    "It would be possible to use the train test-split from above, but for training reason this option is dismissed here.\n",
    "</p>"
   ]
  },
  {
   "cell_type": "markdown",
   "metadata": {},
   "source": [
    "<ul>\n",
    "<li>Create an initial split object</li>\n",
    "<li>Doing a train-test-split</li>\n",
    "<li>Doing a k-fold cross validation on the training data</li>\n",
    "<li>For every created fold generate a training data set and testing data set, called validation data set</li>\n",
    "</ul>"
   ]
  },
  {
   "cell_type": "code",
   "execution_count": null,
   "metadata": {},
   "outputs": [],
   "source": [
    "glimpse(gapminder)"
   ]
  },
  {
   "cell_type": "code",
   "execution_count": null,
   "metadata": {},
   "outputs": [],
   "source": [
    "# Create an initial split object\n",
    "initial_split_object <- initial_split(gap_omit, proportion=0.75)\n",
    "summary(initial_split_object)\n",
    "# Doing a train-test-split\n",
    "training_555 <- training(initial_split_object)\n",
    "testing_555 <- testing(initial_split_object)\n",
    "dim(training_555)\n",
    "dim(testing_555)\n",
    "# Doing a k-fold cross validation on the training data\n",
    "cv_split_555 <- vfold_cv(training_555, v=5)\n",
    "glimpse(tbl_df(cv_split_555))\n",
    "unique(cv_split_555$id)\n",
    "# For every created fold generate a training data set and testing data set, called validation data set\n",
    "cv_data_555 <- cv_split_555 %>% mutate(training_fold = map(.x=splits, .f=~training(.x)),\n",
    "                                       validation_fold = map(.x=splits, .f=~testing(.x)))\n",
    "glimpse(cv_data_555)"
   ]
  },
  {
   "cell_type": "markdown",
   "metadata": {},
   "source": [
    "Prediction of fertility by multiple regression\n",
    "<ul>\n",
    "<li>Build a multiple regression model with the training data for every fold to predict GDP</li>\n",
    "<li>Extract actual GDP values from the validation data sets</li>\n",
    "<li>Make predictions on ground of this model</li>\n",
    "</ul>"
   ]
  },
  {
   "cell_type": "code",
   "execution_count": null,
   "metadata": {},
   "outputs": [],
   "source": [
    "# Build a multiple regression model to predict GDP\n",
    "cv_model_lm_555 <- \n",
    "cv_data_555 %>% mutate(model_lm = map(.x=training_fold, .f=~lm(fertility ~., data=.x)))\n",
    "glimpse(cv_model_lm_555 )\n",
    "# Make predictions on ground of this model\n",
    "cv_pred_lm_555 <-\n",
    "cv_model_lm_555 %>%\n",
    "# Extract actual GDP values from the validation data sets\n",
    "mutate(validation_fertility_actual = map(.x=validation_fold, .f=~.x$fertility),\n",
    "       predictions_fertility  = map2(.x= model_lm, .y= validation_fold, ~predict(.x, .y)))\n",
    "glimpse(cv_pred_lm_555)"
   ]
  },
  {
   "cell_type": "markdown",
   "metadata": {},
   "source": [
    "Evaluate model performance\n",
    "<ul>\n",
    "<li>Extract actual GDP values from the validation data sets</li>\n",
    "<li>Calculate Mean Absolute Error for every fold</li>\n",
    "<li>Calculate the mean of the Mean Absolute Error over all fold</li>\n",
    "</ul>"
   ]
  },
  {
   "cell_type": "code",
   "execution_count": null,
   "metadata": {},
   "outputs": [],
   "source": [
    "# Calculate Mean Absolute Error\n",
    "cv_mae_lm_555 <- \n",
    "cv_pred_lm_555 %>% \n",
    "mutate(validation_mae_fertility=map2_dbl(.x=validation_fertility_actual, .y=predictions_fertility, .f=~mae(.x, .y)))\n",
    "glimpse(cv_mae_lm_555)\n"
   ]
  },
  {
   "cell_type": "code",
   "execution_count": null,
   "metadata": {},
   "outputs": [],
   "source": [
    "\n",
    "cv_mae_tib_555 <-\n",
    "cv_mae_lm_555 %>% select(id, validation_mae_fertility )%>% arrange(validation_mae_fertility)\n",
    "cv_mae_tib_555\n",
    "\n",
    "# Calculate the mean of the Mean Absolute Error over all folds\n",
    "mean_of_mae_lm_555 <- round(mean(cv_mae_lm_555$validation_mae_fertility),3)\n",
    "paste(\"MAE: \", mean_of_mae_lm_555)\n",
    "\n",
    "gapminder %>% summarize(min = min(fertility, na.rm=TRUE),\n",
    "                        max = max(fertility, na.rm=TRUE))\n",
    "\n",
    "cv_select_555 <-\n",
    "cv_mae_lm_555 %>% \n",
    "select(id, validation_fertility_actual, predictions_fertility, validation_mae_fertility ) %>%\n",
    "unnest(validation_fertility_actual, predictions_fertility) %>%\n",
    "mutate(difference = validation_fertility_actual-predictions_fertility ) %>% head()\n",
    "\n",
    "cv_select_555"
   ]
  },
  {
   "cell_type": "markdown",
   "metadata": {},
   "source": [
    "The best prediction is delivered with Fold3 and 0.4080467 children.\n",
    "<p>\n",
    "On average the predictions differ children 0.424 within a range from 0.84 and 9.22 from the actual values. The mutiple regression model is not a good model to predict gdp. Hopefully this can be improved. For this reason in the next step a random forest model is developed.\n",
    "</p>"
   ]
  },
  {
   "cell_type": "markdown",
   "metadata": {},
   "source": [
    "#### Predicting fertility using a random forest model"
   ]
  },
  {
   "cell_type": "markdown",
   "metadata": {},
   "source": [
    "Create a random forest model "
   ]
  },
  {
   "cell_type": "code",
   "execution_count": null,
   "metadata": {},
   "outputs": [],
   "source": [
    "#glimpse(cv_data_555)\n",
    "cv_model_rf_999 <- \n",
    "cv_data_555 %>% \n",
    "mutate(model_rf_999 = map(.x=training_fold, .f=~ranger(formula=fertility~., data=.x, seed=455)))\n",
    "\n",
    "glimpse(cv_model_rf_999)"
   ]
  },
  {
   "cell_type": "markdown",
   "metadata": {},
   "source": [
    "Make predictions on ground of the random forest model"
   ]
  },
  {
   "cell_type": "code",
   "execution_count": null,
   "metadata": {},
   "outputs": [],
   "source": [
    "cv_pred_rf_999 <-\n",
    "cv_model_rf_999 %>% \n",
    "mutate(rf_predictions = \n",
    "       map2(.x=model_rf_999, .y=validation_fold, .f=~predict(.x, .y)$predictions))\n",
    "glimpse(cv_pred_rf_999)"
   ]
  },
  {
   "cell_type": "markdown",
   "metadata": {},
   "source": [
    "Evaluate the model using mae"
   ]
  },
  {
   "cell_type": "code",
   "execution_count": null,
   "metadata": {},
   "outputs": [],
   "source": [
    "cv_pred_evaluate_111 <-\n",
    "# Extract the actual model\n",
    "cv_pred_rf_999 %>%\n",
    "mutate(validation_fertility_actual = map(.x=validation_fold, .f=~.x$fertility),\n",
    "       mae_rf = map2_dbl(.x=validation_fertility_actual, .y=rf_predictions, .f=~mae(actual=.x, predicted=.y)))\n",
    "\n",
    "glimpse(cv_pred_evaluate_111)       "
   ]
  },
  {
   "cell_type": "code",
   "execution_count": null,
   "metadata": {},
   "outputs": [],
   "source": [
    "\n",
    "cv_pred_evaluate_111 %>% select(id, mae_rf) %>% arrange(mae_rf )\n",
    "\n",
    "mean_mae_rf_111 <- round(mean(cv_pred_evaluate_111$mae_rf), 3)\n",
    "mean_mae_rf_111\n",
    "\n",
    "cv_pred_evaluate_111 %>% unnest(validation_fertility_actual, rf_predictions) %>%\n",
    "mutate(difference = validation_fertility_actual - rf_predictions) %>%\n",
    "head()"
   ]
  },
  {
   "cell_type": "markdown",
   "metadata": {},
   "source": [
    "The best prediction is delivered with Fold1 and 0.1 a Mean absolute Error of 0.1666722 children.\n",
    "On average the predictions differ with a MAE 0.172 of children within a range from 0.84 and 9.22 from \n",
    "the actual values. This is an improvement compared with a MAE of 0.424 generated by the multiple linear\n",
    "regression model. In the next step the random forest model is tried to further improved by tuning \n",
    "hyper-parameters."
   ]
  },
  {
   "cell_type": "code",
   "execution_count": null,
   "metadata": {},
   "outputs": [],
   "source": [
    "dim(gapminder)\n",
    "\n",
    "grid_numtrees_999 <- \n",
    "crossing(num.trees=c(400,500,600)) %>% \n",
    "cross_d()\n",
    "\n",
    "grid_mtry_999 <-\n",
    "crossing(mtry = 1:5)%>% \n",
    "cross_d()\n",
    "\n",
    "grid_both_999 <- \n",
    "cv_data_555 %>%\n",
    "crossing(num_trees=c(400,500,600)) \n",
    "\n",
    "\n",
    "grid_mtry_999\n",
    "grid_numtrees_999 \n",
    "glimpse(grid_both_999)"
   ]
  },
  {
   "cell_type": "code",
   "execution_count": null,
   "metadata": {},
   "outputs": [],
   "source": [
    "grid_both_444 <-\n",
    "grid_both_999 %>% \n",
    "crossing( mtry = 1:5)\n",
    "glimpse(grid_both_444)"
   ]
  },
  {
   "cell_type": "code",
   "execution_count": null,
   "metadata": {},
   "outputs": [],
   "source": [
    "cv_rf_tuned_444 <-\n",
    "grid_both_444 %>%\n",
    "mutate(rf_model_tuned = \n",
    "       pmap(list(.x=mtry, .y=num_trees),~ranger(formula=fertility~., data=training_fold, mtry = .x, num.trees=.y\n",
    "       )))\n",
    "\n",
    "glimpse(cv_rf_tuned_444 )"
   ]
  },
  {
   "cell_type": "code",
   "execution_count": null,
   "metadata": {},
   "outputs": [],
   "source": [
    "\n",
    "for (i in grid_both_444){\n",
    "    grid_both_444 %>% \n",
    "    mutate(rf_model_tuned = map(.x=training_fold ,\n",
    "           .f=~ranger(formula=fertility~., data=.x, mtry = mtry[i], num.trees=num_trees[i])))\n",
    "}\n",
    "glimpse(loop_444 )"
   ]
  },
  {
   "cell_type": "markdown",
   "metadata": {},
   "source": [
    "### Predicting diseases\n",
    "<p>\n",
    "(on the Contagious Disease data set for US states)\n",
    "</p>"
   ]
  },
  {
   "cell_type": "markdown",
   "metadata": {},
   "source": [
    "#### Contagious disease data for US states"
   ]
  },
  {
   "cell_type": "markdown",
   "metadata": {},
   "source": [
    "Yearly counts for Hepatitis A, Measles, Mumps, Pertussis, Polio, Rubella, and Smallpox for US\n",
    "states. Original data courtesy of Tycho Project (http://www.tycho.pitt.edu/)."
   ]
  },
  {
   "cell_type": "code",
   "execution_count": null,
   "metadata": {},
   "outputs": [],
   "source": [
    "data(us_contagious_diseases)\n",
    "head(us_contagious_diseases)"
   ]
  },
  {
   "cell_type": "markdown",
   "metadata": {},
   "source": [
    "Training, test and validation splits"
   ]
  },
  {
   "cell_type": "code",
   "execution_count": null,
   "metadata": {},
   "outputs": [],
   "source": [
    "\n",
    "gap_split_111 <-\n",
    "initial_split(gapminder, prop=0.75)\n",
    "\n",
    "train_111 <- training(gap_split_111)\n",
    "test_111 <- testing(gap_split_111)\n",
    "\n",
    "dim(train_111)\n",
    "dim(test_111)"
   ]
  },
  {
   "cell_type": "code",
   "execution_count": null,
   "metadata": {},
   "outputs": [],
   "source": [
    "set.seed(567)\n",
    "\n",
    "# prepare the initial split object\n",
    "# prop = porportion assigned to traning data\n",
    "\n",
    "us_dis_333 <- initial_split(us_contagious_diseases, prop=0.75)\n",
    "summary(us_dis_333)\n",
    "\n",
    "train_dis_333 <- training(us_dis_333)\n",
    "dim(train_dis_333)\n",
    "test_dis_333 <- testing(us_dis_333)\n",
    "dim(test_dis_333)\n",
    "head(test_dis_333)\n",
    "nrow(test_dis_333)"
   ]
  },
  {
   "cell_type": "markdown",
   "metadata": {},
   "source": [
    "Cross-validation dataframes or folds"
   ]
  },
  {
   "cell_type": "code",
   "execution_count": null,
   "metadata": {},
   "outputs": [],
   "source": [
    "cross_valid_333 <- vfold_cv(train_dis_333, v=5)\n",
    "glimpse(cross_valid_333)\n"
   ]
  },
  {
   "cell_type": "markdown",
   "metadata": {},
   "source": [
    "Divide the cross validated data one step further into training and validation set \n",
    "for every fold."
   ]
  },
  {
   "cell_type": "code",
   "execution_count": null,
   "metadata": {},
   "outputs": [],
   "source": [
    "cross_data_333 <-\n",
    "cross_valid_333 %>% mutate(training_data = map(.x=splits, .f=~training(.x)),\n",
    "                           validation_data = map(.x=splits, .f=~testing(.x)))\n",
    "glimpse(cross_data_333)\n",
    "summary(cross_data_333)"
   ]
  },
  {
   "cell_type": "markdown",
   "metadata": {},
   "source": [
    "Build cross-validated models using <b> multinomial logistic regression </b>"
   ]
  },
  {
   "cell_type": "code",
   "execution_count": null,
   "metadata": {},
   "outputs": [],
   "source": [
    "# Build a model using the train data for each fold of the cross validation\n",
    "#  glm(Survived ~.,family=binomial(link='logit'),data=train)\n",
    "cv_models_lm_333 <- cross_data_333 %>% \n",
    "mutate(model = map(.x=training_data, \n",
    "                   ~multinom(formula = disease ~., data = .x)))\n"
   ]
  },
  {
   "cell_type": "code",
   "execution_count": null,
   "metadata": {},
   "outputs": [],
   "source": [
    "glimpse(cv_models_lm_333)\n",
    "class(cv_models_lm_333)"
   ]
  },
  {
   "cell_type": "markdown",
   "metadata": {},
   "source": [
    "Preparing for evaluation "
   ]
  },
  {
   "cell_type": "code",
   "execution_count": null,
   "metadata": {},
   "outputs": [],
   "source": [
    "cv_prep_333 <- \n",
    "cv_models_lm_333 %>% \n",
    "mutate(validate_actual = \n",
    "       map(.x=validation_data, .f=~.x$disease)) %>%\n",
    "mutate(validate_predicted = map2(.x=model, .y=validation_data, .f=~predict(.x, .y)))\n",
    "\n",
    "glimpse(cv_prep_333)"
   ]
  },
  {
   "cell_type": "code",
   "execution_count": null,
   "metadata": {},
   "outputs": [],
   "source": [
    "cv_prep_df_333 <-\n",
    "cv_prep_333 %>% select(splits, id, validate_actual, validate_predicted) %>% \n",
    "unnest(validate_actual, validate_predicted)\n",
    "\n",
    "cv_prep_df_333 %>% head()\n",
    "cv_prep_df_333 %>% tail()"
   ]
  },
  {
   "cell_type": "markdown",
   "metadata": {},
   "source": [
    "Evaluate model performance "
   ]
  },
  {
   "cell_type": "markdown",
   "metadata": {},
   "source": [
    "Create a contingeny table of predictions and observations (confusion matrix)"
   ]
  },
  {
   "cell_type": "code",
   "execution_count": null,
   "metadata": {},
   "outputs": [],
   "source": [
    "cv_prep_334 <- cv_prep_333 %>% unnest(validate_actual, validate_predicted)\n",
    "\n",
    "table_334 <- \n",
    "table(cv_prep_334$validate_predicted , \n",
    "      cv_prep_334$validate_actual, dnn = c(\"Prediction\",\"Actual\"))\n",
    "\n",
    "table_334\n",
    "# str(table_334)\n",
    "# summary(table_334)"
   ]
  },
  {
   "cell_type": "code",
   "execution_count": null,
   "metadata": {},
   "outputs": [],
   "source": [
    "Hepatitis_cases <-\n",
    "sum(178 , 150 , 261 ,  275 , 278 , 163  , 55)\n",
    "Hepatitis_accuracy <-\n",
    "178 / Hepatitis_cases\n",
    "Hepatitis_cases\n",
    "Hepatitis_accuracy\n",
    "paste(\"Hepatitis A accuracy: \", round(Hepatitis_accuracy*100, 2), \"%\")\n",
    "\n",
    "Polio_cases <-\n",
    "sum(357 , 368 ,  232 , 634 ,  517 , 333 ,  85)\n",
    "Polio_accuracy <-\n",
    "517 / Polio_cases\n",
    "Polio_cases\n",
    "Polio_accuracy\n",
    "paste(\"Polio accuracy: \", round(Polio_accuracy*100, 2), \"%\")"
   ]
  },
  {
   "cell_type": "markdown",
   "metadata": {},
   "source": [
    "Hepatitis A cases were 178 times predicted correctly and 1360 not. It was accurate 0.13 times. \n",
    "The accuracy of prediction for Hepatitis A was therefore not high.\n",
    "The accuracy of Polio is with 20.47 % better but also not satisfying."
   ]
  },
  {
   "cell_type": "markdown",
   "metadata": {},
   "source": [
    "Evaluating the missclassifcation with the mean of differences \n",
    "between actual and observed values, which is the Error Rate or Missclassification Rate"
   ]
  },
  {
   "cell_type": "code",
   "execution_count": null,
   "metadata": {},
   "outputs": [],
   "source": [
    "paste(round(mean(as.character(cv_prep_334$validate_predicted) != as.character(cv_prep_334$validate_actual),\n",
    "      na.rm= TRUE) * 100, 2), \"%\")"
   ]
  },
  {
   "cell_type": "markdown",
   "metadata": {},
   "source": [
    "A misclassification error of 72.2% is probably too high. May be it can be improved by \n",
    "improving the model terms or may be the variables are not as good in explaining the disease. \n",
    "Maybe other ML approaches (like classfication) can solve this problem better."
   ]
  },
  {
   "cell_type": "markdown",
   "metadata": {},
   "source": [
    "Making the confusion matrix with the caret function \"confusionMatrix\""
   ]
  },
  {
   "cell_type": "code",
   "execution_count": null,
   "metadata": {},
   "outputs": [],
   "source": [
    "confusionMatrix(cv_prep_334$validate_predicted, cv_prep_334$validate_actual)"
   ]
  },
  {
   "cell_type": "markdown",
   "metadata": {},
   "source": [
    "Accuracy is 1 - 0.7227 = 0.2773. This is the inverse to the above calculated missclassification\n",
    "error."
   ]
  },
  {
   "cell_type": "code",
   "execution_count": null,
   "metadata": {},
   "outputs": [],
   "source": [
    "1 - 0.7227\n",
    "1 - 0.2773"
   ]
  },
  {
   "cell_type": "markdown",
   "metadata": {},
   "source": [
    "The caret function produces the same result a the base table function, but with enhanced output."
   ]
  },
  {
   "cell_type": "markdown",
   "metadata": {},
   "source": [
    "Computing overall accuracy using frequencies"
   ]
  },
  {
   "cell_type": "code",
   "execution_count": null,
   "metadata": {},
   "outputs": [],
   "source": [
    "p_class_1 <- \n",
    "ifelse(\n",
    "as.character(cv_prep_334$validate_predicted) == as.character(cv_prep_334$validate_actual), \n",
    "1, 0)\n",
    "\n",
    "sum(is.na(p_class_1))\n",
    "\n",
    "p_class_2 <- p_class_1 %>% na.omit()\n",
    "sum(is.na(p_class_2))\n",
    "\n",
    "table(p_class_2)\n",
    "\n",
    "all_diseases = (10126 + 3385)\n",
    "all_diseases\n",
    "prop_correct_pred = 3385 / (10126 + 3385)\n",
    "prop_correct_pred\n",
    "\n"
   ]
  },
  {
   "cell_type": "markdown",
   "metadata": {},
   "source": [
    "Extract model number 5 from cv_models_lm_333 as an example"
   ]
  },
  {
   "cell_type": "code",
   "execution_count": null,
   "metadata": {},
   "outputs": [],
   "source": [
    "summary(cv_models_lm_333$model[[5]] )"
   ]
  },
  {
   "cell_type": "code",
   "execution_count": null,
   "metadata": {},
   "outputs": [],
   "source": []
  }
 ],
 "metadata": {
  "kernelspec": {
   "display_name": "R",
   "language": "R",
   "name": "ir"
  },
  "language_info": {
   "codemirror_mode": "r",
   "file_extension": ".r",
   "mimetype": "text/x-r-source",
   "name": "R",
   "pygments_lexer": "r",
   "version": "3.5.1"
  }
 },
 "nbformat": 4,
 "nbformat_minor": 2
}
